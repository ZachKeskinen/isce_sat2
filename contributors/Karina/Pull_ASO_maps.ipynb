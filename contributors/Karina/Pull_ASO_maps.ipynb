{
 "cells": [
  {
   "cell_type": "markdown",
   "id": "b45c747e-9d01-40df-b64b-998a4449bacf",
   "metadata": {},
   "source": [
    "## Pulling ASO from SnowEx database\n",
    "\n",
    "This code was built from the SnowEx hackweek database tutorial"
   ]
  },
  {
   "cell_type": "markdown",
   "id": "44483106-c210-4a14-aee2-18433d3e8dcc",
   "metadata": {},
   "source": [
    "### Connect to database:"
   ]
  },
  {
   "cell_type": "code",
   "execution_count": 1,
   "id": "d7893085-2243-4d15-bee6-d903ecb44180",
   "metadata": {},
   "outputs": [],
   "source": [
    "# Import the function to get connect to the db\n",
    "from snowexsql.db import get_db\n",
    "\n",
    "# Import our class for the points table\n",
    "from snowexsql.data import ImageData\n",
    "\n",
    "# import this to use define sql functions (e.g. postgis!)\n",
    "from sqlalchemy.sql import func \n",
    "\n",
    "# Import this to convert to a rasterio object for easy plotting\n",
    "from snowexsql.conversions import raster_to_rasterio \n",
    "\n",
    "# Import a convenient function to plot with \n",
    "from rasterio.plot import show\n",
    "\n",
    "# This is what you will use for all of hackweek to access the db\n",
    "db_name = 'snow:hackweek@db.snowexdata.org/snowex'"
   ]
  },
  {
   "cell_type": "code",
   "execution_count": 2,
   "id": "c84f87ad-c9f4-496c-84da-724ef770492c",
   "metadata": {},
   "outputs": [
    {
     "name": "stdout",
     "output_type": "stream",
     "text": [
      "These are the available columns in the table:\n",
      " \n",
      "* date\n",
      "* date_accessed\n",
      "* description\n",
      "* doi\n",
      "* instrument\n",
      "* metadata\n",
      "* observers\n",
      "* raster\n",
      "* registry\n",
      "* site_name\n",
      "* time_created\n",
      "* time_updated\n",
      "* type\n",
      "* units\n",
      "\n"
     ]
    }
   ],
   "source": [
    "# Import the function to investigate a table\n",
    "from snowexsql.db import get_table_attributes\n",
    "\n",
    "# Use the function to see what columns are available to use. \n",
    "db_columns = get_table_attributes(ImageData)\n",
    "\n",
    "# Print out the results nicely\n",
    "print(\"These are the available columns in the table:\\n \\n* {}\\n\".format('\\n* '.join(db_columns)))"
   ]
  },
  {
   "cell_type": "markdown",
   "id": "44e3b54c-5f1b-4ead-ac78-7029d3330190",
   "metadata": {},
   "source": [
    "### What to filter?"
   ]
  },
  {
   "cell_type": "code",
   "execution_count": 3,
   "id": "9b7bdd6a-3ebb-43d2-93c2-b37a3114ce28",
   "metadata": {},
   "outputs": [
    {
     "name": "stdout",
     "output_type": "stream",
     "text": [
      "Available types = swe, DEM, insar amplitude, insar correlation, depth, insar interferogram real, insar interferogram imaginary\n",
      "\n",
      "Available Instruments = UAVSAR, L-band InSAR, lidar\n",
      "\n",
      "Available Dates = 2020-02-13, None, 2020-02-21, 2020-02-12, 2020-01-31, 2020-02-01, 2020-02-02, 2020-03-11\n",
      "\n",
      "Available sites = None, idaho, Grand Mesa\n"
     ]
    }
   ],
   "source": [
    "# This is what you will use for all of hackweek to access the db\n",
    "engine, session = get_db(db_name)\n",
    "\n",
    "# Get the unique datanames in the table\n",
    "results = session.query(ImageData.type).distinct().all()\n",
    "print('Available types = {}'.format(', '.join([r[0] for r in results])))\n",
    "\n",
    "# Get the unique instrument in the table\n",
    "results = session.query(ImageData.instrument).distinct().all()\n",
    "print('\\nAvailable Instruments = {}'.format(', '.join([str(r[0]) for r in results])))\n",
    "\n",
    "# Get the unique dates in the table\n",
    "results = session.query(ImageData.date).distinct().all()\n",
    "print('\\nAvailable Dates = {}'.format(', '.join([str(r[0]) for r in results])))\n",
    "\n",
    "# Get the unique sites in the table\n",
    "results = session.query(ImageData.site_name).distinct().all()\n",
    "print('\\nAvailable sites = {}'.format(', '.join([str(r[0]) for r in results])))\n",
    "\n",
    "session.close()"
   ]
  },
  {
   "cell_type": "markdown",
   "id": "a40f5b4d-b513-4946-addc-43cf7340752e",
   "metadata": {},
   "source": [
    "### Query"
   ]
  },
  {
   "cell_type": "code",
   "execution_count": null,
   "id": "a233b1f0-a26f-4702-a3fb-a15c9aeb3cae",
   "metadata": {},
   "outputs": [],
   "source": [
    "# import the handy function to convert raster db results to rasterio\n",
    "from snowexsql.conversions import raster_to_rasterio\n",
    "\n",
    "# Import the SQL function to access PostGIS functions\n",
    "from sqlalchemy.sql import func\n",
    "\n",
    "# Import rasterio for Writing\n",
    "import rasterio \n",
    "\n",
    "# Grab a session\n",
    "engine, session = get_db(db_name)\n",
    "\n",
    "# Query 1 raster tile and convert it to a geotiff\n",
    "result = session.query(func.ST_AsTiff(ImageData.raster)).limit(1).all()\n",
    "\n",
    "# Convert the dataset to a rasterio dataset\n",
    "dataset = raster_to_rasterio(session, result)\n",
    "\n",
    "# Copy the profile/tiff metadata (not to be confused with the database metadata)\n",
    "profile = dataset[0].profile\n",
    "\n",
    "# Write to a file \n",
    "with rasterio.open('raster.tif', 'w', **profile) as dst:\n",
    "    dst.write(dataset[0].read(1), 1)\n",
    "\n",
    "session.close()"
   ]
  },
  {
   "cell_type": "code",
   "execution_count": null,
   "id": "f01be7c3-58f4-4270-addd-e20eb9660b78",
   "metadata": {},
   "outputs": [],
   "source": []
  },
  {
   "cell_type": "code",
   "execution_count": null,
   "id": "63e46c82-d2f0-4dda-87f4-ff98139789da",
   "metadata": {},
   "outputs": [],
   "source": []
  },
  {
   "cell_type": "code",
   "execution_count": null,
   "id": "b45befd9-955a-4fbe-bf95-77cbff0a89ef",
   "metadata": {},
   "outputs": [],
   "source": []
  }
 ],
 "metadata": {
  "kernelspec": {
   "display_name": "Python 3 (ipykernel)",
   "language": "python",
   "name": "python3"
  },
  "language_info": {
   "codemirror_mode": {
    "name": "ipython",
    "version": 3
   },
   "file_extension": ".py",
   "mimetype": "text/x-python",
   "name": "python",
   "nbconvert_exporter": "python",
   "pygments_lexer": "ipython3",
   "version": "3.10.5"
  }
 },
 "nbformat": 4,
 "nbformat_minor": 5
}
