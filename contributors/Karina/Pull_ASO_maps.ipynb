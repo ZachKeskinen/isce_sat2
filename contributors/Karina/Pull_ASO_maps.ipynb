{
 "cells": [
  {
   "cell_type": "markdown",
   "id": "b45c747e-9d01-40df-b64b-998a4449bacf",
   "metadata": {},
   "source": [
    "## Pulling ASO from SnowEx database\n",
    "\n",
    "This code was built from the SnowEx hackweek database tutorial"
   ]
  },
  {
   "cell_type": "markdown",
   "id": "44483106-c210-4a14-aee2-18433d3e8dcc",
   "metadata": {},
   "source": [
    "### Import stuff to work with database and rasters:"
   ]
  },
  {
   "cell_type": "code",
   "execution_count": null,
   "id": "d7893085-2243-4d15-bee6-d903ecb44180",
   "metadata": {},
   "outputs": [],
   "source": [
    "# Import the function to get connect to the db\n",
    "from snowexsql.db import get_db\n",
    "\n",
    "# Import our class for the points table\n",
    "from snowexsql.data import ImageData\n",
    "\n",
    "# import this to use define sql functions (e.g. postgis!)\n",
    "from sqlalchemy.sql import func \n",
    "\n",
    "# Import this to convert to a rasterio object for easy plotting\n",
    "from snowexsql.conversions import raster_to_rasterio \n",
    "\n",
    "# Import a convenient function to plot with \n",
    "from rasterio.plot import show\n",
    "\n",
    "# Import\n",
    "from geoalchemy2.types import Raster\n",
    "import geoalchemy2.functions as gfunc\n",
    "\n",
    "import geopandas as gpd\n",
    "\n",
    "# This is what you will use for all of hackweek to access the db\n",
    "db_name = 'snow:hackweek@db.snowexdata.org/snowex'"
   ]
  },
  {
   "cell_type": "code",
   "execution_count": 2,
   "id": "c84f87ad-c9f4-496c-84da-724ef770492c",
   "metadata": {},
   "outputs": [
    {
     "name": "stdout",
     "output_type": "stream",
     "text": [
      "These are the available columns in the table:\n",
      " \n",
      "* date\n",
      "* date_accessed\n",
      "* description\n",
      "* doi\n",
      "* instrument\n",
      "* metadata\n",
      "* observers\n",
      "* raster\n",
      "* registry\n",
      "* site_name\n",
      "* time_created\n",
      "* time_updated\n",
      "* type\n",
      "* units\n",
      "\n"
     ]
    }
   ],
   "source": [
    "# Import the function to investigate a table\n",
    "from snowexsql.db import get_table_attributes\n",
    "\n",
    "# Use the function to see what columns are available to use. \n",
    "db_columns = get_table_attributes(ImageData)\n",
    "\n",
    "# Print out the results nicely\n",
    "print(\"These are the available columns in the table:\\n \\n* {}\\n\".format('\\n* '.join(db_columns)))"
   ]
  },
  {
   "cell_type": "markdown",
   "id": "44e3b54c-5f1b-4ead-ac78-7029d3330190",
   "metadata": {},
   "source": [
    "### What to filter?"
   ]
  },
  {
   "cell_type": "code",
   "execution_count": 3,
   "id": "9b7bdd6a-3ebb-43d2-93c2-b37a3114ce28",
   "metadata": {},
   "outputs": [
    {
     "name": "stdout",
     "output_type": "stream",
     "text": [
      "Available types = swe, DEM, insar amplitude, insar correlation, depth, insar interferogram real, insar interferogram imaginary\n",
      "\n",
      "Available Instruments = UAVSAR, L-band InSAR, lidar\n",
      "\n",
      "Available Dates = 2020-02-13, None, 2020-02-21, 2020-02-12, 2020-01-31, 2020-02-01, 2020-02-02, 2020-03-11\n",
      "\n",
      "Available sites = None, idaho, Grand Mesa\n"
     ]
    }
   ],
   "source": [
    "# This is what you will use for all of hackweek to access the db\n",
    "engine, session = get_db(db_name)\n",
    "\n",
    "# Get the unique datanames in the table\n",
    "results = session.query(ImageData.type).distinct().all()\n",
    "print('Available types = {}'.format(', '.join([r[0] for r in results])))\n",
    "\n",
    "# Get the unique instrument in the table\n",
    "results = session.query(ImageData.instrument).distinct().all()\n",
    "print('\\nAvailable Instruments = {}'.format(', '.join([str(r[0]) for r in results])))\n",
    "\n",
    "# Get the unique dates in the table\n",
    "results = session.query(ImageData.date).distinct().all()\n",
    "print('\\nAvailable Dates = {}'.format(', '.join([str(r[0]) for r in results])))\n",
    "\n",
    "# Get the unique sites in the table\n",
    "results = session.query(ImageData.site_name).distinct().all()\n",
    "print('\\nAvailable sites = {}'.format(', '.join([str(r[0]) for r in results])))\n",
    "\n",
    "session.close()"
   ]
  },
  {
   "cell_type": "markdown",
   "id": "a40f5b4d-b513-4946-addc-43cf7340752e",
   "metadata": {},
   "source": [
    "### Query"
   ]
  },
  {
   "cell_type": "code",
   "execution_count": null,
   "id": "a233b1f0-a26f-4702-a3fb-a15c9aeb3cae",
   "metadata": {},
   "outputs": [],
   "source": [
    "# Read in shapefile\n",
    "#shp = gpd.read_file(\n",
    "\n",
    "# Grab a session\n",
    "engine, session = get_db(db_name)\n",
    "\n",
    "# 3. Merge all the tiles together, note gfunc vs func. This is because ST_Union exists in two places in postgis for geom and rasters!\n",
    "base = gfunc.ST_Union(ImageData.raster, _type=Raster)\n",
    "\n",
    "# 4. Get the merged result as a geotiff! \n",
    "base = func.ST_AsTiff(base)\n",
    "\n",
    "# 5. Filter by lidar data\n",
    "qry = session.query(base).filter(ImageData.instrument == 'lidar')\n",
    "\n",
    "# 7. Get rasters within shapefile\n",
    "#qry = qry.filter(func.ST_Within(SiteData.geom, shp))\n",
    "\n",
    "print(qry.count())\n",
    "\n",
    "# 8. Execute, convert and plot! \n",
    "result = qry.all()\n",
    "datasets = raster_to_rasterio(session, result)\n",
    "show(datasets[0], vmin=-0.02, vmax=0.02, cmap='Purples')\n",
    "\n",
    "session.close()\n",
    "\n"
   ]
  },
  {
   "cell_type": "code",
   "execution_count": 9,
   "id": "f01be7c3-58f4-4270-addd-e20eb9660b78",
   "metadata": {},
   "outputs": [
    {
     "name": "stderr",
     "output_type": "stream",
     "text": [
      "/tmp/ipykernel_3854/3017861645.py:15: SAWarning: UserDefinedType Geometry(geometry_type='POINT') will not produce a cache key because the ``cache_ok`` attribute is not set to True.  This can have significant performance implications including some performance degradations in comparison to prior SQLAlchemy versions.  Set this attribute to True if this type object's state is safe to use in a cache key, or False to disable this warning. (Background on this error at: https://sqlalche.me/e/14/cprf)\n",
      "  point = session.query(SiteData.geom).filter(SiteData.site_id == site_id).distinct().all()[0][0]\n"
     ]
    },
    {
     "name": "stdout",
     "output_type": "stream",
     "text": [
      "1\n"
     ]
    },
    {
     "data": {
      "image/png": "[encoded data removed]",
      "text/plain": [
       "<Figure size 432x288 with 1 Axes>"
      ]
     },
     "metadata": {
      "needs_background": "light"
     },
     "output_type": "display_data"
    }
   ],
   "source": [
    "# import our pits metadata table class\n",
    "from snowexsql.data import SiteData\n",
    "from geoalchemy2.types import Raster\n",
    "import geoalchemy2.functions as gfunc\n",
    "\n",
    "# Grab a session\n",
    "engine, session = get_db(db_name)\n",
    "\n",
    "# session.rollback()\n",
    "\n",
    "# 1. Lets choose a site we want to grab a raster tile\n",
    "site_id = '5S31'\n",
    "\n",
    "# 2. Get the location of the pit, POSTGIS functions like to work in the text format of things so convert the point geom to text which is also in binary in the db   \n",
    "point = session.query(SiteData.geom).filter(SiteData.site_id == site_id).distinct().all()[0][0]\n",
    "\n",
    "# 3. Merge all the tiles together, note gfunc vs func. This is because ST_Union exists in two places in postgis for geom and rasters!\n",
    "base = gfunc.ST_Union(ImageData.raster, _type=Raster)\n",
    "\n",
    "# 4. Get the merged result as a geotiff! \n",
    "base = func.ST_AsTiff(base)\n",
    "\n",
    "# 5. Filter by lidar data\n",
    "qry = session.query(base).filter(ImageData.type == 'DEM')\n",
    "\n",
    "# 7. Isolate tiles touching the pit location\n",
    "qry = qry.filter(func.ST_Intersects(ImageData.raster, point))\n",
    "\n",
    "print(qry.count())\n",
    "\n",
    "# 8. Execute, convert and plot! \n",
    "result = qry.all()\n",
    "datasets = raster_to_rasterio(session, result)\n",
    "show(datasets[0], vmin=-0.02, vmax=0.02, cmap='Purples')\n",
    "\n",
    "session.close()"
   ]
  },
  {
   "cell_type": "code",
   "execution_count": null,
   "id": "63e46c82-d2f0-4dda-87f4-ff98139789da",
   "metadata": {},
   "outputs": [],
   "source": []
  },
  {
   "cell_type": "code",
   "execution_count": null,
   "id": "b45befd9-955a-4fbe-bf95-77cbff0a89ef",
   "metadata": {},
   "outputs": [],
   "source": []
  }
 ],
 "metadata": {
  "kernelspec": {
   "display_name": "Python 3 (ipykernel)",
   "language": "python",
   "name": "python3"
  },
  "language_info": {
   "codemirror_mode": {
    "name": "ipython",
    "version": 3
   },
   "file_extension": ".py",
   "mimetype": "text/x-python",
   "name": "python",
   "nbconvert_exporter": "python",
   "pygments_lexer": "ipython3",
   "version": "3.10.5"
  }
 },
 "nbformat": 4,
 "nbformat_minor": 5
}
