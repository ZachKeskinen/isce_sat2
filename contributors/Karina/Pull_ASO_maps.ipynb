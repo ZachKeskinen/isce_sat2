{
 "cells": [
  {
   "cell_type": "markdown",
   "id": "b45c747e-9d01-40df-b64b-998a4449bacf",
   "metadata": {},
   "source": [
    "## Pulling ASO from SnowEx database\n",
    "\n",
    "This code was built from the SnowEx hackweek database tutorial"
   ]
  },
  {
   "cell_type": "markdown",
   "id": "44483106-c210-4a14-aee2-18433d3e8dcc",
   "metadata": {},
   "source": [
    "### Import stuff to work with database and rasters:"
   ]
  },
  {
   "cell_type": "code",
   "execution_count": 1,
   "id": "d7893085-2243-4d15-bee6-d903ecb44180",
   "metadata": {},
   "outputs": [],
   "source": [
    "# Import the function to get connect to the db\n",
    "from snowexsql.db import get_db\n",
    "\n",
    "# Import our class for the points table\n",
    "from snowexsql.data import ImageData\n",
    "\n",
    "# import this to use define sql functions (e.g. postgis!)\n",
    "from sqlalchemy.sql import func \n",
    "\n",
    "# Import this to convert to a rasterio object for easy plotting\n",
    "from snowexsql.conversions import raster_to_rasterio \n",
    "\n",
    "# Import a convenient function to plot with \n",
    "from rasterio.plot import show\n",
    "\n",
    "# Import\n",
    "from geoalchemy2.types import Raster\n",
    "import geoalchemy2.functions as gfunc\n",
    "\n",
    "import geopandas as gpd\n",
    "import matplotlib.pyplot as plt\n",
    "\n",
    "from sqlalchemy.sql import func\n",
    "import shapely.geometry\n",
    "from geoalchemy2.shape import from_shape\n",
    "import geoalchemy2.functions as gfunc\n",
    "\n",
    "# This is what you will use for all of hackweek to access the db\n",
    "db_name = 'snow:hackweek@db.snowexdata.org/snowex'"
   ]
  },
  {
   "cell_type": "code",
   "execution_count": 2,
   "id": "c84f87ad-c9f4-496c-84da-724ef770492c",
   "metadata": {},
   "outputs": [
    {
     "name": "stdout",
     "output_type": "stream",
     "text": [
      "These are the available columns in the table:\n",
      " \n",
      "* date\n",
      "* date_accessed\n",
      "* description\n",
      "* doi\n",
      "* instrument\n",
      "* metadata\n",
      "* observers\n",
      "* raster\n",
      "* registry\n",
      "* site_name\n",
      "* time_created\n",
      "* time_updated\n",
      "* type\n",
      "* units\n",
      "\n"
     ]
    }
   ],
   "source": [
    "# Import the function to investigate a table\n",
    "from snowexsql.db import get_table_attributes\n",
    "\n",
    "# Use the function to see what columns are available to use. \n",
    "db_columns = get_table_attributes(ImageData)\n",
    "\n",
    "# Print out the results nicely\n",
    "print(\"These are the available columns in the table:\\n \\n* {}\\n\".format('\\n* '.join(db_columns)))"
   ]
  },
  {
   "cell_type": "markdown",
   "id": "44e3b54c-5f1b-4ead-ac78-7029d3330190",
   "metadata": {},
   "source": [
    "### What to filter?"
   ]
  },
  {
   "cell_type": "code",
   "execution_count": null,
   "id": "9b7bdd6a-3ebb-43d2-93c2-b37a3114ce28",
   "metadata": {},
   "outputs": [],
   "source": [
    "# This is what you will use for all of hackweek to access the db\n",
    "engine, session = get_db(db_name)\n",
    "\n",
    "# Get the unique datanames in the table\n",
    "results = session.query(ImageData.type).distinct().all()\n",
    "print('Available types = {}'.format(', '.join([r[0] for r in results])))\n",
    "\n",
    "# Get the unique instrument in the table\n",
    "results = session.query(ImageData.instrument).distinct().all()\n",
    "print('\\nAvailable Instruments = {}'.format(', '.join([str(r[0]) for r in results])))\n",
    "\n",
    "# Get the unique dates in the table\n",
    "results = session.query(ImageData.date).distinct().all()\n",
    "print('\\nAvailable Dates = {}'.format(', '.join([str(r[0]) for r in results])))\n",
    "\n",
    "# Get the unique sites in the table\n",
    "results = session.query(ImageData.site_name).distinct().all()\n",
    "print('\\nAvailable sites = {}'.format(', '.join([str(r[0]) for r in results])))\n",
    "\n",
    "# Get the unique surveyors in the table\n",
    "results = session.query(ImageData.observers).distinct().all()\n",
    "print('\\nAvailable surveyors = {}'.format(', '.join([str(r[0]) for r in results])))\n",
    "\n",
    "session.close()"
   ]
  },
  {
   "cell_type": "markdown",
   "id": "a40f5b4d-b513-4946-addc-43cf7340752e",
   "metadata": {},
   "source": [
    "### Query"
   ]
  },
  {
   "cell_type": "code",
   "execution_count": null,
   "id": "a233b1f0-a26f-4702-a3fb-a15c9aeb3cae",
   "metadata": {},
   "outputs": [],
   "source": [
    "# Read in shapefile\n",
    "# shp = gpd.read_file('~/Study_sites/Study-sites.shp')\n",
    "\n",
    "## From Mia: \n",
    "#snagged these from somewhere (sliderule GM notebook?), but would replace\n",
    "#with bounds from uavsar rasters/elsewhere\n",
    "gm_bds = [(39.34603060272382, -108.40601489205419),\n",
    "          (39.32770853617356, -107.68485163209928),\n",
    "          (39.32770853617356, -107.68485163209928),\n",
    "          (38.788639821001155, -108.42635020791396),\n",
    "          (39.34603060272382, -108.40601489205419)]\n",
    "gm_poly = shapely.geometry.Polygon(gm_bds)\n",
    "#converting shapefile to srid 26912 (UTM 12N) for db querying:\n",
    "import pyproj\n",
    "from shapely.ops import transform\n",
    "wgs84 = pyproj.CRS('EPSG:4326')\n",
    "utm = pyproj.CRS('EPSG:26912')\n",
    "project = pyproj.Transformer.from_crs(wgs84, utm, always_xy=True).transform\n",
    "utm_poly = transform(project, gm_poly)\n",
    "# wkb_element = from_shape(utm_poly, srid=26912)\n",
    "#basic bbox, since not getting anything w/ complex polygon object:\n",
    "#(count = 0) after query\n",
    "w,s,e,n= -108.42635020791396, 38.788639821001155, -107.68485163209928, 39.34603060272382\n",
    "bbox = shapely.geometry.Polygon([[w, s], [w, n], [e, n], [e, s]])\n",
    "bbox = transform(project, bbox)\n",
    "bbox_wkb = from_shape(bbox, srid=26912)\n",
    "##\n",
    "\n",
    "\n",
    "# Grab a session\n",
    "engine, session = get_db(db_name)\n",
    "\n",
    "# 3. Merge all the tiles together, note gfunc vs func. This is because ST_Union exists in two places in postgis for geom and rasters!\n",
    "base = gfunc.ST_Union(ImageData.raster, _type=Raster)\n",
    "\n",
    "# 4. Get the merged result as a geotiff! \n",
    "base = func.ST_AsTiff(base)\n",
    "\n",
    "# 5. Filter by lidar data\n",
    "qry = session.query(base).filter(ImageData.type == 'DEM')\n",
    "\n",
    "# 7. Get rasters within shapefile\n",
    "qry = session.query(func.ST_Clip(ImageData.raster, bbox_wkb))\n",
    "\n",
    "print(qry.count())\n",
    "\n",
    "# 8. Execute, convert and plot! \n",
    "result = qry.all()\n",
    "datasets = raster_to_rasterio(session, result)\n",
    "show(datasets[0], cmap='Purples')\n",
    "\n",
    "session.close()\n",
    "\n"
   ]
  },
  {
   "cell_type": "code",
   "execution_count": null,
   "id": "f01be7c3-58f4-4270-addd-e20eb9660b78",
   "metadata": {},
   "outputs": [],
   "source": [
    "# import our pits metadata table class\n",
    "from snowexsql.data import SiteData\n",
    "from geoalchemy2.types import Raster\n",
    "import geoalchemy2.functions as gfunc\n",
    "\n",
    "# Grab a session\n",
    "engine, session = get_db(db_name)\n",
    "\n",
    "# session.rollback()\n",
    "\n",
    "# 1. Lets choose a site we want to grab a raster tile\n",
    "site_id = '5S31'\n",
    "\n",
    "# 2. Get the location of the pit, POSTGIS functions like to work in the text format of things so convert the point geom to text which is also in binary in the db   \n",
    "point = session.query(SiteData.geom).filter(SiteData.site_id == site_id).distinct().all()[0][0]\n",
    "\n",
    "# 3. Merge all the tiles together, note gfunc vs func. This is because ST_Union exists in two places in postgis for geom and rasters!\n",
    "base = gfunc.ST_Union(ImageData.raster, _type=Raster)\n",
    "\n",
    "# 4. Get the merged result as a geotiff! \n",
    "base = func.ST_AsTiff(base)\n",
    "\n",
    "# 5. Filter by lidar data\n",
    "qry = session.query(base).filter(ImageData.type == 'DEM')\n",
    "\n",
    "# 7. Isolate tiles touching the pit location\n",
    "qry = qry.filter(func.ST_Intersects(ImageData.raster, point))\n",
    "\n",
    "print(qry.count())\n",
    "\n",
    "# 8. Execute, convert and plot! \n",
    "result = qry.all()\n",
    "datasets = raster_to_rasterio(session, result)\n",
    "show(datasets[0], cmap='Purples')\n",
    "#plt.colorbar()\n",
    "\n",
    "session.close()"
   ]
  },
  {
   "cell_type": "code",
   "execution_count": null,
   "id": "63e46c82-d2f0-4dda-87f4-ff98139789da",
   "metadata": {},
   "outputs": [],
   "source": [
    "datasets[0].read()"
   ]
  },
  {
   "cell_type": "code",
   "execution_count": null,
   "id": "b45befd9-955a-4fbe-bf95-77cbff0a89ef",
   "metadata": {},
   "outputs": [],
   "source": []
  }
 ],
 "metadata": {
  "kernelspec": {
   "display_name": "Python 3 (ipykernel)",
   "language": "python",
   "name": "python3"
  },
  "language_info": {
   "codemirror_mode": {
    "name": "ipython",
    "version": 3
   },
   "file_extension": ".py",
   "mimetype": "text/x-python",
   "name": "python",
   "nbconvert_exporter": "python",
   "pygments_lexer": "ipython3",
   "version": "3.10.5"
  }
 },
 "nbformat": 4,
 "nbformat_minor": 5
}
