{
 "cells": [
  {
   "cell_type": "code",
   "execution_count": 7,
   "metadata": {},
   "outputs": [],
   "source": [
    "import pickle\n",
    "import os\n",
    "from sliderule import icesat2\n",
    "import geopandas as gpd"
   ]
  },
  {
   "cell_type": "code",
   "execution_count": 8,
   "metadata": {},
   "outputs": [],
   "source": [
    "def download_icesat2(poly_dict, directory='/tmp/is2', conf=2, length=100.0, res=50.0):\n",
    "    os.makedirs(directory, exist_ok=True)\n",
    "    icesat2.init(\"icesat2sliderule.org\", verbose=False)\n",
    "    for name,poly in poly_dict.items():\n",
    "        res = gpd.GeoDataFrame()\n",
    "        for conf in range(2,5):\n",
    "            parms = {\"poly\": poly,\n",
    "            \"srt\": icesat2.SRT_LAND,\n",
    "            \"atl08_class\": \"atl08_ground\",\n",
    "            \"cnf\": [conf],\n",
    "            \"len\": length,\n",
    "            \"res\": res,\n",
    "            \"maxi\": 1,\n",
    "            \"t0\":'2018-10-01T00:00:00Z',\n",
    "            \"t1\":'2022-04-30T00:00:00Z'}\n",
    "            rsps = icesat2.atl06p(parms)\n",
    "            rsps['confidence'] = conf\n",
    "            res = res.append(rsps)\n",
    "    res.to_file(os.path.join(directory,f'{name}_atl06sr.geojson'))            "
   ]
  },
  {
   "cell_type": "code",
   "execution_count": 3,
   "metadata": {},
   "outputs": [],
   "source": [
    "with open('/Users/zachkeskinen/Documents/isce_sat2/data/bounds.pkl', 'rb') as f:\n",
    "    bounds = pickle.load(f)"
   ]
  },
  {
   "cell_type": "code",
   "execution_count": 5,
   "metadata": {},
   "outputs": [
    {
     "name": "stdout",
     "output_type": "stream",
     "text": [
      "Utica, MT\n",
      "POLYGON ((-109.69488600000001 46.4087124, -109.69488600000001 47.27761524, -110.55389916 47.27761524, -110.55389916 46.4087124, -109.69488600000001 46.4087124))\n",
      "Eldorado National Forest, CA\n",
      "POLYGON ((-119.95015080000002 38.627478839999995, -119.95015080000002 39.681340920000004, -120.62731608000001 39.681340920000004, -120.62731608000001 38.627478839999995, -119.95015080000002 38.627478839999995))\n",
      "Donner Memorial State Park, CA\n",
      "POLYGON ((-120.10977468000002 39.02751083999999, -120.10977468000002 39.56438712, -120.67970916 39.56438712, -120.67970916 39.02751083999999, -120.10977468000002 39.02751083999999))\n",
      "Rocky Mountains NP, CO\n",
      "POLYGON ((-105.58505724000001 40.26577655999999, -105.58505724000001 40.73692536, -106.09587588000001 40.73692536, -106.09587588000001 40.26577655999999, -105.58505724000001 40.26577655999999))\n",
      "Grand Mesa, CO\n",
      "POLYGON ((-107.91124332000001 38.925224879999995, -107.91124332000001 39.19013496, -108.30044112 39.19013496, -108.30044112 38.925224879999995, -107.91124332000001 38.925224879999995))\n",
      "Sierra National Forest, CA\n",
      "POLYGON ((-118.74711012000002 37.06007567999999, -118.74711012000002 37.83391536, -119.08741512 37.83391536, -119.08741512 37.06007567999999, -118.74711012000002 37.06007567999999))\n",
      "Fraser, CO\n",
      "POLYGON ((-105.39882012000001 39.71612148, -105.39882012000001 40.200826920000004, -106.01475828000001 40.200826920000004, -106.01475828000001 39.71612148, -105.39882012000001 39.71612148))\n",
      "Peeler Peak, CO\n",
      "POLYGON ((-106.72037028000001 38.778490919999996, -106.72037028000001 39.17557824, -107.15479392 39.17557824, -107.15479392 38.778490919999996, -106.72037028000001 38.778490919999996))\n",
      "Silver City, ID\n",
      "POLYGON ((-116.55637932000002 42.948380039999996, -116.55637932000002 43.374080760000005, -116.93724312 43.374080760000005, -116.93724312 42.948380039999996, -116.55637932000002 42.948380039999996))\n",
      "Ironton, CO\n",
      "POLYGON ((-107.55488148 37.66034591999999, -107.55488148 38.12593872, -107.9139102 38.12593872, -107.9139102 37.66034591999999, -107.55488148 37.66034591999999))\n",
      "Los Alamos, NM\n",
      "POLYGON ((-106.30805952000001 35.714134679999994, -106.30805952000001 36.06499608, -106.56535788000001 36.06499608, -106.56535788000001 35.714134679999994, -106.30805952000001 35.714134679999994))\n",
      "Lowman, CO\n",
      "POLYGON ((-114.84435348000002 43.55342844, -114.84435348000002 44.512171800000004, -116.32236060000001 44.512171800000004, -116.32236060000001 43.55342844, -114.84435348000002 43.55342844))\n",
      "Salt Lake City, UT\n",
      "POLYGON ((-111.53192184000001 40.43706803999999, -111.53192184000001 40.7071452, -111.91761936 40.7071452, -111.91761936 40.43706803999999, -111.53192184000001 40.43706803999999))\n"
     ]
    }
   ],
   "source": [
    "for loc, bbox in bounds.items():\n",
    "    print(loc)\n",
    "    print(bbox)"
   ]
  },
  {
   "cell_type": "code",
   "execution_count": null,
   "metadata": {},
   "outputs": [],
   "source": []
  }
 ],
 "metadata": {
  "kernelspec": {
   "display_name": "Python 3.9.13 ('icesat')",
   "language": "python",
   "name": "python3"
  },
  "language_info": {
   "codemirror_mode": {
    "name": "ipython",
    "version": 3
   },
   "file_extension": ".py",
   "mimetype": "text/x-python",
   "name": "python",
   "nbconvert_exporter": "python",
   "pygments_lexer": "ipython3",
   "version": "3.9.13"
  },
  "orig_nbformat": 4,
  "vscode": {
   "interpreter": {
    "hash": "426c8de2d818187a865f7e7487c587488e26de4221b5d424e86f4d04a487c8b9"
   }
  }
 },
 "nbformat": 4,
 "nbformat_minor": 2
}
