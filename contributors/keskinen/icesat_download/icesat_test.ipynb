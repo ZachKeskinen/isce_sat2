{
 "cells": [
  {
   "cell_type": "code",
   "execution_count": 1,
   "metadata": {},
   "outputs": [],
   "source": [
    "from sliderule import icesat2\n",
    "import matplotlib.pyplot as plt\n",
    "import numpy as np\n",
    "import geopandas as gpd\n",
    "import contextily as cx\n",
    "import os\n",
    "import warnings\n",
    "import pickle \n",
    "\n",
    "warnings.simplefilter(action='ignore', category=FutureWarning)\n",
    "\n",
    "    \n",
    "def download_icesat2(poly_dict, directory='/tmp/is2', length=100.0, res=50.0, verbose=False, confidence = False):\n",
    "    os.makedirs(directory, exist_ok=True)\n",
    "    icesat2.init(\"icesat2sliderule.org\", verbose=verbose)\n",
    "    for name, poly in poly_dict.items():\n",
    "        out_fp = os.path.join(directory,f'{name}_atl06sr.pkl')\n",
    "        if not os.path.exists(out_fp):\n",
    "            print(f'Starting on {name}'.center(50, '-'))\n",
    "            #temp- convert shapefile to geojson\n",
    "            # poly = gpd.read_file(poly).geometry.exterior\n",
    "            # print(poly.head())# poly=gpd.read_file(poly).to_file('myshpfile.geojson', driver='GeoJSON')\n",
    "            poly = icesat2.toregion(gpd.GeoDataFrame([poly], index = [0], columns = ['geometry']))[0]\n",
    "            result = gpd.GeoDataFrame()\n",
    "            conf_range = range(2,5)\n",
    "            if not confidence:\n",
    "                conf_range = [4]\n",
    "            for conf in conf_range:\n",
    "                parms = {\"poly\": poly,\n",
    "                \"srt\": icesat2.SRT_LAND,\n",
    "                \"atl08_class\": \"atl08_ground\",\n",
    "                \"cnf\": [conf],\n",
    "                \"len\": length,\n",
    "                \"res\": res,\n",
    "                \"maxi\": 1,\n",
    "                \"t0\":'2018-10-01T00:00:00Z',\n",
    "                \"t1\":'2022-04-30T00:00:00Z'}\n",
    "                rsps = icesat2.atl06p(parms)\n",
    "                rsps['confidence'] = conf\n",
    "                result = result.append(rsps)\n",
    "            name = name.replace(' ','')\n",
    "            name = name.replace(',','')\n",
    "\n",
    "            with open(out_fp, 'wb') as f:\n",
    "                pickle.dump(result, f)\n",
    "        else:\n",
    "            print(f'{name} already exists. Skipping...')\n",
    "                        "
   ]
  },
  {
   "cell_type": "code",
   "execution_count": 2,
   "metadata": {},
   "outputs": [
    {
     "name": "stdout",
     "output_type": "stream",
     "text": [
      "Utica, MT already exists. Skipping...\n",
      "Eldorado National Forest, CA already exists. Skipping...\n",
      "Donner Memorial State Park, CA already exists. Skipping...\n",
      "Rocky Mountains NP, CO already exists. Skipping...\n",
      "Grand Mesa, CO already exists. Skipping...\n",
      "Sierra National Forest, CA already exists. Skipping...\n",
      "Fraser, CO already exists. Skipping...\n",
      "Peeler Peak, CO already exists. Skipping...\n",
      "Silver City, ID already exists. Skipping...\n",
      "Ironton, CO already exists. Skipping...\n",
      "Los Alamos, NM already exists. Skipping...\n",
      "Lowman, CO already exists. Skipping...\n",
      "Salt Lake City, UT already exists. Skipping...\n",
      "Utica, MT already exists. Skipping...\n",
      "Eldorado National Forest, CA already exists. Skipping...\n",
      "Donner Memorial State Park, CA already exists. Skipping...\n",
      "Rocky Mountains NP, CO already exists. Skipping...\n",
      "Grand Mesa, CO already exists. Skipping...\n",
      "Sierra National Forest, CA already exists. Skipping...\n",
      "Fraser, CO already exists. Skipping...\n",
      "Peeler Peak, CO already exists. Skipping...\n",
      "Silver City, ID already exists. Skipping...\n",
      "Ironton, CO already exists. Skipping...\n",
      "Los Alamos, NM already exists. Skipping...\n",
      "--------------Starting on Lowman, CO--------------\n"
     ]
    },
    {
     "ename": "KeyboardInterrupt",
     "evalue": "",
     "output_type": "error",
     "traceback": [
      "\u001b[0;31m---------------------------------------------------------------------------\u001b[0m",
      "\u001b[0;31mKeyboardInterrupt\u001b[0m                         Traceback (most recent call last)",
      "\u001b[1;32m/Users/zachkeskinen/Documents/isce_sat2/contributors/keskinen/icesat_download/icesat_test.ipynb Cell 2\u001b[0m in \u001b[0;36m<cell line: 3>\u001b[0;34m()\u001b[0m\n\u001b[1;32m      <a href='vscode-notebook-cell:/Users/zachkeskinen/Documents/isce_sat2/contributors/keskinen/icesat_download/icesat_test.ipynb#ch0000001?line=1'>2</a>\u001b[0m polys \u001b[39m=\u001b[39m pickle\u001b[39m.\u001b[39mload(\u001b[39mopen\u001b[39m(\u001b[39m'\u001b[39m\u001b[39m/Users/zachkeskinen/Documents/isce_sat2/data/bounds.pkl\u001b[39m\u001b[39m'\u001b[39m, \u001b[39m'\u001b[39m\u001b[39mrb\u001b[39m\u001b[39m'\u001b[39m))\n\u001b[1;32m      <a href='vscode-notebook-cell:/Users/zachkeskinen/Documents/isce_sat2/contributors/keskinen/icesat_download/icesat_test.ipynb#ch0000001?line=2'>3</a>\u001b[0m \u001b[39mfor\u001b[39;00m k, v \u001b[39min\u001b[39;00m types\u001b[39m.\u001b[39mitems():\n\u001b[0;32m----> <a href='vscode-notebook-cell:/Users/zachkeskinen/Documents/isce_sat2/contributors/keskinen/icesat_download/icesat_test.ipynb#ch0000001?line=3'>4</a>\u001b[0m     download_icesat2(polys, directory \u001b[39m=\u001b[39;49m os\u001b[39m.\u001b[39;49mpath\u001b[39m.\u001b[39;49mjoin(\u001b[39m'\u001b[39;49m\u001b[39m/tmp/is2\u001b[39;49m\u001b[39m'\u001b[39;49m, k), res \u001b[39m=\u001b[39;49m v[\u001b[39m'\u001b[39;49m\u001b[39mres\u001b[39;49m\u001b[39m'\u001b[39;49m], length \u001b[39m=\u001b[39;49m v[\u001b[39m'\u001b[39;49m\u001b[39mlen\u001b[39;49m\u001b[39m'\u001b[39;49m], confidence \u001b[39m=\u001b[39;49m v[\u001b[39m'\u001b[39;49m\u001b[39mconf\u001b[39;49m\u001b[39m'\u001b[39;49m])\n",
      "\u001b[1;32m/Users/zachkeskinen/Documents/isce_sat2/contributors/keskinen/icesat_download/icesat_test.ipynb Cell 2\u001b[0m in \u001b[0;36mdownload_icesat2\u001b[0;34m(poly_dict, directory, length, res, verbose, confidence)\u001b[0m\n\u001b[1;32m     <a href='vscode-notebook-cell:/Users/zachkeskinen/Documents/isce_sat2/contributors/keskinen/icesat_download/icesat_test.ipynb#ch0000001?line=27'>28</a>\u001b[0m \u001b[39mfor\u001b[39;00m conf \u001b[39min\u001b[39;00m conf_range:\n\u001b[1;32m     <a href='vscode-notebook-cell:/Users/zachkeskinen/Documents/isce_sat2/contributors/keskinen/icesat_download/icesat_test.ipynb#ch0000001?line=28'>29</a>\u001b[0m     parms \u001b[39m=\u001b[39m {\u001b[39m\"\u001b[39m\u001b[39mpoly\u001b[39m\u001b[39m\"\u001b[39m: poly,\n\u001b[1;32m     <a href='vscode-notebook-cell:/Users/zachkeskinen/Documents/isce_sat2/contributors/keskinen/icesat_download/icesat_test.ipynb#ch0000001?line=29'>30</a>\u001b[0m     \u001b[39m\"\u001b[39m\u001b[39msrt\u001b[39m\u001b[39m\"\u001b[39m: icesat2\u001b[39m.\u001b[39mSRT_LAND,\n\u001b[1;32m     <a href='vscode-notebook-cell:/Users/zachkeskinen/Documents/isce_sat2/contributors/keskinen/icesat_download/icesat_test.ipynb#ch0000001?line=30'>31</a>\u001b[0m     \u001b[39m\"\u001b[39m\u001b[39matl08_class\u001b[39m\u001b[39m\"\u001b[39m: \u001b[39m\"\u001b[39m\u001b[39matl08_ground\u001b[39m\u001b[39m\"\u001b[39m,\n\u001b[0;32m   (...)\u001b[0m\n\u001b[1;32m     <a href='vscode-notebook-cell:/Users/zachkeskinen/Documents/isce_sat2/contributors/keskinen/icesat_download/icesat_test.ipynb#ch0000001?line=35'>36</a>\u001b[0m     \u001b[39m\"\u001b[39m\u001b[39mt0\u001b[39m\u001b[39m\"\u001b[39m:\u001b[39m'\u001b[39m\u001b[39m2018-10-01T00:00:00Z\u001b[39m\u001b[39m'\u001b[39m,\n\u001b[1;32m     <a href='vscode-notebook-cell:/Users/zachkeskinen/Documents/isce_sat2/contributors/keskinen/icesat_download/icesat_test.ipynb#ch0000001?line=36'>37</a>\u001b[0m     \u001b[39m\"\u001b[39m\u001b[39mt1\u001b[39m\u001b[39m\"\u001b[39m:\u001b[39m'\u001b[39m\u001b[39m2022-04-30T00:00:00Z\u001b[39m\u001b[39m'\u001b[39m}\n\u001b[0;32m---> <a href='vscode-notebook-cell:/Users/zachkeskinen/Documents/isce_sat2/contributors/keskinen/icesat_download/icesat_test.ipynb#ch0000001?line=37'>38</a>\u001b[0m     rsps \u001b[39m=\u001b[39m icesat2\u001b[39m.\u001b[39;49matl06p(parms)\n\u001b[1;32m     <a href='vscode-notebook-cell:/Users/zachkeskinen/Documents/isce_sat2/contributors/keskinen/icesat_download/icesat_test.ipynb#ch0000001?line=38'>39</a>\u001b[0m     rsps[\u001b[39m'\u001b[39m\u001b[39mconfidence\u001b[39m\u001b[39m'\u001b[39m] \u001b[39m=\u001b[39m conf\n\u001b[1;32m     <a href='vscode-notebook-cell:/Users/zachkeskinen/Documents/isce_sat2/contributors/keskinen/icesat_download/icesat_test.ipynb#ch0000001?line=39'>40</a>\u001b[0m     result \u001b[39m=\u001b[39m result\u001b[39m.\u001b[39mappend(rsps)\n",
      "File \u001b[0;32m~/miniconda3/envs/icesat/lib/python3.9/site-packages/sliderule/icesat2.py:847\u001b[0m, in \u001b[0;36matl06p\u001b[0;34m(parm, asset, version, callback, resources)\u001b[0m\n\u001b[1;32m    845\u001b[0m     \u001b[39mif\u001b[39;00m resources \u001b[39m==\u001b[39m \u001b[39mNone\u001b[39;00m:\n\u001b[1;32m    846\u001b[0m         resources \u001b[39m=\u001b[39m __query_resources(parm, version)\n\u001b[0;32m--> 847\u001b[0m     \u001b[39mreturn\u001b[39;00m __parallelize(callback, __atl06, parm, resources, asset)\n\u001b[1;32m    848\u001b[0m \u001b[39mexcept\u001b[39;00m \u001b[39mRuntimeError\u001b[39;00m \u001b[39mas\u001b[39;00m e:\n\u001b[1;32m    849\u001b[0m     logger\u001b[39m.\u001b[39mcritical(e)\n",
      "File \u001b[0;32m~/miniconda3/envs/icesat/lib/python3.9/site-packages/sliderule/icesat2.py:571\u001b[0m, in \u001b[0;36m__parallelize\u001b[0;34m(callback, function, parm, resources, *args)\u001b[0m\n\u001b[1;32m    569\u001b[0m \u001b[39m# Wait for Results\u001b[39;00m\n\u001b[1;32m    570\u001b[0m result_cnt \u001b[39m=\u001b[39m \u001b[39m0\u001b[39m\n\u001b[0;32m--> 571\u001b[0m \u001b[39mfor\u001b[39;00m future \u001b[39min\u001b[39;00m concurrent\u001b[39m.\u001b[39mfutures\u001b[39m.\u001b[39mas_completed(futures):\n\u001b[1;32m    572\u001b[0m     result_cnt \u001b[39m+\u001b[39m\u001b[39m=\u001b[39m \u001b[39m1\u001b[39m\n\u001b[1;32m    573\u001b[0m     result, resource \u001b[39m=\u001b[39m future\u001b[39m.\u001b[39mresult()\n",
      "File \u001b[0;32m~/miniconda3/envs/icesat/lib/python3.9/concurrent/futures/_base.py:245\u001b[0m, in \u001b[0;36mas_completed\u001b[0;34m(fs, timeout)\u001b[0m\n\u001b[1;32m    240\u001b[0m     \u001b[39mif\u001b[39;00m wait_timeout \u001b[39m<\u001b[39m \u001b[39m0\u001b[39m:\n\u001b[1;32m    241\u001b[0m         \u001b[39mraise\u001b[39;00m \u001b[39mTimeoutError\u001b[39;00m(\n\u001b[1;32m    242\u001b[0m                 \u001b[39m'\u001b[39m\u001b[39m%d\u001b[39;00m\u001b[39m (of \u001b[39m\u001b[39m%d\u001b[39;00m\u001b[39m) futures unfinished\u001b[39m\u001b[39m'\u001b[39m \u001b[39m%\u001b[39m (\n\u001b[1;32m    243\u001b[0m                 \u001b[39mlen\u001b[39m(pending), total_futures))\n\u001b[0;32m--> 245\u001b[0m waiter\u001b[39m.\u001b[39;49mevent\u001b[39m.\u001b[39;49mwait(wait_timeout)\n\u001b[1;32m    247\u001b[0m \u001b[39mwith\u001b[39;00m waiter\u001b[39m.\u001b[39mlock:\n\u001b[1;32m    248\u001b[0m     finished \u001b[39m=\u001b[39m waiter\u001b[39m.\u001b[39mfinished_futures\n",
      "File \u001b[0;32m~/miniconda3/envs/icesat/lib/python3.9/threading.py:581\u001b[0m, in \u001b[0;36mEvent.wait\u001b[0;34m(self, timeout)\u001b[0m\n\u001b[1;32m    579\u001b[0m signaled \u001b[39m=\u001b[39m \u001b[39mself\u001b[39m\u001b[39m.\u001b[39m_flag\n\u001b[1;32m    580\u001b[0m \u001b[39mif\u001b[39;00m \u001b[39mnot\u001b[39;00m signaled:\n\u001b[0;32m--> 581\u001b[0m     signaled \u001b[39m=\u001b[39m \u001b[39mself\u001b[39;49m\u001b[39m.\u001b[39;49m_cond\u001b[39m.\u001b[39;49mwait(timeout)\n\u001b[1;32m    582\u001b[0m \u001b[39mreturn\u001b[39;00m signaled\n",
      "File \u001b[0;32m~/miniconda3/envs/icesat/lib/python3.9/threading.py:312\u001b[0m, in \u001b[0;36mCondition.wait\u001b[0;34m(self, timeout)\u001b[0m\n\u001b[1;32m    310\u001b[0m \u001b[39mtry\u001b[39;00m:    \u001b[39m# restore state no matter what (e.g., KeyboardInterrupt)\u001b[39;00m\n\u001b[1;32m    311\u001b[0m     \u001b[39mif\u001b[39;00m timeout \u001b[39mis\u001b[39;00m \u001b[39mNone\u001b[39;00m:\n\u001b[0;32m--> 312\u001b[0m         waiter\u001b[39m.\u001b[39;49macquire()\n\u001b[1;32m    313\u001b[0m         gotit \u001b[39m=\u001b[39m \u001b[39mTrue\u001b[39;00m\n\u001b[1;32m    314\u001b[0m     \u001b[39melse\u001b[39;00m:\n",
      "\u001b[0;31mKeyboardInterrupt\u001b[0m: "
     ]
    }
   ],
   "source": [
    "types = {'confidence':{'res': 50, 'len':100, 'conf':True}, 'sd':{'res': 20, 'len':40, 'conf':False}}\n",
    "polys = pickle.load(open('/Users/zachkeskinen/Documents/isce_sat2/data/bounds.pkl', 'rb'))\n",
    "for k, v in types.items():\n",
    "    download_icesat2(polys, directory = os.path.join('/tmp/is2', k), res = v['res'], length = v['len'], confidence = v['conf'])"
   ]
  },
  {
   "cell_type": "code",
   "execution_count": 3,
   "metadata": {},
   "outputs": [],
   "source": [
    "from uavsar_pytools import UavsarCollection"
   ]
  },
  {
   "cell_type": "code",
   "execution_count": 7,
   "metadata": {},
   "outputs": [],
   "source": [
    "col = UavsarCollection(collection = 'Grand Mesa, CO', work_dir = '~/Downloads/', dates = ('2019-12-01', 'today'))"
   ]
  },
  {
   "cell_type": "code",
   "execution_count": 8,
   "metadata": {},
   "outputs": [
    {
     "name": "stderr",
     "output_type": "stream",
     "text": [
      "INFO:uavsar_pytools.uavsar_collection:Found 13 image pairs\n",
      "INFO:uavsar_pytools.uavsar_collection:Starting on: https://datapool.asf.alaska.edu/INTERFEROMETRY_GRD/UA/grmesa_27416_21019-017_21021-005_0006d_s01_L090_01_int_grd.zip\n"
     ]
    },
    {
     "data": {
      "application/vnd.jupyter.widget-view+json": {
       "model_id": "dd6db572f6c246398c0125ad4061f413",
       "version_major": 2,
       "version_minor": 0
      },
      "text/plain": [
       "Downloading grmesa_27416_21019-017_21021-005_0006d_s01_L090_01_int_grd.zip:   0%|          | 0.00/1.11G [00:00…"
      ]
     },
     "metadata": {},
     "output_type": "display_data"
    },
    {
     "ename": "KeyboardInterrupt",
     "evalue": "",
     "output_type": "error",
     "traceback": [
      "\u001b[0;31m---------------------------------------------------------------------------\u001b[0m",
      "\u001b[0;31mKeyboardInterrupt\u001b[0m                         Traceback (most recent call last)",
      "\u001b[1;32m/Users/zachkeskinen/Documents/isce_sat2/contributors/keskinen/icesat_download/icesat_test.ipynb Cell 5\u001b[0m in \u001b[0;36m<cell line: 1>\u001b[0;34m()\u001b[0m\n\u001b[0;32m----> <a href='vscode-notebook-cell:/Users/zachkeskinen/Documents/isce_sat2/contributors/keskinen/icesat_download/icesat_test.ipynb#ch0000004?line=0'>1</a>\u001b[0m col\u001b[39m.\u001b[39;49mcollection_to_tiffs()\n",
      "File \u001b[0;32m~/miniconda3/envs/icesat/lib/python3.9/site-packages/uavsar_pytools/uavsar_collection.py:109\u001b[0m, in \u001b[0;36mUavsarCollection.collection_to_tiffs\u001b[0;34m(self)\u001b[0m\n\u001b[1;32m    107\u001b[0m \u001b[39mdef\u001b[39;00m \u001b[39mcollection_to_tiffs\u001b[39m(\u001b[39mself\u001b[39m):\n\u001b[1;32m    108\u001b[0m     \u001b[39mself\u001b[39m\u001b[39m.\u001b[39mfind_urls()\n\u001b[0;32m--> 109\u001b[0m     \u001b[39mself\u001b[39;49m\u001b[39m.\u001b[39;49mresults_to_tiffs()\n",
      "File \u001b[0;32m~/miniconda3/envs/icesat/lib/python3.9/site-packages/uavsar_pytools/uavsar_collection.py:87\u001b[0m, in \u001b[0;36mUavsarCollection.results_to_tiffs\u001b[0;34m(self)\u001b[0m\n\u001b[1;32m     85\u001b[0m log\u001b[39m.\u001b[39minfo(\u001b[39mf\u001b[39m\u001b[39m'\u001b[39m\u001b[39mStarting on: \u001b[39m\u001b[39m{\u001b[39;00murl\u001b[39m}\u001b[39;00m\u001b[39m'\u001b[39m)\n\u001b[1;32m     86\u001b[0m scene \u001b[39m=\u001b[39m UavsarScene(url \u001b[39m=\u001b[39m url, work_dir\u001b[39m=\u001b[39m \u001b[39mself\u001b[39m\u001b[39m.\u001b[39mwork_dir, pols \u001b[39m=\u001b[39m \u001b[39mself\u001b[39m\u001b[39m.\u001b[39mpols, clean \u001b[39m=\u001b[39m \u001b[39mself\u001b[39m\u001b[39m.\u001b[39mclean, low_ram\u001b[39m=\u001b[39m\u001b[39mself\u001b[39m\u001b[39m.\u001b[39mlow_ram)\n\u001b[0;32m---> 87\u001b[0m scene\u001b[39m.\u001b[39;49murl_to_tiffs()\n\u001b[1;32m     88\u001b[0m \u001b[39mif\u001b[39;00m \u001b[39m'\u001b[39m\u001b[39mINTERFEROMETRY\u001b[39m\u001b[39m'\u001b[39m \u001b[39min\u001b[39;00m \u001b[39mself\u001b[39m\u001b[39m.\u001b[39mimg_type:\n\u001b[1;32m     89\u001b[0m     d1 \u001b[39m=\u001b[39m choice(\u001b[39mlist\u001b[39m(scene\u001b[39m.\u001b[39mimages\u001b[39m.\u001b[39mvalues()))[\u001b[39m'\u001b[39m\u001b[39mdescription\u001b[39m\u001b[39m'\u001b[39m][\u001b[39m'\u001b[39m\u001b[39mstart time of acquisition for pass 1\u001b[39m\u001b[39m'\u001b[39m][\u001b[39m'\u001b[39m\u001b[39mvalue\u001b[39m\u001b[39m'\u001b[39m]\n",
      "File \u001b[0;32m~/miniconda3/envs/icesat/lib/python3.9/site-packages/uavsar_pytools/uavsar_scene.py:149\u001b[0m, in \u001b[0;36mUavsarScene.url_to_tiffs\u001b[0;34m(self)\u001b[0m\n\u001b[1;32m    148\u001b[0m \u001b[39mdef\u001b[39;00m \u001b[39murl_to_tiffs\u001b[39m(\u001b[39mself\u001b[39m):\n\u001b[0;32m--> 149\u001b[0m     \u001b[39mself\u001b[39;49m\u001b[39m.\u001b[39;49mdownload()\n\u001b[1;32m    150\u001b[0m     \u001b[39mself\u001b[39m\u001b[39m.\u001b[39munzip()\n\u001b[1;32m    151\u001b[0m     \u001b[39mself\u001b[39m\u001b[39m.\u001b[39mbinary_to_tiffs()\n",
      "File \u001b[0;32m~/miniconda3/envs/icesat/lib/python3.9/site-packages/uavsar_pytools/uavsar_scene.py:74\u001b[0m, in \u001b[0;36mUavsarScene.download\u001b[0;34m(self, sub_dir, ann)\u001b[0m\n\u001b[1;32m     71\u001b[0m     os\u001b[39m.\u001b[39mmakedirs(out_dir)\n\u001b[1;32m     73\u001b[0m \u001b[39mif\u001b[39;00m \u001b[39mself\u001b[39m\u001b[39m.\u001b[39murl\u001b[39m.\u001b[39msplit(\u001b[39m'\u001b[39m\u001b[39m.\u001b[39m\u001b[39m'\u001b[39m)[\u001b[39m-\u001b[39m\u001b[39m1\u001b[39m] \u001b[39m==\u001b[39m \u001b[39m'\u001b[39m\u001b[39mzip\u001b[39m\u001b[39m'\u001b[39m:\n\u001b[0;32m---> 74\u001b[0m     \u001b[39mself\u001b[39m\u001b[39m.\u001b[39mzipped_fp \u001b[39m=\u001b[39m download_zip(\u001b[39mself\u001b[39;49m\u001b[39m.\u001b[39;49murl, out_dir)\n\u001b[1;32m     75\u001b[0m \u001b[39melse\u001b[39;00m:\n\u001b[1;32m     76\u001b[0m     log\u001b[39m.\u001b[39mwarning(\u001b[39m'\u001b[39m\u001b[39mUavsarScene for zip files. Using UavsarImage for single images.\u001b[39m\u001b[39m'\u001b[39m)\n",
      "File \u001b[0;32m~/miniconda3/envs/icesat/lib/python3.9/site-packages/uavsar_pytools/download/download.py:154\u001b[0m, in \u001b[0;36mdownload_zip\u001b[0;34m(url, output_dir)\u001b[0m\n\u001b[1;32m    151\u001b[0m local \u001b[39m=\u001b[39m join(output_dir, basename(url))\n\u001b[1;32m    153\u001b[0m \u001b[39mif\u001b[39;00m \u001b[39mnot\u001b[39;00m exists(local):\n\u001b[0;32m--> 154\u001b[0m     stream_download(url, local)\n\u001b[1;32m    155\u001b[0m \u001b[39melse\u001b[39;00m:\n\u001b[1;32m    156\u001b[0m     log\u001b[39m.\u001b[39minfo(\u001b[39mf\u001b[39m\u001b[39m'\u001b[39m\u001b[39m{\u001b[39;00mlocal\u001b[39m}\u001b[39;00m\u001b[39m already exists, skipping download!\u001b[39m\u001b[39m'\u001b[39m)\n",
      "File \u001b[0;32m~/miniconda3/envs/icesat/lib/python3.9/site-packages/uavsar_pytools/download/download.py:34\u001b[0m, in \u001b[0;36mstream_download\u001b[0;34m(url, output_f)\u001b[0m\n\u001b[1;32m     32\u001b[0m \u001b[39mwith\u001b[39;00m \u001b[39mopen\u001b[39m(output_f, \u001b[39m'\u001b[39m\u001b[39mwb\u001b[39m\u001b[39m'\u001b[39m) \u001b[39mas\u001b[39;00m f:\n\u001b[1;32m     33\u001b[0m     \u001b[39mwith\u001b[39;00m tqdm(total\u001b[39m=\u001b[39mtotal_size, unit\u001b[39m=\u001b[39m\u001b[39m'\u001b[39m\u001b[39mB\u001b[39m\u001b[39m'\u001b[39m, unit_scale\u001b[39m=\u001b[39m\u001b[39mTrue\u001b[39;00m , desc\u001b[39m=\u001b[39m\u001b[39mf\u001b[39m\u001b[39m'\u001b[39m\u001b[39mDownloading \u001b[39m\u001b[39m{\u001b[39;00mbasename(url)\u001b[39m}\u001b[39;00m\u001b[39m'\u001b[39m) \u001b[39mas\u001b[39;00m pbar:\n\u001b[0;32m---> 34\u001b[0m         \u001b[39mfor\u001b[39;00m ch \u001b[39min\u001b[39;00m r\u001b[39m.\u001b[39miter_content(chunk_size\u001b[39m=\u001b[39m\u001b[39m1024\u001b[39m):\n\u001b[1;32m     35\u001b[0m             \u001b[39mif\u001b[39;00m ch:\n\u001b[1;32m     36\u001b[0m                 f\u001b[39m.\u001b[39mwrite(ch)\n",
      "File \u001b[0;32m~/miniconda3/envs/icesat/lib/python3.9/site-packages/requests/models.py:816\u001b[0m, in \u001b[0;36mResponse.iter_content.<locals>.generate\u001b[0;34m()\u001b[0m\n\u001b[1;32m    814\u001b[0m \u001b[39mif\u001b[39;00m \u001b[39mhasattr\u001b[39m(\u001b[39mself\u001b[39m\u001b[39m.\u001b[39mraw, \u001b[39m\"\u001b[39m\u001b[39mstream\u001b[39m\u001b[39m\"\u001b[39m):\n\u001b[1;32m    815\u001b[0m     \u001b[39mtry\u001b[39;00m:\n\u001b[0;32m--> 816\u001b[0m         \u001b[39myield from\u001b[39;00m \u001b[39mself\u001b[39m\u001b[39m.\u001b[39mraw\u001b[39m.\u001b[39mstream(chunk_size, decode_content\u001b[39m=\u001b[39m\u001b[39mTrue\u001b[39;00m)\n\u001b[1;32m    817\u001b[0m     \u001b[39mexcept\u001b[39;00m ProtocolError \u001b[39mas\u001b[39;00m e:\n\u001b[1;32m    818\u001b[0m         \u001b[39mraise\u001b[39;00m ChunkedEncodingError(e)\n",
      "File \u001b[0;32m~/miniconda3/envs/icesat/lib/python3.9/site-packages/urllib3/response.py:579\u001b[0m, in \u001b[0;36mHTTPResponse.stream\u001b[0;34m(self, amt, decode_content)\u001b[0m\n\u001b[1;32m    577\u001b[0m \u001b[39melse\u001b[39;00m:\n\u001b[1;32m    578\u001b[0m     \u001b[39mwhile\u001b[39;00m \u001b[39mnot\u001b[39;00m is_fp_closed(\u001b[39mself\u001b[39m\u001b[39m.\u001b[39m_fp):\n\u001b[0;32m--> 579\u001b[0m         data \u001b[39m=\u001b[39m \u001b[39mself\u001b[39;49m\u001b[39m.\u001b[39;49mread(amt\u001b[39m=\u001b[39;49mamt, decode_content\u001b[39m=\u001b[39;49mdecode_content)\n\u001b[1;32m    581\u001b[0m         \u001b[39mif\u001b[39;00m data:\n\u001b[1;32m    582\u001b[0m             \u001b[39myield\u001b[39;00m data\n",
      "File \u001b[0;32m~/miniconda3/envs/icesat/lib/python3.9/site-packages/urllib3/response.py:522\u001b[0m, in \u001b[0;36mHTTPResponse.read\u001b[0;34m(self, amt, decode_content, cache_content)\u001b[0m\n\u001b[1;32m    520\u001b[0m \u001b[39melse\u001b[39;00m:\n\u001b[1;32m    521\u001b[0m     cache_content \u001b[39m=\u001b[39m \u001b[39mFalse\u001b[39;00m\n\u001b[0;32m--> 522\u001b[0m     data \u001b[39m=\u001b[39m \u001b[39mself\u001b[39;49m\u001b[39m.\u001b[39;49m_fp\u001b[39m.\u001b[39;49mread(amt) \u001b[39mif\u001b[39;00m \u001b[39mnot\u001b[39;00m fp_closed \u001b[39melse\u001b[39;00m \u001b[39mb\u001b[39m\u001b[39m\"\u001b[39m\u001b[39m\"\u001b[39m\n\u001b[1;32m    523\u001b[0m     \u001b[39mif\u001b[39;00m (\n\u001b[1;32m    524\u001b[0m         amt \u001b[39m!=\u001b[39m \u001b[39m0\u001b[39m \u001b[39mand\u001b[39;00m \u001b[39mnot\u001b[39;00m data\n\u001b[1;32m    525\u001b[0m     ):  \u001b[39m# Platform-specific: Buggy versions of Python.\u001b[39;00m\n\u001b[0;32m   (...)\u001b[0m\n\u001b[1;32m    531\u001b[0m         \u001b[39m# not properly close the connection in all cases. There is\u001b[39;00m\n\u001b[1;32m    532\u001b[0m         \u001b[39m# no harm in redundantly calling close.\u001b[39;00m\n\u001b[1;32m    533\u001b[0m         \u001b[39mself\u001b[39m\u001b[39m.\u001b[39m_fp\u001b[39m.\u001b[39mclose()\n",
      "File \u001b[0;32m~/miniconda3/envs/icesat/lib/python3.9/http/client.py:463\u001b[0m, in \u001b[0;36mHTTPResponse.read\u001b[0;34m(self, amt)\u001b[0m\n\u001b[1;32m    460\u001b[0m \u001b[39mif\u001b[39;00m amt \u001b[39mis\u001b[39;00m \u001b[39mnot\u001b[39;00m \u001b[39mNone\u001b[39;00m:\n\u001b[1;32m    461\u001b[0m     \u001b[39m# Amount is given, implement using readinto\u001b[39;00m\n\u001b[1;32m    462\u001b[0m     b \u001b[39m=\u001b[39m \u001b[39mbytearray\u001b[39m(amt)\n\u001b[0;32m--> 463\u001b[0m     n \u001b[39m=\u001b[39m \u001b[39mself\u001b[39;49m\u001b[39m.\u001b[39;49mreadinto(b)\n\u001b[1;32m    464\u001b[0m     \u001b[39mreturn\u001b[39;00m \u001b[39mmemoryview\u001b[39m(b)[:n]\u001b[39m.\u001b[39mtobytes()\n\u001b[1;32m    465\u001b[0m \u001b[39melse\u001b[39;00m:\n\u001b[1;32m    466\u001b[0m     \u001b[39m# Amount is not given (unbounded read) so we must check self.length\u001b[39;00m\n\u001b[1;32m    467\u001b[0m     \u001b[39m# and self.chunked\u001b[39;00m\n",
      "File \u001b[0;32m~/miniconda3/envs/icesat/lib/python3.9/http/client.py:507\u001b[0m, in \u001b[0;36mHTTPResponse.readinto\u001b[0;34m(self, b)\u001b[0m\n\u001b[1;32m    502\u001b[0m         b \u001b[39m=\u001b[39m \u001b[39mmemoryview\u001b[39m(b)[\u001b[39m0\u001b[39m:\u001b[39mself\u001b[39m\u001b[39m.\u001b[39mlength]\n\u001b[1;32m    504\u001b[0m \u001b[39m# we do not use _safe_read() here because this may be a .will_close\u001b[39;00m\n\u001b[1;32m    505\u001b[0m \u001b[39m# connection, and the user is reading more bytes than will be provided\u001b[39;00m\n\u001b[1;32m    506\u001b[0m \u001b[39m# (for example, reading in 1k chunks)\u001b[39;00m\n\u001b[0;32m--> 507\u001b[0m n \u001b[39m=\u001b[39m \u001b[39mself\u001b[39;49m\u001b[39m.\u001b[39;49mfp\u001b[39m.\u001b[39;49mreadinto(b)\n\u001b[1;32m    508\u001b[0m \u001b[39mif\u001b[39;00m \u001b[39mnot\u001b[39;00m n \u001b[39mand\u001b[39;00m b:\n\u001b[1;32m    509\u001b[0m     \u001b[39m# Ideally, we would raise IncompleteRead if the content-length\u001b[39;00m\n\u001b[1;32m    510\u001b[0m     \u001b[39m# wasn't satisfied, but it might break compatibility.\u001b[39;00m\n\u001b[1;32m    511\u001b[0m     \u001b[39mself\u001b[39m\u001b[39m.\u001b[39m_close_conn()\n",
      "File \u001b[0;32m~/miniconda3/envs/icesat/lib/python3.9/socket.py:704\u001b[0m, in \u001b[0;36mSocketIO.readinto\u001b[0;34m(self, b)\u001b[0m\n\u001b[1;32m    702\u001b[0m \u001b[39mwhile\u001b[39;00m \u001b[39mTrue\u001b[39;00m:\n\u001b[1;32m    703\u001b[0m     \u001b[39mtry\u001b[39;00m:\n\u001b[0;32m--> 704\u001b[0m         \u001b[39mreturn\u001b[39;00m \u001b[39mself\u001b[39;49m\u001b[39m.\u001b[39;49m_sock\u001b[39m.\u001b[39;49mrecv_into(b)\n\u001b[1;32m    705\u001b[0m     \u001b[39mexcept\u001b[39;00m timeout:\n\u001b[1;32m    706\u001b[0m         \u001b[39mself\u001b[39m\u001b[39m.\u001b[39m_timeout_occurred \u001b[39m=\u001b[39m \u001b[39mTrue\u001b[39;00m\n",
      "File \u001b[0;32m~/miniconda3/envs/icesat/lib/python3.9/ssl.py:1242\u001b[0m, in \u001b[0;36mSSLSocket.recv_into\u001b[0;34m(self, buffer, nbytes, flags)\u001b[0m\n\u001b[1;32m   1238\u001b[0m     \u001b[39mif\u001b[39;00m flags \u001b[39m!=\u001b[39m \u001b[39m0\u001b[39m:\n\u001b[1;32m   1239\u001b[0m         \u001b[39mraise\u001b[39;00m \u001b[39mValueError\u001b[39;00m(\n\u001b[1;32m   1240\u001b[0m           \u001b[39m\"\u001b[39m\u001b[39mnon-zero flags not allowed in calls to recv_into() on \u001b[39m\u001b[39m%s\u001b[39;00m\u001b[39m\"\u001b[39m \u001b[39m%\u001b[39m\n\u001b[1;32m   1241\u001b[0m           \u001b[39mself\u001b[39m\u001b[39m.\u001b[39m\u001b[39m__class__\u001b[39m)\n\u001b[0;32m-> 1242\u001b[0m     \u001b[39mreturn\u001b[39;00m \u001b[39mself\u001b[39;49m\u001b[39m.\u001b[39;49mread(nbytes, buffer)\n\u001b[1;32m   1243\u001b[0m \u001b[39melse\u001b[39;00m:\n\u001b[1;32m   1244\u001b[0m     \u001b[39mreturn\u001b[39;00m \u001b[39msuper\u001b[39m()\u001b[39m.\u001b[39mrecv_into(buffer, nbytes, flags)\n",
      "File \u001b[0;32m~/miniconda3/envs/icesat/lib/python3.9/ssl.py:1100\u001b[0m, in \u001b[0;36mSSLSocket.read\u001b[0;34m(self, len, buffer)\u001b[0m\n\u001b[1;32m   1098\u001b[0m \u001b[39mtry\u001b[39;00m:\n\u001b[1;32m   1099\u001b[0m     \u001b[39mif\u001b[39;00m buffer \u001b[39mis\u001b[39;00m \u001b[39mnot\u001b[39;00m \u001b[39mNone\u001b[39;00m:\n\u001b[0;32m-> 1100\u001b[0m         \u001b[39mreturn\u001b[39;00m \u001b[39mself\u001b[39;49m\u001b[39m.\u001b[39;49m_sslobj\u001b[39m.\u001b[39;49mread(\u001b[39mlen\u001b[39;49m, buffer)\n\u001b[1;32m   1101\u001b[0m     \u001b[39melse\u001b[39;00m:\n\u001b[1;32m   1102\u001b[0m         \u001b[39mreturn\u001b[39;00m \u001b[39mself\u001b[39m\u001b[39m.\u001b[39m_sslobj\u001b[39m.\u001b[39mread(\u001b[39mlen\u001b[39m)\n",
      "\u001b[0;31mKeyboardInterrupt\u001b[0m: "
     ]
    }
   ],
   "source": [
    "col.collection_to_tiffs()"
   ]
  },
  {
   "cell_type": "code",
   "execution_count": null,
   "metadata": {},
   "outputs": [],
   "source": []
  }
 ],
 "metadata": {
  "kernelspec": {
   "display_name": "Python 3.9.13 ('icesat')",
   "language": "python",
   "name": "python3"
  },
  "language_info": {
   "codemirror_mode": {
    "name": "ipython",
    "version": 3
   },
   "file_extension": ".py",
   "mimetype": "text/x-python",
   "name": "python",
   "nbconvert_exporter": "python",
   "pygments_lexer": "ipython3",
   "version": "3.9.13"
  },
  "orig_nbformat": 4,
  "vscode": {
   "interpreter": {
    "hash": "426c8de2d818187a865f7e7487c587488e26de4221b5d424e86f4d04a487c8b9"
   }
  }
 },
 "nbformat": 4,
 "nbformat_minor": 2
}
