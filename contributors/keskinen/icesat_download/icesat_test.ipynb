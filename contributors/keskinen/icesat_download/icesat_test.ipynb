{
 "cells": [
  {
   "cell_type": "code",
   "execution_count": 1,
   "metadata": {},
   "outputs": [],
   "source": [
    "from sliderule import icesat2\n",
    "import matplotlib.pyplot as plt\n",
    "import numpy as np\n",
    "import geopandas as gpd\n",
    "import contextily as cx\n",
    "import os\n",
    "import warnings\n",
    "import pickle \n",
    "\n",
    "warnings.simplefilter(action='ignore', category=FutureWarning)\n",
    "\n",
    "    \n",
    "def download_icesat2(poly_dict, directory='/tmp/is2', length=100.0, res=50.0, verbose=False, confidence = False):\n",
    "    os.makedirs(directory, exist_ok=True)\n",
    "    icesat2.init(\"icesat2sliderule.org\", verbose=verbose)\n",
    "    for name, poly in poly_dict.items():\n",
    "        out_fp = os.path.join(directory,f'{name}_atl06sr.pkl')\n",
    "        if not os.path.exists(out_fp):\n",
    "            print(f'Starting on {name}'.center(50, '-'))\n",
    "            poly = icesat2.toregion(gpd.GeoDataFrame([poly], index = [0], columns = ['geometry']))[0]\n",
    "            result = gpd.GeoDataFrame()\n",
    "            conf_range = range(2,5)\n",
    "            if not confidence:\n",
    "                conf_range = [4]\n",
    "            for conf in conf_range:\n",
    "                parms = {\"poly\": poly,\n",
    "                \"srt\": icesat2.SRT_LAND,\n",
    "                \"atl08_class\": \"atl08_ground\",\n",
    "                \"cnf\": [conf],\n",
    "                \"len\": length,\n",
    "                \"res\": res,\n",
    "                \"maxi\": 1,\n",
    "                \"t0\":'2018-10-01T00:00:00Z',\n",
    "                \"t1\":'2022-04-30T00:00:00Z'}\n",
    "                rsps = icesat2.atl06p(parms)\n",
    "                rsps['confidence'] = conf\n",
    "                result = result.append(rsps)\n",
    "            name = name.replace(' ','')\n",
    "            name = name.replace(',','')\n",
    "\n",
    "            with open(out_fp, 'wb') as f:\n",
    "                pickle.dump(result, f)\n",
    "        else:\n",
    "            print(f'{name} already exists. Skipping...')\n",
    "                        "
   ]
  },
  {
   "cell_type": "code",
   "execution_count": 10,
   "metadata": {},
   "outputs": [
    {
     "name": "stdout",
     "output_type": "stream",
     "text": [
      "--------------Starting on Utica, MT---------------\n"
     ]
    },
    {
     "name": "stderr",
     "output_type": "stream",
     "text": [
      "CRITICAL:sliderule.sliderule:Unexpected error: ERROR:\n",
      "CRITICAL:sliderule.sliderule:Unexpected error: ERROR:\n"
     ]
    },
    {
     "ename": "KeyboardInterrupt",
     "evalue": "",
     "output_type": "error",
     "traceback": [
      "\u001b[0;31m---------------------------------------------------------------------------\u001b[0m",
      "\u001b[0;31mKeyboardInterrupt\u001b[0m                         Traceback (most recent call last)",
      "\u001b[1;32m/Users/zachkeskinen/Documents/isce_sat2/contributors/keskinen/icesat_download/icesat_test.ipynb Cell 2\u001b[0m in \u001b[0;36m<cell line: 3>\u001b[0;34m()\u001b[0m\n\u001b[1;32m      <a href='vscode-notebook-cell:/Users/zachkeskinen/Documents/isce_sat2/contributors/keskinen/icesat_download/icesat_test.ipynb#ch0000001?line=1'>2</a>\u001b[0m polys \u001b[39m=\u001b[39m pickle\u001b[39m.\u001b[39mload(\u001b[39mopen\u001b[39m(\u001b[39m'\u001b[39m\u001b[39m/Users/zachkeskinen/Documents/isce_sat2/data/bounds.pkl\u001b[39m\u001b[39m'\u001b[39m, \u001b[39m'\u001b[39m\u001b[39mrb\u001b[39m\u001b[39m'\u001b[39m))\n\u001b[1;32m      <a href='vscode-notebook-cell:/Users/zachkeskinen/Documents/isce_sat2/contributors/keskinen/icesat_download/icesat_test.ipynb#ch0000001?line=2'>3</a>\u001b[0m \u001b[39mfor\u001b[39;00m k, v \u001b[39min\u001b[39;00m types\u001b[39m.\u001b[39mitems():\n\u001b[0;32m----> <a href='vscode-notebook-cell:/Users/zachkeskinen/Documents/isce_sat2/contributors/keskinen/icesat_download/icesat_test.ipynb#ch0000001?line=3'>4</a>\u001b[0m     download_icesat2(polys, directory \u001b[39m=\u001b[39;49m os\u001b[39m.\u001b[39;49mpath\u001b[39m.\u001b[39;49mjoin(\u001b[39m'\u001b[39;49m\u001b[39m/tmp/is2\u001b[39;49m\u001b[39m'\u001b[39;49m, k), res \u001b[39m=\u001b[39;49m v[\u001b[39m'\u001b[39;49m\u001b[39mres\u001b[39;49m\u001b[39m'\u001b[39;49m], length \u001b[39m=\u001b[39;49m v[\u001b[39m'\u001b[39;49m\u001b[39mlen\u001b[39;49m\u001b[39m'\u001b[39;49m], confidence \u001b[39m=\u001b[39;49m v[\u001b[39m'\u001b[39;49m\u001b[39mconf\u001b[39;49m\u001b[39m'\u001b[39;49m])\n",
      "\u001b[1;32m/Users/zachkeskinen/Documents/isce_sat2/contributors/keskinen/icesat_download/icesat_test.ipynb Cell 2\u001b[0m in \u001b[0;36mdownload_icesat2\u001b[0;34m(poly_dict, directory, length, res, verbose, confidence)\u001b[0m\n\u001b[1;32m     <a href='vscode-notebook-cell:/Users/zachkeskinen/Documents/isce_sat2/contributors/keskinen/icesat_download/icesat_test.ipynb#ch0000001?line=27'>28</a>\u001b[0m \u001b[39mfor\u001b[39;00m conf \u001b[39min\u001b[39;00m conf_range:\n\u001b[1;32m     <a href='vscode-notebook-cell:/Users/zachkeskinen/Documents/isce_sat2/contributors/keskinen/icesat_download/icesat_test.ipynb#ch0000001?line=28'>29</a>\u001b[0m     parms \u001b[39m=\u001b[39m {\u001b[39m\"\u001b[39m\u001b[39mpoly\u001b[39m\u001b[39m\"\u001b[39m: poly,\n\u001b[1;32m     <a href='vscode-notebook-cell:/Users/zachkeskinen/Documents/isce_sat2/contributors/keskinen/icesat_download/icesat_test.ipynb#ch0000001?line=29'>30</a>\u001b[0m     \u001b[39m\"\u001b[39m\u001b[39msrt\u001b[39m\u001b[39m\"\u001b[39m: icesat2\u001b[39m.\u001b[39mSRT_LAND,\n\u001b[1;32m     <a href='vscode-notebook-cell:/Users/zachkeskinen/Documents/isce_sat2/contributors/keskinen/icesat_download/icesat_test.ipynb#ch0000001?line=30'>31</a>\u001b[0m     \u001b[39m\"\u001b[39m\u001b[39matl08_class\u001b[39m\u001b[39m\"\u001b[39m: \u001b[39m\"\u001b[39m\u001b[39matl08_ground\u001b[39m\u001b[39m\"\u001b[39m,\n\u001b[0;32m   (...)\u001b[0m\n\u001b[1;32m     <a href='vscode-notebook-cell:/Users/zachkeskinen/Documents/isce_sat2/contributors/keskinen/icesat_download/icesat_test.ipynb#ch0000001?line=35'>36</a>\u001b[0m     \u001b[39m\"\u001b[39m\u001b[39mt0\u001b[39m\u001b[39m\"\u001b[39m:\u001b[39m'\u001b[39m\u001b[39m2018-10-01T00:00:00Z\u001b[39m\u001b[39m'\u001b[39m,\n\u001b[1;32m     <a href='vscode-notebook-cell:/Users/zachkeskinen/Documents/isce_sat2/contributors/keskinen/icesat_download/icesat_test.ipynb#ch0000001?line=36'>37</a>\u001b[0m     \u001b[39m\"\u001b[39m\u001b[39mt1\u001b[39m\u001b[39m\"\u001b[39m:\u001b[39m'\u001b[39m\u001b[39m2022-04-30T00:00:00Z\u001b[39m\u001b[39m'\u001b[39m}\n\u001b[0;32m---> <a href='vscode-notebook-cell:/Users/zachkeskinen/Documents/isce_sat2/contributors/keskinen/icesat_download/icesat_test.ipynb#ch0000001?line=37'>38</a>\u001b[0m     rsps \u001b[39m=\u001b[39m icesat2\u001b[39m.\u001b[39;49matl06p(parms)\n\u001b[1;32m     <a href='vscode-notebook-cell:/Users/zachkeskinen/Documents/isce_sat2/contributors/keskinen/icesat_download/icesat_test.ipynb#ch0000001?line=38'>39</a>\u001b[0m     rsps[\u001b[39m'\u001b[39m\u001b[39mconfidence\u001b[39m\u001b[39m'\u001b[39m] \u001b[39m=\u001b[39m conf\n\u001b[1;32m     <a href='vscode-notebook-cell:/Users/zachkeskinen/Documents/isce_sat2/contributors/keskinen/icesat_download/icesat_test.ipynb#ch0000001?line=39'>40</a>\u001b[0m     result \u001b[39m=\u001b[39m result\u001b[39m.\u001b[39mappend(rsps)\n",
      "File \u001b[0;32m~/miniconda3/envs/icesat/lib/python3.9/site-packages/sliderule/icesat2.py:847\u001b[0m, in \u001b[0;36matl06p\u001b[0;34m(parm, asset, version, callback, resources)\u001b[0m\n\u001b[1;32m    845\u001b[0m     \u001b[39mif\u001b[39;00m resources \u001b[39m==\u001b[39m \u001b[39mNone\u001b[39;00m:\n\u001b[1;32m    846\u001b[0m         resources \u001b[39m=\u001b[39m __query_resources(parm, version)\n\u001b[0;32m--> 847\u001b[0m     \u001b[39mreturn\u001b[39;00m __parallelize(callback, __atl06, parm, resources, asset)\n\u001b[1;32m    848\u001b[0m \u001b[39mexcept\u001b[39;00m \u001b[39mRuntimeError\u001b[39;00m \u001b[39mas\u001b[39;00m e:\n\u001b[1;32m    849\u001b[0m     logger\u001b[39m.\u001b[39mcritical(e)\n",
      "File \u001b[0;32m~/miniconda3/envs/icesat/lib/python3.9/site-packages/sliderule/icesat2.py:571\u001b[0m, in \u001b[0;36m__parallelize\u001b[0;34m(callback, function, parm, resources, *args)\u001b[0m\n\u001b[1;32m    569\u001b[0m \u001b[39m# Wait for Results\u001b[39;00m\n\u001b[1;32m    570\u001b[0m result_cnt \u001b[39m=\u001b[39m \u001b[39m0\u001b[39m\n\u001b[0;32m--> 571\u001b[0m \u001b[39mfor\u001b[39;00m future \u001b[39min\u001b[39;00m concurrent\u001b[39m.\u001b[39mfutures\u001b[39m.\u001b[39mas_completed(futures):\n\u001b[1;32m    572\u001b[0m     result_cnt \u001b[39m+\u001b[39m\u001b[39m=\u001b[39m \u001b[39m1\u001b[39m\n\u001b[1;32m    573\u001b[0m     result, resource \u001b[39m=\u001b[39m future\u001b[39m.\u001b[39mresult()\n",
      "File \u001b[0;32m~/miniconda3/envs/icesat/lib/python3.9/concurrent/futures/_base.py:245\u001b[0m, in \u001b[0;36mas_completed\u001b[0;34m(fs, timeout)\u001b[0m\n\u001b[1;32m    240\u001b[0m     \u001b[39mif\u001b[39;00m wait_timeout \u001b[39m<\u001b[39m \u001b[39m0\u001b[39m:\n\u001b[1;32m    241\u001b[0m         \u001b[39mraise\u001b[39;00m \u001b[39mTimeoutError\u001b[39;00m(\n\u001b[1;32m    242\u001b[0m                 \u001b[39m'\u001b[39m\u001b[39m%d\u001b[39;00m\u001b[39m (of \u001b[39m\u001b[39m%d\u001b[39;00m\u001b[39m) futures unfinished\u001b[39m\u001b[39m'\u001b[39m \u001b[39m%\u001b[39m (\n\u001b[1;32m    243\u001b[0m                 \u001b[39mlen\u001b[39m(pending), total_futures))\n\u001b[0;32m--> 245\u001b[0m waiter\u001b[39m.\u001b[39;49mevent\u001b[39m.\u001b[39;49mwait(wait_timeout)\n\u001b[1;32m    247\u001b[0m \u001b[39mwith\u001b[39;00m waiter\u001b[39m.\u001b[39mlock:\n\u001b[1;32m    248\u001b[0m     finished \u001b[39m=\u001b[39m waiter\u001b[39m.\u001b[39mfinished_futures\n",
      "File \u001b[0;32m~/miniconda3/envs/icesat/lib/python3.9/threading.py:581\u001b[0m, in \u001b[0;36mEvent.wait\u001b[0;34m(self, timeout)\u001b[0m\n\u001b[1;32m    579\u001b[0m signaled \u001b[39m=\u001b[39m \u001b[39mself\u001b[39m\u001b[39m.\u001b[39m_flag\n\u001b[1;32m    580\u001b[0m \u001b[39mif\u001b[39;00m \u001b[39mnot\u001b[39;00m signaled:\n\u001b[0;32m--> 581\u001b[0m     signaled \u001b[39m=\u001b[39m \u001b[39mself\u001b[39;49m\u001b[39m.\u001b[39;49m_cond\u001b[39m.\u001b[39;49mwait(timeout)\n\u001b[1;32m    582\u001b[0m \u001b[39mreturn\u001b[39;00m signaled\n",
      "File \u001b[0;32m~/miniconda3/envs/icesat/lib/python3.9/threading.py:312\u001b[0m, in \u001b[0;36mCondition.wait\u001b[0;34m(self, timeout)\u001b[0m\n\u001b[1;32m    310\u001b[0m \u001b[39mtry\u001b[39;00m:    \u001b[39m# restore state no matter what (e.g., KeyboardInterrupt)\u001b[39;00m\n\u001b[1;32m    311\u001b[0m     \u001b[39mif\u001b[39;00m timeout \u001b[39mis\u001b[39;00m \u001b[39mNone\u001b[39;00m:\n\u001b[0;32m--> 312\u001b[0m         waiter\u001b[39m.\u001b[39;49macquire()\n\u001b[1;32m    313\u001b[0m         gotit \u001b[39m=\u001b[39m \u001b[39mTrue\u001b[39;00m\n\u001b[1;32m    314\u001b[0m     \u001b[39melse\u001b[39;00m:\n",
      "\u001b[0;31mKeyboardInterrupt\u001b[0m: "
     ]
    }
   ],
   "source": [
    "types = {'confidence':{'res': 50, 'len':100, 'conf':True}, 'sd':{'res': 20, 'len':40, 'conf':False}}\n",
    "polys = pickle.load(open('data/bounds.pkl', 'rb'))\n",
    "for k, v in types.items():\n",
    "    download_icesat2(polys, directory = os.path.join('/tmp/is2', k), res = v['res'], length = v['len'], confidence = v['conf'])"
   ]
  }
 ],
 "metadata": {
  "kernelspec": {
   "display_name": "Python 3.9.13 ('icesat')",
   "language": "python",
   "name": "python3"
  },
  "language_info": {
   "codemirror_mode": {
    "name": "ipython",
    "version": 3
   },
   "file_extension": ".py",
   "mimetype": "text/x-python",
   "name": "python",
   "nbconvert_exporter": "python",
   "pygments_lexer": "ipython3",
   "version": "3.9.13"
  },
  "orig_nbformat": 4,
  "vscode": {
   "interpreter": {
    "hash": "426c8de2d818187a865f7e7487c587488e26de4221b5d424e86f4d04a487c8b9"
   }
  }
 },
 "nbformat": 4,
 "nbformat_minor": 2
}
