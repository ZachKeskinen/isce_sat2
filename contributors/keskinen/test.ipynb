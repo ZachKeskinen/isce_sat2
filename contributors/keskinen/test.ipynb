{
 "cells": [
  {
   "cell_type": "code",
   "execution_count": 4,
   "metadata": {},
   "outputs": [],
   "source": [
    "from glob import glob\n",
    "from os.path import expanduser, join\n",
    "import pandas as pd"
   ]
  },
  {
   "cell_type": "code",
   "execution_count": 5,
   "metadata": {},
   "outputs": [],
   "source": [
    "shared_dir = expanduser('~/shared/isce_sat2/')\n",
    "dirs = glob(join(shared_dir, '*'))\n",
    "dirs = [d for d in dirs if 'tmp' not in d]\n",
    "res = {}\n",
    "for d in dirs:\n",
    "    csv = pd.read_csv(glob(join(d, '*.csv'))[0], index_col = 0)\n",
    "    start = pd.to_datetime(csv.loc['value','start time of acquisition for pass 1'])\n",
    "    end = pd.to_datetime(csv.loc['value','stop time of acquisition for pass 1'])\n",
    "    res[d] = {'start':start,'end':end}"
   ]
  },
  {
   "cell_type": "code",
   "execution_count": null,
   "metadata": {},
   "outputs": [],
   "source": []
  }
 ],
 "metadata": {
  "kernelspec": {
   "display_name": "Python 3.9.13 ('icesat')",
   "language": "python",
   "name": "python3"
  },
  "language_info": {
   "codemirror_mode": {
    "name": "ipython",
    "version": 3
   },
   "file_extension": ".py",
   "mimetype": "text/x-python",
   "name": "python",
   "nbconvert_exporter": "python",
   "pygments_lexer": "ipython3",
   "version": "3.9.13"
  },
  "orig_nbformat": 4,
  "vscode": {
   "interpreter": {
    "hash": "426c8de2d818187a865f7e7487c587488e26de4221b5d424e86f4d04a487c8b9"
   }
  }
 },
 "nbformat": 4,
 "nbformat_minor": 2
}
