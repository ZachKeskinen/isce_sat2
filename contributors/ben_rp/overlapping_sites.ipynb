{
 "cells": [
  {
   "cell_type": "code",
   "execution_count": 1,
   "id": "a33c15ba-cbbb-408c-ac1a-b7499d5b5a4a",
   "metadata": {},
   "outputs": [],
   "source": [
    "#import some general libraries \n",
    "import pandas as pd \n",
    "import geopandas as gpd \n",
    "import matplotlib.pyplot as plt \n",
    "import rasterio"
   ]
  },
  {
   "cell_type": "markdown",
   "id": "235fe03c-a4f1-469c-9be8-2fd4a99b97f8",
   "metadata": {},
   "source": [
    "Import the things we need to set up the SnowEx dataset"
   ]
  },
  {
   "cell_type": "code",
   "execution_count": 2,
   "id": "8ae8d785-4742-48c0-add8-2be96d8f50a0",
   "metadata": {},
   "outputs": [],
   "source": [
    "# Import the function to get connect to the db\n",
    "from snowexsql.db import get_db\n",
    "\n",
    "# Import our class for the points table\n",
    "from snowexsql.data import SiteData, PointData, LayerData, ImageData\n",
    "\n",
    "# Import a useful function to format that data into a dataframe\n",
    "from snowexsql.conversions import query_to_geopandas\n",
    "\n",
    "# Import some tools to build dates \n",
    "from datetime import date\n",
    "\n",
    "# This is what you will use for all of hackweek to access the db\n",
    "db_name = 'snow:hackweek@db.snowexdata.org/snowex'"
   ]
  },
  {
   "cell_type": "markdown",
   "id": "5753af38-1632-4ffb-aa85-64e285f72ce4",
   "metadata": {},
   "source": [
    "Now create a query for UAVSAR data "
   ]
  },
  {
   "cell_type": "code",
   "execution_count": null,
   "id": "6a316162-ba86-429a-9381-9f0a5e712bbc",
   "metadata": {},
   "outputs": [],
   "source": [
    "# This is what you will use for all of hackweek to access the db\n",
    "engine, session = get_db(db_name)\n",
    "\n",
    "# Its convenient to store a query like the following \n",
    "qry = session.query(LayerData.site_id)#.value)\n",
    "\n",
    "# Then filter on it to just density profiles\n",
    "qry = qry.filter(LayerData.type == 'density')\n",
    "qry = qry.filter(LayerData.site_name == 'Grand Mesa').distinct()\n",
    "qry = qry.filter(LayerData.site_id.in_(['1C14','1C1']))\n",
    "qry = qry.limit(2)\n",
    "\n",
    "# protect ourselves from a lot of data\n",
    "qry = qry.limit(5)\n",
    "\n",
    "result = qry.all()\n",
    "print(result)\n",
    "\n",
    "session.close()"
   ]
  },
  {
   "cell_type": "markdown",
   "id": "f1c21ad1-c02e-4014-8a81-6ff709f7d205",
   "metadata": {},
   "source": [
    "Now create a query for some pit data? depth data? "
   ]
  },
  {
   "cell_type": "code",
   "execution_count": 5,
   "id": "21190b4b-7407-462d-ac9a-c60efa705f40",
   "metadata": {},
   "outputs": [
    {
     "name": "stdout",
     "output_type": "stream",
     "text": [
      "0 records returned!\n"
     ]
    }
   ],
   "source": [
    "# Pick a dataset\n",
    "dataset = 'depth'\n",
    "\n",
    "# Pick a date\n",
    "# collection_date = date(2020, 2, 7)\n",
    "collection_dates = [date(2020, 2, 7),date(2020, 2, 8)]\n",
    "\n",
    "# Site name\n",
    "site_name = \"Grand Mesa\"\n",
    "\n",
    "# Get a session\n",
    "engine, session = get_db(db_name)\n",
    "\n",
    "# The part inside the query function is what we want back, in this case all columns for the point data\n",
    "qry = session.query(PointData)\n",
    "\n",
    "# Filter by site\n",
    "qry = qry.filter(PointData.site_name == site_name)\n",
    "\n",
    "# We then want to filter by the selected the data type depth.\n",
    "qry = qry.filter(PointData.type == dataset)\n",
    "\n",
    "# Filter by a date\n",
    "qry = qry.filter(PointData.date.in_ == collection_dates)\n",
    "qry = qry.filter(PointData.instrument == 'magnaprobe')\n",
    "# Limit it to a couple hundred - just for exploration\n",
    "qry = qry.limit(200)\n",
    "\n",
    "# Execute the query and convert to geopandas in one handy function\n",
    "df = query_to_geopandas(qry, engine)\n",
    "\n",
    "# how many did we retrieve?\n",
    "print(f'{len(df.index)} records returned!')\n",
    "\n",
    "session.close()"
   ]
  },
  {
   "cell_type": "code",
   "execution_count": null,
   "id": "439b3c98-3816-45a6-b6af-f8476af43fb4",
   "metadata": {},
   "outputs": [],
   "source": [
    "#####DEPRECATED?##########\n",
    "\n",
    "# This is what you will use for all of hackweek to access the db\n",
    "engine, session = get_db(db_name)\n",
    "\n",
    "# Its convenient to store a query like the following \n",
    "qry = session.query(LayerData.site_id)#.value)\n",
    "\n",
    "# Then filter on it to just density profiles\n",
    "qry = qry.filter(LayerData.type == 'density')\n",
    "qry = qry.filter(LayerData.site_name == 'Grand Mesa').distinct()\n",
    "qry = qry.filter(LayerData.site_id.in_(['1C14','1C1']))\n",
    "qry = qry.limit(2)\n",
    "\n",
    "# protect ourselves from a lot of data\n",
    "qry = qry.limit(5)\n",
    "\n",
    "result = qry.all()\n",
    "print(result)\n",
    "\n",
    "session.close()"
   ]
  },
  {
   "cell_type": "markdown",
   "id": "c41871b9-8492-4e5a-a40f-b88f746bd52c",
   "metadata": {},
   "source": [
    "Get the IceSat-2 data from somewhere"
   ]
  },
  {
   "cell_type": "code",
   "execution_count": null,
   "id": "8a5c4233-bf83-4d38-82f4-626e72379140",
   "metadata": {},
   "outputs": [],
   "source": [
    "#placeholder for getting the IceSat 2 data "
   ]
  }
 ],
 "metadata": {
  "kernelspec": {
   "display_name": "Python 3 (ipykernel)",
   "language": "python",
   "name": "python3"
  },
  "language_info": {
   "codemirror_mode": {
    "name": "ipython",
    "version": 3
   },
   "file_extension": ".py",
   "mimetype": "text/x-python",
   "name": "python",
   "nbconvert_exporter": "python",
   "pygments_lexer": "ipython3",
   "version": "3.10.5"
  }
 },
 "nbformat": 4,
 "nbformat_minor": 5
}
