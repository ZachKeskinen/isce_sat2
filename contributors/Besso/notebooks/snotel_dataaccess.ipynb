{
 "cells": [
  {
   "cell_type": "markdown",
   "id": "8fc76d7d-2d77-43f6-8564-2389096eb444",
   "metadata": {},
   "source": [
    "# Download SNOTEL Data Using the API"
   ]
  },
  {
   "cell_type": "code",
   "execution_count": 1,
   "id": "1a16957e-141e-4951-9ba3-f90523b3947c",
   "metadata": {},
   "outputs": [],
   "source": [
    "import geopandas as gpd\n",
    "import numpy as np\n",
    "import pandas as pd\n",
    "import matplotlib.pyplot as plt\n",
    "import pickle"
   ]
  },
  {
   "cell_type": "code",
   "execution_count": 2,
   "id": "20b3b3c9-792f-49dc-9c51-3953292a0beb",
   "metadata": {},
   "outputs": [],
   "source": [
    "# Get SNOTEL Sites\n",
    "AWDB_API_DOMAIN = \"https://api.snowdata.info\"\n",
    "\n",
    "#snotel sites\n",
    "sntl_meta_url = f\"{AWDB_API_DOMAIN}/stations/getMeta?network=SNTL&format=geojson\"\n",
    "\n",
    "#cdec sites\n",
    "msnt_meta_url = f\"{AWDB_API_DOMAIN}/stations/getMeta?network=MSNT&format=geojson\"\n",
    "\n",
    "# Get the data and rename everything to match the snow ex columns\n",
    "gdf_sntl = gpd.read_file(sntl_meta_url).rename(\n",
    "    columns={\"name\": \"site_name\", \"stationTriplet\": \"site_id\"}\n",
    ")\n",
    "gdf_msnt = gpd.read_file(msnt_meta_url).rename(\n",
    "    columns={\"name\": \"site_name\", \"stationTriplet\": \"site_id\"}\n",
    ")\n",
    "gdf_sntl = pd.concat([gdf_msnt, gdf_sntl])"
   ]
  },
  {
   "cell_type": "code",
   "execution_count": 3,
   "id": "520bc316-84a3-48a5-8efa-4b8f3b6c2325",
   "metadata": {},
   "outputs": [
    {
     "data": {
      "text/html": [
       "<div>\n",
       "<style scoped>\n",
       "    .dataframe tbody tr th:only-of-type {\n",
       "        vertical-align: middle;\n",
       "    }\n",
       "\n",
       "    .dataframe tbody tr th {\n",
       "        vertical-align: top;\n",
       "    }\n",
       "\n",
       "    .dataframe thead th {\n",
       "        text-align: right;\n",
       "    }\n",
       "</style>\n",
       "<table border=\"1\" class=\"dataframe\">\n",
       "  <thead>\n",
       "    <tr style=\"text-align: right;\">\n",
       "      <th></th>\n",
       "      <th>actonId</th>\n",
       "      <th>beginDate</th>\n",
       "      <th>countyName</th>\n",
       "      <th>endDate</th>\n",
       "      <th>fipsCountryCd</th>\n",
       "      <th>fipsCountyCd</th>\n",
       "      <th>fipsStateNumber</th>\n",
       "      <th>huc</th>\n",
       "      <th>hud</th>\n",
       "      <th>site_name</th>\n",
       "      <th>shefId</th>\n",
       "      <th>stationDataTimeZone</th>\n",
       "      <th>stationTimeZone</th>\n",
       "      <th>site_id</th>\n",
       "      <th>geometry</th>\n",
       "    </tr>\n",
       "  </thead>\n",
       "  <tbody>\n",
       "    <tr>\n",
       "      <th>0</th>\n",
       "      <td>None</td>\n",
       "      <td>1996-09-01</td>\n",
       "      <td>UNKNOWN</td>\n",
       "      <td>2100-01-01</td>\n",
       "      <td>US</td>\n",
       "      <td>999</td>\n",
       "      <td>96</td>\n",
       "      <td>None</td>\n",
       "      <td>None</td>\n",
       "      <td>Yellowhead Lake</td>\n",
       "      <td>None</td>\n",
       "      <td>None</td>\n",
       "      <td>None</td>\n",
       "      <td>1A01P:BC:MSNT</td>\n",
       "      <td>POINT Z (-118.53333 52.90000 6060.00000)</td>\n",
       "    </tr>\n",
       "    <tr>\n",
       "      <th>1</th>\n",
       "      <td>None</td>\n",
       "      <td>1971-10-01</td>\n",
       "      <td>UNKNOWN</td>\n",
       "      <td>2100-01-01</td>\n",
       "      <td>US</td>\n",
       "      <td>999</td>\n",
       "      <td>96</td>\n",
       "      <td>None</td>\n",
       "      <td>None</td>\n",
       "      <td>McBride Upper</td>\n",
       "      <td>None</td>\n",
       "      <td>None</td>\n",
       "      <td>None</td>\n",
       "      <td>1A02P:BC:MSNT</td>\n",
       "      <td>POINT Z (-120.31667 53.30000 5276.00000)</td>\n",
       "    </tr>\n",
       "    <tr>\n",
       "      <th>2</th>\n",
       "      <td>None</td>\n",
       "      <td>1968-10-01</td>\n",
       "      <td>UNKNOWN</td>\n",
       "      <td>2100-01-01</td>\n",
       "      <td>US</td>\n",
       "      <td>999</td>\n",
       "      <td>96</td>\n",
       "      <td>None</td>\n",
       "      <td>None</td>\n",
       "      <td>Barkerville</td>\n",
       "      <td>None</td>\n",
       "      <td>None</td>\n",
       "      <td>None</td>\n",
       "      <td>1A03P:BC:MSNT</td>\n",
       "      <td>POINT Z (-121.48333 53.05000 4865.00000)</td>\n",
       "    </tr>\n",
       "    <tr>\n",
       "      <th>3</th>\n",
       "      <td>None</td>\n",
       "      <td>1999-09-24</td>\n",
       "      <td>UNKNOWN</td>\n",
       "      <td>2100-01-01</td>\n",
       "      <td>US</td>\n",
       "      <td>999</td>\n",
       "      <td>96</td>\n",
       "      <td>None</td>\n",
       "      <td>None</td>\n",
       "      <td>Hedrick Lake</td>\n",
       "      <td>None</td>\n",
       "      <td>None</td>\n",
       "      <td>None</td>\n",
       "      <td>1A14P:BC:MSNT</td>\n",
       "      <td>POINT Z (-121.00000 54.10000 3668.00000)</td>\n",
       "    </tr>\n",
       "    <tr>\n",
       "      <th>4</th>\n",
       "      <td>None</td>\n",
       "      <td>1984-10-01</td>\n",
       "      <td>UNKNOWN</td>\n",
       "      <td>2100-01-01</td>\n",
       "      <td>US</td>\n",
       "      <td>999</td>\n",
       "      <td>96</td>\n",
       "      <td>None</td>\n",
       "      <td>None</td>\n",
       "      <td>Revolution Creek</td>\n",
       "      <td>None</td>\n",
       "      <td>None</td>\n",
       "      <td>None</td>\n",
       "      <td>1A17P:BC:MSNT</td>\n",
       "      <td>POINT Z (-120.36667 53.78333 5499.00000)</td>\n",
       "    </tr>\n",
       "  </tbody>\n",
       "</table>\n",
       "</div>"
      ],
      "text/plain": [
       "  actonId  beginDate countyName    endDate fipsCountryCd fipsCountyCd  \\\n",
       "0    None 1996-09-01    UNKNOWN 2100-01-01            US          999   \n",
       "1    None 1971-10-01    UNKNOWN 2100-01-01            US          999   \n",
       "2    None 1968-10-01    UNKNOWN 2100-01-01            US          999   \n",
       "3    None 1999-09-24    UNKNOWN 2100-01-01            US          999   \n",
       "4    None 1984-10-01    UNKNOWN 2100-01-01            US          999   \n",
       "\n",
       "  fipsStateNumber   huc   hud         site_name shefId stationDataTimeZone  \\\n",
       "0              96  None  None   Yellowhead Lake   None                None   \n",
       "1              96  None  None     McBride Upper   None                None   \n",
       "2              96  None  None       Barkerville   None                None   \n",
       "3              96  None  None      Hedrick Lake   None                None   \n",
       "4              96  None  None  Revolution Creek   None                None   \n",
       "\n",
       "  stationTimeZone        site_id                                  geometry  \n",
       "0            None  1A01P:BC:MSNT  POINT Z (-118.53333 52.90000 6060.00000)  \n",
       "1            None  1A02P:BC:MSNT  POINT Z (-120.31667 53.30000 5276.00000)  \n",
       "2            None  1A03P:BC:MSNT  POINT Z (-121.48333 53.05000 4865.00000)  \n",
       "3            None  1A14P:BC:MSNT  POINT Z (-121.00000 54.10000 3668.00000)  \n",
       "4            None  1A17P:BC:MSNT  POINT Z (-120.36667 53.78333 5499.00000)  "
      ]
     },
     "execution_count": 3,
     "metadata": {},
     "output_type": "execute_result"
    }
   ],
   "source": [
    "gdf_sntl.head()"
   ]
  },
  {
   "cell_type": "code",
   "execution_count": 4,
   "id": "2ba1642d-0844-442f-a8ef-8f32d28838a1",
   "metadata": {},
   "outputs": [],
   "source": [
    "sntl_ml = gdf_sntl[gdf_sntl['site_name'] == 'Mesa Lakes']                          "
   ]
  },
  {
   "cell_type": "code",
   "execution_count": 5,
   "id": "7f311b58-6e2b-4c86-9d6a-6b1e950420f3",
   "metadata": {},
   "outputs": [],
   "source": [
    "sntl_pr = gdf_sntl[gdf_sntl['site_name'] == 'Park Reservoir']  "
   ]
  },
  {
   "cell_type": "code",
   "execution_count": 39,
   "id": "f66ad832-cf42-490b-a1a6-a9dbec4f1e97",
   "metadata": {},
   "outputs": [
    {
     "data": {
      "text/html": [
       "<div>\n",
       "<style scoped>\n",
       "    .dataframe tbody tr th:only-of-type {\n",
       "        vertical-align: middle;\n",
       "    }\n",
       "\n",
       "    .dataframe tbody tr th {\n",
       "        vertical-align: top;\n",
       "    }\n",
       "\n",
       "    .dataframe thead th {\n",
       "        text-align: right;\n",
       "    }\n",
       "</style>\n",
       "<table border=\"1\" class=\"dataframe\">\n",
       "  <thead>\n",
       "    <tr style=\"text-align: right;\">\n",
       "      <th></th>\n",
       "      <th>actonId</th>\n",
       "      <th>beginDate</th>\n",
       "      <th>countyName</th>\n",
       "      <th>endDate</th>\n",
       "      <th>fipsCountryCd</th>\n",
       "      <th>fipsCountyCd</th>\n",
       "      <th>fipsStateNumber</th>\n",
       "      <th>huc</th>\n",
       "      <th>hud</th>\n",
       "      <th>site_name</th>\n",
       "      <th>shefId</th>\n",
       "      <th>stationDataTimeZone</th>\n",
       "      <th>stationTimeZone</th>\n",
       "      <th>site_id</th>\n",
       "      <th>geometry</th>\n",
       "    </tr>\n",
       "  </thead>\n",
       "  <tbody>\n",
       "    <tr>\n",
       "      <th>606</th>\n",
       "      <td>07K06S</td>\n",
       "      <td>1978-10-01</td>\n",
       "      <td>Delta</td>\n",
       "      <td>2100-01-01</td>\n",
       "      <td>US</td>\n",
       "      <td>029</td>\n",
       "      <td>08</td>\n",
       "      <td>140200050111</td>\n",
       "      <td>14020005</td>\n",
       "      <td>Park Reservoir</td>\n",
       "      <td>PRVC2</td>\n",
       "      <td>-8.0</td>\n",
       "      <td>None</td>\n",
       "      <td>682:CO:SNTL</td>\n",
       "      <td>POINT Z (-107.87951 39.04433 9987.00000)</td>\n",
       "    </tr>\n",
       "  </tbody>\n",
       "</table>\n",
       "</div>"
      ],
      "text/plain": [
       "    actonId  beginDate countyName    endDate fipsCountryCd fipsCountyCd  \\\n",
       "606  07K06S 1978-10-01      Delta 2100-01-01            US          029   \n",
       "\n",
       "    fipsStateNumber           huc       hud       site_name shefId  \\\n",
       "606              08  140200050111  14020005  Park Reservoir  PRVC2   \n",
       "\n",
       "    stationDataTimeZone stationTimeZone      site_id  \\\n",
       "606                -8.0            None  682:CO:SNTL   \n",
       "\n",
       "                                     geometry  \n",
       "606  POINT Z (-107.87951 39.04433 9987.00000)  "
      ]
     },
     "execution_count": 39,
     "metadata": {},
     "output_type": "execute_result"
    }
   ],
   "source": [
    "sntl_pr"
   ]
  },
  {
   "cell_type": "code",
   "execution_count": 6,
   "id": "bbbdb4c1-beeb-4dbb-a1e8-e6e7d723aa79",
   "metadata": {},
   "outputs": [],
   "source": [
    "sntl_gm = pd.concat([sntl_ml, sntl_pr], ignore_index=True)"
   ]
  },
  {
   "cell_type": "code",
   "execution_count": 7,
   "id": "64ca7329-fe89-4b08-87f4-3483b0315ec4",
   "metadata": {},
   "outputs": [
    {
     "data": {
      "text/html": [
       "<div>\n",
       "<style scoped>\n",
       "    .dataframe tbody tr th:only-of-type {\n",
       "        vertical-align: middle;\n",
       "    }\n",
       "\n",
       "    .dataframe tbody tr th {\n",
       "        vertical-align: top;\n",
       "    }\n",
       "\n",
       "    .dataframe thead th {\n",
       "        text-align: right;\n",
       "    }\n",
       "</style>\n",
       "<table border=\"1\" class=\"dataframe\">\n",
       "  <thead>\n",
       "    <tr style=\"text-align: right;\">\n",
       "      <th></th>\n",
       "      <th>actonId</th>\n",
       "      <th>beginDate</th>\n",
       "      <th>countyName</th>\n",
       "      <th>endDate</th>\n",
       "      <th>fipsCountryCd</th>\n",
       "      <th>fipsCountyCd</th>\n",
       "      <th>fipsStateNumber</th>\n",
       "      <th>huc</th>\n",
       "      <th>hud</th>\n",
       "      <th>site_name</th>\n",
       "      <th>shefId</th>\n",
       "      <th>stationDataTimeZone</th>\n",
       "      <th>stationTimeZone</th>\n",
       "      <th>site_id</th>\n",
       "      <th>geometry</th>\n",
       "    </tr>\n",
       "  </thead>\n",
       "  <tbody>\n",
       "    <tr>\n",
       "      <th>0</th>\n",
       "      <td>08K04S</td>\n",
       "      <td>1985-10-01</td>\n",
       "      <td>Mesa</td>\n",
       "      <td>2100-01-01</td>\n",
       "      <td>US</td>\n",
       "      <td>077</td>\n",
       "      <td>08</td>\n",
       "      <td>140100051307</td>\n",
       "      <td>14010005</td>\n",
       "      <td>Mesa Lakes</td>\n",
       "      <td>MESC2</td>\n",
       "      <td>-8.0</td>\n",
       "      <td>None</td>\n",
       "      <td>622:CO:SNTL</td>\n",
       "      <td>POINT Z (-108.05756 39.05738 10168.00000)</td>\n",
       "    </tr>\n",
       "    <tr>\n",
       "      <th>1</th>\n",
       "      <td>07K06S</td>\n",
       "      <td>1978-10-01</td>\n",
       "      <td>Delta</td>\n",
       "      <td>2100-01-01</td>\n",
       "      <td>US</td>\n",
       "      <td>029</td>\n",
       "      <td>08</td>\n",
       "      <td>140200050111</td>\n",
       "      <td>14020005</td>\n",
       "      <td>Park Reservoir</td>\n",
       "      <td>PRVC2</td>\n",
       "      <td>-8.0</td>\n",
       "      <td>None</td>\n",
       "      <td>682:CO:SNTL</td>\n",
       "      <td>POINT Z (-107.87951 39.04433 9987.00000)</td>\n",
       "    </tr>\n",
       "  </tbody>\n",
       "</table>\n",
       "</div>"
      ],
      "text/plain": [
       "  actonId  beginDate countyName    endDate fipsCountryCd fipsCountyCd  \\\n",
       "0  08K04S 1985-10-01       Mesa 2100-01-01            US          077   \n",
       "1  07K06S 1978-10-01      Delta 2100-01-01            US          029   \n",
       "\n",
       "  fipsStateNumber           huc       hud       site_name shefId  \\\n",
       "0              08  140100051307  14010005      Mesa Lakes  MESC2   \n",
       "1              08  140200050111  14020005  Park Reservoir  PRVC2   \n",
       "\n",
       "  stationDataTimeZone stationTimeZone      site_id  \\\n",
       "0                -8.0            None  622:CO:SNTL   \n",
       "1                -8.0            None  682:CO:SNTL   \n",
       "\n",
       "                                    geometry  \n",
       "0  POINT Z (-108.05756 39.05738 10168.00000)  \n",
       "1   POINT Z (-107.87951 39.04433 9987.00000)  "
      ]
     },
     "execution_count": 7,
     "metadata": {},
     "output_type": "execute_result"
    }
   ],
   "source": [
    "sntl_gm"
   ]
  },
  {
   "cell_type": "code",
   "execution_count": 10,
   "id": "bba85801-bf42-4af2-8880-912ac6786488",
   "metadata": {},
   "outputs": [],
   "source": [
    "out_fp = '../../../data/snotel_locations.pkl'"
   ]
  },
  {
   "cell_type": "code",
   "execution_count": 11,
   "id": "e6e55fd8-01ca-44e5-b2cf-53a2f7d375ad",
   "metadata": {},
   "outputs": [],
   "source": [
    "with open(out_fp, 'wb') as f:\n",
    "    pickle.dump(sntl_gm, f)"
   ]
  },
  {
   "cell_type": "code",
   "execution_count": 10,
   "id": "07a89919-8007-4a0d-8f74-7e78904dd6f1",
   "metadata": {},
   "outputs": [
    {
     "data": {
      "text/plain": [
       "<AxesSubplot:>"
      ]
     },
     "execution_count": 10,
     "metadata": {},
     "output_type": "execute_result"
    },
    {
     "data": {
      "image/png": "[encoded data removed]",
      "text/plain": [
       "<Figure size 432x288 with 1 Axes>"
      ]
     },
     "metadata": {
      "needs_background": "light"
     },
     "output_type": "display_data"
    }
   ],
   "source": [
    "gdf_sntl.plot()"
   ]
  },
  {
   "cell_type": "code",
   "execution_count": 13,
   "id": "3748abbb-bc0e-4499-94af-c88ad9623d4d",
   "metadata": {},
   "outputs": [],
   "source": [
    "polys = pickle.load(open('../../../data/bounds.pkl', 'rb'))"
   ]
  },
  {
   "cell_type": "code",
   "execution_count": 19,
   "id": "fd599f17-bcaa-4bff-9669-5fef741f29ec",
   "metadata": {},
   "outputs": [
    {
     "data": {
      "text/plain": [
       "dict_keys(['Utica, MT', 'Eldorado National Forest, CA', 'Donner Memorial State Park, CA', 'Rocky Mountains NP, CO', 'Grand Mesa, CO', 'Sierra National Forest, CA', 'Fraser, CO', 'Peeler Peak, CO', 'Silver City, ID', 'Ironton, CO', 'Los Alamos, NM', 'Lowman, CO', 'Salt Lake City, UT'])"
      ]
     },
     "execution_count": 19,
     "metadata": {},
     "output_type": "execute_result"
    }
   ],
   "source": [
    "polys.keys()"
   ]
  },
  {
   "cell_type": "code",
   "execution_count": 26,
   "id": "3897ed23-2174-4be8-ba0a-15cc5d62ed5e",
   "metadata": {},
   "outputs": [],
   "source": [
    "sntl_gm = gpd.clip(gdf_sntl, polys['Grand Mesa, CO'])"
   ]
  },
  {
   "cell_type": "code",
   "execution_count": 27,
   "id": "4029cd90-0229-48ec-99d8-8151879427a7",
   "metadata": {},
   "outputs": [
    {
     "data": {
      "text/plain": [
       "<AxesSubplot:>"
      ]
     },
     "execution_count": 27,
     "metadata": {},
     "output_type": "execute_result"
    },
    {
     "data": {
      "image/png": "[encoded data removed]",
      "text/plain": [
       "<Figure size 432x288 with 1 Axes>"
      ]
     },
     "metadata": {
      "needs_background": "light"
     },
     "output_type": "display_data"
    }
   ],
   "source": [
    "sntl_gm.plot()"
   ]
  },
  {
   "cell_type": "code",
   "execution_count": 29,
   "id": "cf86a2df-6121-424c-8bf5-e390530d4b73",
   "metadata": {},
   "outputs": [
    {
     "data": {
      "text/html": [
       "<div>\n",
       "<style scoped>\n",
       "    .dataframe tbody tr th:only-of-type {\n",
       "        vertical-align: middle;\n",
       "    }\n",
       "\n",
       "    .dataframe tbody tr th {\n",
       "        vertical-align: top;\n",
       "    }\n",
       "\n",
       "    .dataframe thead th {\n",
       "        text-align: right;\n",
       "    }\n",
       "</style>\n",
       "<table border=\"1\" class=\"dataframe\">\n",
       "  <thead>\n",
       "    <tr style=\"text-align: right;\">\n",
       "      <th></th>\n",
       "      <th>actonId</th>\n",
       "      <th>beginDate</th>\n",
       "      <th>countyName</th>\n",
       "      <th>endDate</th>\n",
       "      <th>fipsCountryCd</th>\n",
       "      <th>fipsCountyCd</th>\n",
       "      <th>fipsStateNumber</th>\n",
       "      <th>huc</th>\n",
       "      <th>hud</th>\n",
       "      <th>site_name</th>\n",
       "      <th>shefId</th>\n",
       "      <th>stationDataTimeZone</th>\n",
       "      <th>stationTimeZone</th>\n",
       "      <th>site_id</th>\n",
       "      <th>geometry</th>\n",
       "    </tr>\n",
       "  </thead>\n",
       "  <tbody>\n",
       "    <tr>\n",
       "      <th>550</th>\n",
       "      <td>08K04S</td>\n",
       "      <td>1985-10-01</td>\n",
       "      <td>Mesa</td>\n",
       "      <td>2100-01-01</td>\n",
       "      <td>US</td>\n",
       "      <td>077</td>\n",
       "      <td>08</td>\n",
       "      <td>140100051307</td>\n",
       "      <td>14010005</td>\n",
       "      <td>Mesa Lakes</td>\n",
       "      <td>MESC2</td>\n",
       "      <td>-8.0</td>\n",
       "      <td>None</td>\n",
       "      <td>622:CO:SNTL</td>\n",
       "      <td>POINT Z (-108.05756 39.05738 10168.00000)</td>\n",
       "    </tr>\n",
       "  </tbody>\n",
       "</table>\n",
       "</div>"
      ],
      "text/plain": [
       "    actonId  beginDate countyName    endDate fipsCountryCd fipsCountyCd  \\\n",
       "550  08K04S 1985-10-01       Mesa 2100-01-01            US          077   \n",
       "\n",
       "    fipsStateNumber           huc       hud   site_name shefId  \\\n",
       "550              08  140100051307  14010005  Mesa Lakes  MESC2   \n",
       "\n",
       "    stationDataTimeZone stationTimeZone      site_id  \\\n",
       "550                -8.0            None  622:CO:SNTL   \n",
       "\n",
       "                                      geometry  \n",
       "550  POINT Z (-108.05756 39.05738 10168.00000)  "
      ]
     },
     "execution_count": 29,
     "metadata": {},
     "output_type": "execute_result"
    }
   ],
   "source": [
    "sntl_gm"
   ]
  },
  {
   "cell_type": "code",
   "execution_count": 37,
   "id": "f3992cf9-a8fe-4a60-9d37-5536ecc56568",
   "metadata": {},
   "outputs": [],
   "source": [
    "gdf_sntl = gdf_sntl.to_crs('epsg:32612')"
   ]
  },
  {
   "cell_type": "code",
   "execution_count": 33,
   "id": "cecd7d11-05f4-4b75-a3e8-a1467b5fe56c",
   "metadata": {},
   "outputs": [],
   "source": [
    "poly_gdf = gpd.GeoDataFrame(polys['Grand Mesa, CO'], index = [0], columns = ['geometry'], crs='epsg:4326')"
   ]
  },
  {
   "cell_type": "code",
   "execution_count": 40,
   "id": "19ffec7b-95ec-42b8-b10a-e6509584343f",
   "metadata": {},
   "outputs": [],
   "source": [
    "poly_gdf = poly_gdf.to_crs('epsg:32612')"
   ]
  },
  {
   "cell_type": "code",
   "execution_count": 41,
   "id": "de5beeb9-e014-424f-9ca8-23f7545c9509",
   "metadata": {},
   "outputs": [
    {
     "data": {
      "text/plain": [
       "<AxesSubplot:>"
      ]
     },
     "execution_count": 41,
     "metadata": {},
     "output_type": "execute_result"
    },
    {
     "data": {
      "image/png": "[encoded data removed]",
      "text/plain": [
       "<Figure size 432x288 with 1 Axes>"
      ]
     },
     "metadata": {
      "needs_background": "light"
     },
     "output_type": "display_data"
    }
   ],
   "source": [
    "fig, ax = plt.subplots()\n",
    "\n",
    "gdf_sntl.plot(ax=ax)\n",
    "poly_gdf.plot(ax=ax)"
   ]
  },
  {
   "cell_type": "code",
   "execution_count": 44,
   "id": "8105e9ac-0acc-4309-87b3-24bb1e1a9e7d",
   "metadata": {},
   "outputs": [
    {
     "data": {
      "text/plain": [
       "<AxesSubplot:>"
      ]
     },
     "execution_count": 44,
     "metadata": {},
     "output_type": "execute_result"
    },
    {
     "data": {
      "image/png": "[encoded data removed]",
      "text/plain": [
       "<Figure size 432x288 with 1 Axes>"
      ]
     },
     "metadata": {
      "needs_background": "light"
     },
     "output_type": "display_data"
    }
   ],
   "source": [
    "poly_gdf.plot()"
   ]
  },
  {
   "cell_type": "code",
   "execution_count": null,
   "id": "5e8f47c8-1b6c-451b-a972-806614ca9f6e",
   "metadata": {},
   "outputs": [],
   "source": [
    "poly_gdf.geometry = poly_gdf.geometry.buffer(2000)"
   ]
  },
  {
   "cell_type": "code",
   "execution_count": null,
   "id": "54c68c4f-b951-4260-8331-8ebfe1af7bc7",
   "metadata": {},
   "outputs": [],
   "source": [
    "sntl_gm2 = gpd.clip(gdf_sntl, poly_gdf)"
   ]
  },
  {
   "cell_type": "code",
   "execution_count": null,
   "id": "91b5dbe5-b66f-4df1-ab4b-e345a989e6e0",
   "metadata": {},
   "outputs": [],
   "source": [
    "sntl_gm2"
   ]
  },
  {
   "cell_type": "code",
   "execution_count": 58,
   "id": "64de46a8-f4f2-4d7c-83e7-736fc0b43c82",
   "metadata": {},
   "outputs": [
    {
     "data": {
      "text/plain": [
       "<AxesSubplot:>"
      ]
     },
     "execution_count": 58,
     "metadata": {},
     "output_type": "execute_result"
    },
    {
     "data": {
      "image/png": "[encoded data removed]",
      "text/plain": [
       "<Figure size 432x288 with 1 Axes>"
      ]
     },
     "metadata": {
      "needs_background": "light"
     },
     "output_type": "display_data"
    }
   ],
   "source": [
    "fig, ax = plt.subplots()\n",
    "sntl_gm2.plot(ax=ax)"
   ]
  },
  {
   "cell_type": "code",
   "execution_count": null,
   "id": "0b176600-4365-4733-b726-373630d52467",
   "metadata": {},
   "outputs": [],
   "source": []
  },
  {
   "cell_type": "code",
   "execution_count": 16,
   "id": "f8dbf2ac-f899-4e6c-85f3-3c191f3563a7",
   "metadata": {},
   "outputs": [],
   "source": [
    "# Written by Beau Uriona\n",
    "\n",
    "# AWDB loader\n",
    "\n",
    "from datetime import datetime\n",
    "\n",
    "import requests\n",
    "import pandas as pd\n",
    "\n",
    "API_DOMAIN = \"https://api.snowdata.info/\"\n",
    "\n",
    "def get_awdb_data(site_ids, element=\"SNWD\", sdate=datetime(1899,10,1), edate=datetime.now(), orient=\"records\", server=API_DOMAIN, sesh=None):\n",
    "    \"\"\"\n",
    "    Takes a list of site ids or a single site id and by default returns SWE period of record data as a single or list of dataframes,\n",
    "    but user can pass args to modify data returned.\n",
    "    \n",
    "    Valid elements include WTEQ, SNWD, PREC, SMS, STO, TAVG\n",
    "    site_id takes the form of a triplet made from <network_site_id>:<state_abbrv>:<network> where network is either SNTL or MNST\n",
    "    \"\"\"\n",
    "    dfs = []\n",
    "    return_single = False\n",
    "    if not isinstance(site_ids, list):\n",
    "        site_ids = [site_ids]\n",
    "        return_single = True\n",
    "    for site_id in site_ids:\n",
    "        endpoint = \"data/getDaily\"\n",
    "        date_args = f\"sDate={sdate:%Y-%m-%d}&eDate={edate:%Y-%m-%d}\"\n",
    "        frmt_args = f\"format=json&orient={orient}\"\n",
    "        all_args = f\"?triplet={site_id}&{date_args}&element={element}&{frmt_args}\"\n",
    "        url = f\"{server}{endpoint}{all_args}\"\n",
    "        print(f\"getting data for {site_id} {element} starting {sdate:%Y-%m-%d} and ending {edate:%Y-%m-%d}\")\n",
    "        data_col_lbl = f\"{site_id}\" + \":\" + f\"{element}\"\n",
    "        if sesh:\n",
    "            req = sesh.get(url)\n",
    "        else:\n",
    "            req = requests.get(url)\n",
    "        if req.ok:\n",
    "            df = pd.DataFrame.from_dict(req.json())\n",
    "            df.columns = [\"Date\", data_col_lbl]\n",
    "            df.set_index(\"Date\", inplace=True)\n",
    "        else:\n",
    "            print(\"  No data returned!\")\n",
    "            df = pd.DataFrame(\n",
    "                data=[\n",
    "                    {\"Date\": pd.NaT, data_col_lbl: None}\n",
    "                ],\n",
    "            ).set_index(\"Date\").dropna()\n",
    "        dfs.append(df)\n",
    "    if return_single:\n",
    "        return dfs[0]\n",
    "    return dfs\n",
    "    \n",
    "\n",
    "# df = get_awdb_data(site_ids=\"1099:UT:SNTL\", sdate=datetime(2021, 10, 1))\n",
    "# df"
   ]
  },
  {
   "cell_type": "code",
   "execution_count": 17,
   "id": "663bd71c-d22d-45ce-9afb-a1c256e1ca58",
   "metadata": {},
   "outputs": [
    {
     "data": {
      "text/html": [
       "<div>\n",
       "<style scoped>\n",
       "    .dataframe tbody tr th:only-of-type {\n",
       "        vertical-align: middle;\n",
       "    }\n",
       "\n",
       "    .dataframe tbody tr th {\n",
       "        vertical-align: top;\n",
       "    }\n",
       "\n",
       "    .dataframe thead th {\n",
       "        text-align: right;\n",
       "    }\n",
       "</style>\n",
       "<table border=\"1\" class=\"dataframe\">\n",
       "  <thead>\n",
       "    <tr style=\"text-align: right;\">\n",
       "      <th></th>\n",
       "      <th>actonId</th>\n",
       "      <th>beginDate</th>\n",
       "      <th>countyName</th>\n",
       "      <th>endDate</th>\n",
       "      <th>fipsCountryCd</th>\n",
       "      <th>fipsCountyCd</th>\n",
       "      <th>fipsStateNumber</th>\n",
       "      <th>huc</th>\n",
       "      <th>hud</th>\n",
       "      <th>site_name</th>\n",
       "      <th>shefId</th>\n",
       "      <th>stationDataTimeZone</th>\n",
       "      <th>stationTimeZone</th>\n",
       "      <th>site_id</th>\n",
       "      <th>geometry</th>\n",
       "    </tr>\n",
       "  </thead>\n",
       "  <tbody>\n",
       "    <tr>\n",
       "      <th>0</th>\n",
       "      <td>08K04S</td>\n",
       "      <td>1985-10-01</td>\n",
       "      <td>Mesa</td>\n",
       "      <td>2100-01-01</td>\n",
       "      <td>US</td>\n",
       "      <td>077</td>\n",
       "      <td>08</td>\n",
       "      <td>140100051307</td>\n",
       "      <td>14010005</td>\n",
       "      <td>Mesa Lakes</td>\n",
       "      <td>MESC2</td>\n",
       "      <td>-8.0</td>\n",
       "      <td>None</td>\n",
       "      <td>622:CO:SNTL</td>\n",
       "      <td>POINT Z (-108.05756 39.05738 10168.00000)</td>\n",
       "    </tr>\n",
       "    <tr>\n",
       "      <th>1</th>\n",
       "      <td>07K06S</td>\n",
       "      <td>1978-10-01</td>\n",
       "      <td>Delta</td>\n",
       "      <td>2100-01-01</td>\n",
       "      <td>US</td>\n",
       "      <td>029</td>\n",
       "      <td>08</td>\n",
       "      <td>140200050111</td>\n",
       "      <td>14020005</td>\n",
       "      <td>Park Reservoir</td>\n",
       "      <td>PRVC2</td>\n",
       "      <td>-8.0</td>\n",
       "      <td>None</td>\n",
       "      <td>682:CO:SNTL</td>\n",
       "      <td>POINT Z (-107.87951 39.04433 9987.00000)</td>\n",
       "    </tr>\n",
       "  </tbody>\n",
       "</table>\n",
       "</div>"
      ],
      "text/plain": [
       "  actonId  beginDate countyName    endDate fipsCountryCd fipsCountyCd  \\\n",
       "0  08K04S 1985-10-01       Mesa 2100-01-01            US          077   \n",
       "1  07K06S 1978-10-01      Delta 2100-01-01            US          029   \n",
       "\n",
       "  fipsStateNumber           huc       hud       site_name shefId  \\\n",
       "0              08  140100051307  14010005      Mesa Lakes  MESC2   \n",
       "1              08  140200050111  14020005  Park Reservoir  PRVC2   \n",
       "\n",
       "  stationDataTimeZone stationTimeZone      site_id  \\\n",
       "0                -8.0            None  622:CO:SNTL   \n",
       "1                -8.0            None  682:CO:SNTL   \n",
       "\n",
       "                                    geometry  \n",
       "0  POINT Z (-108.05756 39.05738 10168.00000)  \n",
       "1   POINT Z (-107.87951 39.04433 9987.00000)  "
      ]
     },
     "execution_count": 17,
     "metadata": {},
     "output_type": "execute_result"
    }
   ],
   "source": [
    "sntl_gm"
   ]
  },
  {
   "cell_type": "code",
   "execution_count": 47,
   "id": "4427f65f-d65b-48b6-9644-c62880f7ad8e",
   "metadata": {
    "tags": []
   },
   "outputs": [
    {
     "name": "stdout",
     "output_type": "stream",
     "text": [
      "getting data for 622:CO:SNTL SNWD starting 2018-10-01 and ending 2022-07-15\n",
      "getting data for 682:CO:SNTL SNWD starting 2018-10-01 and ending 2022-07-15\n"
     ]
    },
    {
     "data": {
      "text/plain": [
       "[            622:CO:SNTL:SNWD\n",
       " Date                        \n",
       " 2018-10-01               0.0\n",
       " 2018-10-02               0.0\n",
       " 2018-10-03               0.0\n",
       " 2018-10-04               0.0\n",
       " 2018-10-05               0.0\n",
       " ...                      ...\n",
       " 2022-07-11               NaN\n",
       " 2022-07-12               NaN\n",
       " 2022-07-13               NaN\n",
       " 2022-07-14               NaN\n",
       " 2022-07-15               NaN\n",
       " \n",
       " [1384 rows x 1 columns],\n",
       "             682:CO:SNTL:SNWD\n",
       " Date                        \n",
       " 2018-10-01               0.0\n",
       " 2018-10-02               0.0\n",
       " 2018-10-03               0.0\n",
       " 2018-10-04               0.0\n",
       " 2018-10-05               0.0\n",
       " ...                      ...\n",
       " 2022-07-11              14.0\n",
       " 2022-07-12              14.0\n",
       " 2022-07-13              14.0\n",
       " 2022-07-14              14.0\n",
       " 2022-07-15              14.0\n",
       " \n",
       " [1384 rows x 1 columns]]"
      ]
     },
     "execution_count": 47,
     "metadata": {},
     "output_type": "execute_result"
    }
   ],
   "source": [
    "gm_sntl_depth_list = get_awdb_data(site_ids=['622:CO:SNTL','682:CO:SNTL'], sdate=datetime(2018, 10, 1))\n",
    "gm_sntl_depth_list"
   ]
  },
  {
   "cell_type": "code",
   "execution_count": 19,
   "id": "ca99bff5-632d-4a28-a741-efc53e81157b",
   "metadata": {},
   "outputs": [
    {
     "data": {
      "text/plain": [
       "Date\n",
       "2018-10-01    0.0\n",
       "2018-10-02    0.0\n",
       "2018-10-03    0.0\n",
       "2018-10-04    0.0\n",
       "2018-10-05    0.0\n",
       "             ... \n",
       "2022-07-11    NaN\n",
       "2022-07-12    NaN\n",
       "2022-07-13    NaN\n",
       "2022-07-14    NaN\n",
       "2022-07-15    NaN\n",
       "Name: 622:CO:SNTL:SNWD, Length: 1384, dtype: float64"
      ]
     },
     "execution_count": 19,
     "metadata": {},
     "output_type": "execute_result"
    }
   ],
   "source": [
    "gm_sntl_depth[0]['622:CO:SNTL:SNWD']"
   ]
  },
  {
   "cell_type": "code",
   "execution_count": 25,
   "id": "a2651360-6d09-4fc3-bc57-8644f7b9fb4f",
   "metadata": {},
   "outputs": [
    {
     "data": {
      "text/html": [
       "<div>\n",
       "<style scoped>\n",
       "    .dataframe tbody tr th:only-of-type {\n",
       "        vertical-align: middle;\n",
       "    }\n",
       "\n",
       "    .dataframe tbody tr th {\n",
       "        vertical-align: top;\n",
       "    }\n",
       "\n",
       "    .dataframe thead th {\n",
       "        text-align: right;\n",
       "    }\n",
       "</style>\n",
       "<table border=\"1\" class=\"dataframe\">\n",
       "  <thead>\n",
       "    <tr style=\"text-align: right;\">\n",
       "      <th></th>\n",
       "      <th>622:CO:SNTL:SNWD</th>\n",
       "    </tr>\n",
       "    <tr>\n",
       "      <th>Date</th>\n",
       "      <th></th>\n",
       "    </tr>\n",
       "  </thead>\n",
       "  <tbody>\n",
       "    <tr>\n",
       "      <th>2018-10-01</th>\n",
       "      <td>0.0</td>\n",
       "    </tr>\n",
       "    <tr>\n",
       "      <th>2018-10-02</th>\n",
       "      <td>0.0</td>\n",
       "    </tr>\n",
       "    <tr>\n",
       "      <th>2018-10-03</th>\n",
       "      <td>0.0</td>\n",
       "    </tr>\n",
       "    <tr>\n",
       "      <th>2018-10-04</th>\n",
       "      <td>0.0</td>\n",
       "    </tr>\n",
       "    <tr>\n",
       "      <th>2018-10-05</th>\n",
       "      <td>0.0</td>\n",
       "    </tr>\n",
       "    <tr>\n",
       "      <th>...</th>\n",
       "      <td>...</td>\n",
       "    </tr>\n",
       "    <tr>\n",
       "      <th>2022-07-11</th>\n",
       "      <td>NaN</td>\n",
       "    </tr>\n",
       "    <tr>\n",
       "      <th>2022-07-12</th>\n",
       "      <td>NaN</td>\n",
       "    </tr>\n",
       "    <tr>\n",
       "      <th>2022-07-13</th>\n",
       "      <td>NaN</td>\n",
       "    </tr>\n",
       "    <tr>\n",
       "      <th>2022-07-14</th>\n",
       "      <td>NaN</td>\n",
       "    </tr>\n",
       "    <tr>\n",
       "      <th>2022-07-15</th>\n",
       "      <td>NaN</td>\n",
       "    </tr>\n",
       "  </tbody>\n",
       "</table>\n",
       "<p>1384 rows × 1 columns</p>\n",
       "</div>"
      ],
      "text/plain": [
       "            622:CO:SNTL:SNWD\n",
       "Date                        \n",
       "2018-10-01               0.0\n",
       "2018-10-02               0.0\n",
       "2018-10-03               0.0\n",
       "2018-10-04               0.0\n",
       "2018-10-05               0.0\n",
       "...                      ...\n",
       "2022-07-11               NaN\n",
       "2022-07-12               NaN\n",
       "2022-07-13               NaN\n",
       "2022-07-14               NaN\n",
       "2022-07-15               NaN\n",
       "\n",
       "[1384 rows x 1 columns]"
      ]
     },
     "execution_count": 25,
     "metadata": {},
     "output_type": "execute_result"
    }
   ],
   "source": [
    "gm_sntl_depth[0]"
   ]
  },
  {
   "cell_type": "code",
   "execution_count": 26,
   "id": "a12de8c9-2373-45a8-ad8b-ef174a2422fb",
   "metadata": {},
   "outputs": [],
   "source": [
    "gm_sntl_depth = gm_sntl_depth[0]"
   ]
  },
  {
   "cell_type": "code",
   "execution_count": 21,
   "id": "aa26a616-4735-4856-8d97-5aba672b2632",
   "metadata": {},
   "outputs": [
    {
     "data": {
      "text/plain": [
       "<AxesSubplot:xlabel='Date'>"
      ]
     },
     "execution_count": 21,
     "metadata": {},
     "output_type": "execute_result"
    },
    {
     "data": {
      "image/png": "[encoded data removed]",
      "text/plain": [
       "<Figure size 432x288 with 1 Axes>"
      ]
     },
     "metadata": {
      "needs_background": "light"
     },
     "output_type": "display_data"
    }
   ],
   "source": [
    "gm_sntl_depth.plot()"
   ]
  },
  {
   "cell_type": "code",
   "execution_count": 27,
   "id": "211db410-6d0a-439d-827e-616168a53ae0",
   "metadata": {},
   "outputs": [],
   "source": [
    "#df['682:CO:SNTL:SNWD'] = gm_sntl_depth[1]['682:CO:SNTL:SNWD']"
   ]
  },
  {
   "cell_type": "code",
   "execution_count": 48,
   "id": "22d755d9-fe1c-4836-a05e-7fb6fb3c5dda",
   "metadata": {},
   "outputs": [],
   "source": [
    "gm_sntl_depth_list[0].index = pd.to_datetime(gm_sntl_depth_list[0].index)"
   ]
  },
  {
   "cell_type": "code",
   "execution_count": 49,
   "id": "a1a2b268-ed4b-41f7-88e3-8810cdfb1699",
   "metadata": {},
   "outputs": [
    {
     "data": {
      "text/plain": [
       "<AxesSubplot:xlabel='Date'>"
      ]
     },
     "execution_count": 49,
     "metadata": {},
     "output_type": "execute_result"
    },
    {
     "data": {
      "image/png": "[encoded data removed]",
      "text/plain": [
       "<Figure size 432x288 with 1 Axes>"
      ]
     },
     "metadata": {
      "needs_background": "light"
     },
     "output_type": "display_data"
    }
   ],
   "source": [
    "gm_sntl_depth_list[0].plot()"
   ]
  },
  {
   "cell_type": "code",
   "execution_count": 50,
   "id": "f73f5906-7b68-479a-ba1d-575f48cc0554",
   "metadata": {},
   "outputs": [],
   "source": [
    "ml = gm_sntl_depth_list[0]"
   ]
  },
  {
   "cell_type": "code",
   "execution_count": 51,
   "id": "5f2b1b15-4c90-421b-8971-d56de14d5606",
   "metadata": {},
   "outputs": [
    {
     "data": {
      "text/html": [
       "<div>\n",
       "<style scoped>\n",
       "    .dataframe tbody tr th:only-of-type {\n",
       "        vertical-align: middle;\n",
       "    }\n",
       "\n",
       "    .dataframe tbody tr th {\n",
       "        vertical-align: top;\n",
       "    }\n",
       "\n",
       "    .dataframe thead th {\n",
       "        text-align: right;\n",
       "    }\n",
       "</style>\n",
       "<table border=\"1\" class=\"dataframe\">\n",
       "  <thead>\n",
       "    <tr style=\"text-align: right;\">\n",
       "      <th></th>\n",
       "      <th>622:CO:SNTL:SNWD</th>\n",
       "    </tr>\n",
       "    <tr>\n",
       "      <th>Date</th>\n",
       "      <th></th>\n",
       "    </tr>\n",
       "  </thead>\n",
       "  <tbody>\n",
       "    <tr>\n",
       "      <th>2018-10-01</th>\n",
       "      <td>0.0</td>\n",
       "    </tr>\n",
       "    <tr>\n",
       "      <th>2018-10-02</th>\n",
       "      <td>0.0</td>\n",
       "    </tr>\n",
       "    <tr>\n",
       "      <th>2018-10-03</th>\n",
       "      <td>0.0</td>\n",
       "    </tr>\n",
       "    <tr>\n",
       "      <th>2018-10-04</th>\n",
       "      <td>0.0</td>\n",
       "    </tr>\n",
       "    <tr>\n",
       "      <th>2018-10-05</th>\n",
       "      <td>0.0</td>\n",
       "    </tr>\n",
       "    <tr>\n",
       "      <th>...</th>\n",
       "      <td>...</td>\n",
       "    </tr>\n",
       "    <tr>\n",
       "      <th>2022-07-11</th>\n",
       "      <td>NaN</td>\n",
       "    </tr>\n",
       "    <tr>\n",
       "      <th>2022-07-12</th>\n",
       "      <td>NaN</td>\n",
       "    </tr>\n",
       "    <tr>\n",
       "      <th>2022-07-13</th>\n",
       "      <td>NaN</td>\n",
       "    </tr>\n",
       "    <tr>\n",
       "      <th>2022-07-14</th>\n",
       "      <td>NaN</td>\n",
       "    </tr>\n",
       "    <tr>\n",
       "      <th>2022-07-15</th>\n",
       "      <td>NaN</td>\n",
       "    </tr>\n",
       "  </tbody>\n",
       "</table>\n",
       "<p>1384 rows × 1 columns</p>\n",
       "</div>"
      ],
      "text/plain": [
       "            622:CO:SNTL:SNWD\n",
       "Date                        \n",
       "2018-10-01               0.0\n",
       "2018-10-02               0.0\n",
       "2018-10-03               0.0\n",
       "2018-10-04               0.0\n",
       "2018-10-05               0.0\n",
       "...                      ...\n",
       "2022-07-11               NaN\n",
       "2022-07-12               NaN\n",
       "2022-07-13               NaN\n",
       "2022-07-14               NaN\n",
       "2022-07-15               NaN\n",
       "\n",
       "[1384 rows x 1 columns]"
      ]
     },
     "execution_count": 51,
     "metadata": {},
     "output_type": "execute_result"
    }
   ],
   "source": [
    "ml"
   ]
  },
  {
   "cell_type": "code",
   "execution_count": 56,
   "id": "172bc5ac-7619-43d3-81ca-d8e1abb4748a",
   "metadata": {},
   "outputs": [],
   "source": [
    "gm_sntl_depth = pd.concat([ml, gm_sntl_depth_list[1]['682:CO:SNTL:SNWD']], ignore_index=False)"
   ]
  },
  {
   "cell_type": "code",
   "execution_count": 59,
   "id": "390327ca-01ce-43cd-b9b5-1d8501f30b2e",
   "metadata": {},
   "outputs": [
    {
     "data": {
      "text/html": [
       "<div>\n",
       "<style scoped>\n",
       "    .dataframe tbody tr th:only-of-type {\n",
       "        vertical-align: middle;\n",
       "    }\n",
       "\n",
       "    .dataframe tbody tr th {\n",
       "        vertical-align: top;\n",
       "    }\n",
       "\n",
       "    .dataframe thead th {\n",
       "        text-align: right;\n",
       "    }\n",
       "</style>\n",
       "<table border=\"1\" class=\"dataframe\">\n",
       "  <thead>\n",
       "    <tr style=\"text-align: right;\">\n",
       "      <th></th>\n",
       "      <th>MesaLakes</th>\n",
       "      <th>ParkReservoir</th>\n",
       "    </tr>\n",
       "    <tr>\n",
       "      <th>Date</th>\n",
       "      <th></th>\n",
       "      <th></th>\n",
       "    </tr>\n",
       "  </thead>\n",
       "  <tbody>\n",
       "    <tr>\n",
       "      <th>2018-10-01 00:00:00</th>\n",
       "      <td>0.0</td>\n",
       "      <td>NaN</td>\n",
       "    </tr>\n",
       "    <tr>\n",
       "      <th>2018-10-02 00:00:00</th>\n",
       "      <td>0.0</td>\n",
       "      <td>NaN</td>\n",
       "    </tr>\n",
       "    <tr>\n",
       "      <th>2018-10-03 00:00:00</th>\n",
       "      <td>0.0</td>\n",
       "      <td>NaN</td>\n",
       "    </tr>\n",
       "    <tr>\n",
       "      <th>2018-10-04 00:00:00</th>\n",
       "      <td>0.0</td>\n",
       "      <td>NaN</td>\n",
       "    </tr>\n",
       "    <tr>\n",
       "      <th>2018-10-05 00:00:00</th>\n",
       "      <td>0.0</td>\n",
       "      <td>NaN</td>\n",
       "    </tr>\n",
       "    <tr>\n",
       "      <th>...</th>\n",
       "      <td>...</td>\n",
       "      <td>...</td>\n",
       "    </tr>\n",
       "    <tr>\n",
       "      <th>2022-07-11</th>\n",
       "      <td>NaN</td>\n",
       "      <td>14.0</td>\n",
       "    </tr>\n",
       "    <tr>\n",
       "      <th>2022-07-12</th>\n",
       "      <td>NaN</td>\n",
       "      <td>14.0</td>\n",
       "    </tr>\n",
       "    <tr>\n",
       "      <th>2022-07-13</th>\n",
       "      <td>NaN</td>\n",
       "      <td>14.0</td>\n",
       "    </tr>\n",
       "    <tr>\n",
       "      <th>2022-07-14</th>\n",
       "      <td>NaN</td>\n",
       "      <td>14.0</td>\n",
       "    </tr>\n",
       "    <tr>\n",
       "      <th>2022-07-15</th>\n",
       "      <td>NaN</td>\n",
       "      <td>14.0</td>\n",
       "    </tr>\n",
       "  </tbody>\n",
       "</table>\n",
       "<p>2768 rows × 2 columns</p>\n",
       "</div>"
      ],
      "text/plain": [
       "                     MesaLakes  ParkReservoir\n",
       "Date                                         \n",
       "2018-10-01 00:00:00        0.0            NaN\n",
       "2018-10-02 00:00:00        0.0            NaN\n",
       "2018-10-03 00:00:00        0.0            NaN\n",
       "2018-10-04 00:00:00        0.0            NaN\n",
       "2018-10-05 00:00:00        0.0            NaN\n",
       "...                        ...            ...\n",
       "2022-07-11                 NaN           14.0\n",
       "2022-07-12                 NaN           14.0\n",
       "2022-07-13                 NaN           14.0\n",
       "2022-07-14                 NaN           14.0\n",
       "2022-07-15                 NaN           14.0\n",
       "\n",
       "[2768 rows x 2 columns]"
      ]
     },
     "execution_count": 59,
     "metadata": {},
     "output_type": "execute_result"
    }
   ],
   "source": [
    "gm_sntl_depth"
   ]
  },
  {
   "cell_type": "code",
   "execution_count": 53,
   "id": "8bcbd18b-8e30-49fa-ba03-fefaaf05e8e7",
   "metadata": {},
   "outputs": [
    {
     "data": {
      "text/html": [
       "<div>\n",
       "<style scoped>\n",
       "    .dataframe tbody tr th:only-of-type {\n",
       "        vertical-align: middle;\n",
       "    }\n",
       "\n",
       "    .dataframe tbody tr th {\n",
       "        vertical-align: top;\n",
       "    }\n",
       "\n",
       "    .dataframe thead th {\n",
       "        text-align: right;\n",
       "    }\n",
       "</style>\n",
       "<table border=\"1\" class=\"dataframe\">\n",
       "  <thead>\n",
       "    <tr style=\"text-align: right;\">\n",
       "      <th></th>\n",
       "      <th>682:CO:SNTL:SNWD</th>\n",
       "    </tr>\n",
       "    <tr>\n",
       "      <th>Date</th>\n",
       "      <th></th>\n",
       "    </tr>\n",
       "  </thead>\n",
       "  <tbody>\n",
       "    <tr>\n",
       "      <th>2018-10-01</th>\n",
       "      <td>0.0</td>\n",
       "    </tr>\n",
       "    <tr>\n",
       "      <th>2018-10-02</th>\n",
       "      <td>0.0</td>\n",
       "    </tr>\n",
       "    <tr>\n",
       "      <th>2018-10-03</th>\n",
       "      <td>0.0</td>\n",
       "    </tr>\n",
       "    <tr>\n",
       "      <th>2018-10-04</th>\n",
       "      <td>0.0</td>\n",
       "    </tr>\n",
       "    <tr>\n",
       "      <th>2018-10-05</th>\n",
       "      <td>0.0</td>\n",
       "    </tr>\n",
       "    <tr>\n",
       "      <th>...</th>\n",
       "      <td>...</td>\n",
       "    </tr>\n",
       "    <tr>\n",
       "      <th>2022-07-11</th>\n",
       "      <td>14.0</td>\n",
       "    </tr>\n",
       "    <tr>\n",
       "      <th>2022-07-12</th>\n",
       "      <td>14.0</td>\n",
       "    </tr>\n",
       "    <tr>\n",
       "      <th>2022-07-13</th>\n",
       "      <td>14.0</td>\n",
       "    </tr>\n",
       "    <tr>\n",
       "      <th>2022-07-14</th>\n",
       "      <td>14.0</td>\n",
       "    </tr>\n",
       "    <tr>\n",
       "      <th>2022-07-15</th>\n",
       "      <td>14.0</td>\n",
       "    </tr>\n",
       "  </tbody>\n",
       "</table>\n",
       "<p>1384 rows × 1 columns</p>\n",
       "</div>"
      ],
      "text/plain": [
       "            682:CO:SNTL:SNWD\n",
       "Date                        \n",
       "2018-10-01               0.0\n",
       "2018-10-02               0.0\n",
       "2018-10-03               0.0\n",
       "2018-10-04               0.0\n",
       "2018-10-05               0.0\n",
       "...                      ...\n",
       "2022-07-11              14.0\n",
       "2022-07-12              14.0\n",
       "2022-07-13              14.0\n",
       "2022-07-14              14.0\n",
       "2022-07-15              14.0\n",
       "\n",
       "[1384 rows x 1 columns]"
      ]
     },
     "execution_count": 53,
     "metadata": {},
     "output_type": "execute_result"
    }
   ],
   "source": [
    "gm_sntl_depth_list[1]"
   ]
  },
  {
   "cell_type": "code",
   "execution_count": 58,
   "id": "7a056106-00b7-43de-8221-5fcdb5ee5dfd",
   "metadata": {},
   "outputs": [],
   "source": [
    "gm_sntl_depth = gm_sntl_depth.rename(columns={'622:CO:SNTL:SNWD':'MesaLakes', 0:'ParkReservoir'})"
   ]
  },
  {
   "cell_type": "code",
   "execution_count": 60,
   "id": "95620f90-1927-489f-ad53-8fec408e0f5d",
   "metadata": {},
   "outputs": [],
   "source": [
    "gm_sntl_depth = gm_sntl_depth * 2.54"
   ]
  },
  {
   "cell_type": "code",
   "execution_count": 61,
   "id": "08c6a018-3574-4afd-b685-72b927c0f1f1",
   "metadata": {},
   "outputs": [],
   "source": [
    "out_fp = '../../../data/snotel_depths.pkl'"
   ]
  },
  {
   "cell_type": "code",
   "execution_count": 62,
   "id": "5f79cc6c-000d-42b0-9e59-b75bbd4f83c8",
   "metadata": {},
   "outputs": [],
   "source": [
    "with open(out_fp, 'wb') as f:\n",
    "    pickle.dump(gm_sntl_depth, f)"
   ]
  },
  {
   "cell_type": "code",
   "execution_count": 88,
   "id": "206f9f0e-8220-46c5-a2f5-c9422801a0d7",
   "metadata": {},
   "outputs": [],
   "source": [
    "gm_sntl = pickle.load(open(out_fp, 'rb'))"
   ]
  },
  {
   "cell_type": "code",
   "execution_count": 89,
   "id": "a47c3d43-c9e2-4db5-a3bf-79942062d489",
   "metadata": {},
   "outputs": [
    {
     "data": {
      "text/plain": [
       "<AxesSubplot:xlabel='Date'>"
      ]
     },
     "execution_count": 89,
     "metadata": {},
     "output_type": "execute_result"
    },
    {
     "data": {
      "image/png": "[encoded data removed]",
      "text/plain": [
       "<Figure size 432x288 with 1 Axes>"
      ]
     },
     "metadata": {
      "needs_background": "light"
     },
     "output_type": "display_data"
    }
   ],
   "source": [
    "gm_sntl.plot()"
   ]
  },
  {
   "cell_type": "code",
   "execution_count": null,
   "id": "5f9e5347-bb81-48d8-a7ac-0dba79787be1",
   "metadata": {},
   "outputs": [],
   "source": [
    "gm_sntl_depth"
   ]
  },
  {
   "cell_type": "code",
   "execution_count": 31,
   "id": "b5ae563b-6fde-446e-96b6-5dc0ff66c0b6",
   "metadata": {},
   "outputs": [
    {
     "data": {
      "text/plain": [
       "<AxesSubplot:xlabel='Date'>"
      ]
     },
     "execution_count": 31,
     "metadata": {},
     "output_type": "execute_result"
    },
    {
     "data": {
      "image/png": "[encoded data removed]",
      "text/plain": [
       "<Figure size 432x288 with 1 Axes>"
      ]
     },
     "metadata": {
      "needs_background": "light"
     },
     "output_type": "display_data"
    }
   ],
   "source": [
    "df.plot()"
   ]
  },
  {
   "cell_type": "code",
   "execution_count": 29,
   "id": "a5f7908e-2ef7-4789-a599-995748cf0cc0",
   "metadata": {},
   "outputs": [
    {
     "data": {
      "text/plain": [
       "0    622:CO:SNTL\n",
       "Name: site_id, dtype: object"
      ]
     },
     "execution_count": 29,
     "metadata": {},
     "output_type": "execute_result"
    }
   ],
   "source": [
    "sntl_gm.site_id.astype(str)"
   ]
  },
  {
   "cell_type": "code",
   "execution_count": null,
   "id": "b665b458-605d-40b3-b474-2b87b7963506",
   "metadata": {},
   "outputs": [],
   "source": [
    "print(f\"The CRS of the Snotel metadata is - {gdf_sntl.crs}, better change it\")"
   ]
  },
  {
   "cell_type": "code",
   "execution_count": null,
   "id": "45a256b2-6baa-4a54-80cf-e00e2e138333",
   "metadata": {},
   "outputs": [],
   "source": [
    "gdf_sntl = gdf_sntl.to_crs(4326) #snow ex planar projection appears to be 26912"
   ]
  }
 ],
 "metadata": {
  "kernelspec": {
   "display_name": "Python 3 (ipykernel)",
   "language": "python",
   "name": "python3"
  },
  "language_info": {
   "codemirror_mode": {
    "name": "ipython",
    "version": 3
   },
   "file_extension": ".py",
   "mimetype": "text/x-python",
   "name": "python",
   "nbconvert_exporter": "python",
   "pygments_lexer": "ipython3",
   "version": "3.10.5"
  }
 },
 "nbformat": 4,
 "nbformat_minor": 5
}
