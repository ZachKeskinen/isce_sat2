{
 "cells": [
  {
   "cell_type": "markdown",
   "id": "a9165a76-e5c9-44e9-9aac-985f0f209c82",
   "metadata": {},
   "source": [
    "# Find ICESat-2 Snow-On Dates"
   ]
  },
  {
   "cell_type": "code",
   "execution_count": 1,
   "id": "ba63c5e5-c98d-4ac7-be1d-52d7414fa5e4",
   "metadata": {},
   "outputs": [],
   "source": [
    "import matplotlib.pyplot as plt\n",
    "import geopandas as gpd\n",
    "import numpy as np\n",
    "import pandas as pd\n",
    "import matplotlib.dates as mdates\n",
    "#from matplotlib.ticker import (MultipleLocator, AutoMinorLocator)\n",
    "#import scipy.stats\n",
    "#import contextily as cx\n",
    "#from matplotlib_scalebar.scalebar import ScaleBar\n",
    "import rasterio as rio\n",
    "#from rasterio import features\n",
    "#from rasterio.plot import show\n",
    "#import rioxarray\n",
    "from astropy.time import Time\n",
    "from datetime import datetime\n",
    "import pickle\n",
    "#from imview.lib import pltlib\n",
    "#import hvplot.pandas\n",
    "#from holoviews.element.tiles import EsriImagery, StamenTerrain\n",
    "#from geoviews import opts, tile_sources as gvts"
   ]
  },
  {
   "cell_type": "code",
   "execution_count": 2,
   "id": "40a4b721-e8ed-4378-b0a1-75fa8b3f3bc4",
   "metadata": {},
   "outputs": [],
   "source": [
    "#Add DOY and DOWY column\n",
    "def add_dowy(df, col=None):\n",
    "    print(\"Adding Day of Water Year (DOWY)\")\n",
    "    if col is None:\n",
    "        df['doy'] = df.index.dayofyear\n",
    "        df['decyear'] = Time(df.index).decimalyear\n",
    "    else:\n",
    "        df['doy'] = pd.to_datetime(df[col]).dt.dayofyear\n",
    "        df['decyear'] = Time(pd.to_datetime(df[col])).decimalyear\n",
    "    \n",
    "    #df['dowy'] = (df['doy'].index - pd.DateOffset(months=9)).dayofyear\n",
    "    # Sept 30 is doy 273\n",
    "    df['dowy'] = df['doy'] - 273\n",
    "    df.loc[df['dowy'] <= 0, 'dowy'] += 365"
   ]
  },
  {
   "cell_type": "code",
   "execution_count": 3,
   "id": "b6261217-83db-41fc-980e-abf72d7e391e",
   "metadata": {},
   "outputs": [],
   "source": [
    "fn = '../../../data/snotel_depths.pkl'\n",
    "gm_sntl = pickle.load(open(fn, 'rb'))"
   ]
  },
  {
   "cell_type": "code",
   "execution_count": 11,
   "id": "5c84cb57-2c36-46ac-9b21-5c8f820f014d",
   "metadata": {},
   "outputs": [
    {
     "data": {
      "text/plain": [
       "<AxesSubplot:xlabel='Date'>"
      ]
     },
     "execution_count": 11,
     "metadata": {},
     "output_type": "execute_result"
    },
    {
     "data": {
      "image/png": "[encoded data removed]",
      "text/plain": [
       "<Figure size 432x288 with 1 Axes>"
      ]
     },
     "metadata": {
      "needs_background": "light"
     },
     "output_type": "display_data"
    }
   ],
   "source": [
    "gm_sntl.plot()"
   ]
  },
  {
   "cell_type": "code",
   "execution_count": 13,
   "id": "ee359c6d-dc16-4e69-bc7e-149af6c08b7b",
   "metadata": {},
   "outputs": [
    {
     "data": {
      "text/html": [
       "<div>\n",
       "<style scoped>\n",
       "    .dataframe tbody tr th:only-of-type {\n",
       "        vertical-align: middle;\n",
       "    }\n",
       "\n",
       "    .dataframe tbody tr th {\n",
       "        vertical-align: top;\n",
       "    }\n",
       "\n",
       "    .dataframe thead th {\n",
       "        text-align: right;\n",
       "    }\n",
       "</style>\n",
       "<table border=\"1\" class=\"dataframe\">\n",
       "  <thead>\n",
       "    <tr style=\"text-align: right;\">\n",
       "      <th></th>\n",
       "      <th>622:CO:SNTL:SNWD</th>\n",
       "    </tr>\n",
       "    <tr>\n",
       "      <th>Date</th>\n",
       "      <th></th>\n",
       "    </tr>\n",
       "  </thead>\n",
       "  <tbody>\n",
       "    <tr>\n",
       "      <th>2018-10-01</th>\n",
       "      <td>0.0</td>\n",
       "    </tr>\n",
       "    <tr>\n",
       "      <th>2018-10-02</th>\n",
       "      <td>0.0</td>\n",
       "    </tr>\n",
       "  </tbody>\n",
       "</table>\n",
       "</div>"
      ],
      "text/plain": [
       "            622:CO:SNTL:SNWD\n",
       "Date                        \n",
       "2018-10-01               0.0\n",
       "2018-10-02               0.0"
      ]
     },
     "execution_count": 13,
     "metadata": {},
     "output_type": "execute_result"
    }
   ],
   "source": [
    "gm_sntl.head(2)"
   ]
  },
  {
   "cell_type": "code",
   "execution_count": 9,
   "id": "da256700-c257-40c9-8fe9-123f2f2f94ad",
   "metadata": {},
   "outputs": [],
   "source": [
    "gm_sntl = gm_sntl.rename(columns={'622:CO:SNTL:SNWD':'snow_depth'})"
   ]
  },
  {
   "cell_type": "code",
   "execution_count": 4,
   "id": "17761cd2-d38e-4b23-b164-1b70b634194e",
   "metadata": {},
   "outputs": [],
   "source": [
    "gm_sntl = gm_sntl * 2.54/100\n",
    "gm_sntl.index = pd.DatetimeIndex(gm_sntl.index)"
   ]
  },
  {
   "cell_type": "code",
   "execution_count": 6,
   "id": "46a1f57e-323d-472e-9eb2-9d1da0d78f36",
   "metadata": {},
   "outputs": [
    {
     "name": "stdout",
     "output_type": "stream",
     "text": [
      "Adding Day of Water Year (DOWY)\n"
     ]
    },
    {
     "data": {
      "text/html": [
       "<div>\n",
       "<style scoped>\n",
       "    .dataframe tbody tr th:only-of-type {\n",
       "        vertical-align: middle;\n",
       "    }\n",
       "\n",
       "    .dataframe tbody tr th {\n",
       "        vertical-align: top;\n",
       "    }\n",
       "\n",
       "    .dataframe thead th {\n",
       "        text-align: right;\n",
       "    }\n",
       "</style>\n",
       "<table border=\"1\" class=\"dataframe\">\n",
       "  <thead>\n",
       "    <tr style=\"text-align: right;\">\n",
       "      <th></th>\n",
       "      <th>622:CO:SNTL:SNWD</th>\n",
       "      <th>doy</th>\n",
       "      <th>decyear</th>\n",
       "      <th>dowy</th>\n",
       "    </tr>\n",
       "    <tr>\n",
       "      <th>Date</th>\n",
       "      <th></th>\n",
       "      <th></th>\n",
       "      <th></th>\n",
       "      <th></th>\n",
       "    </tr>\n",
       "  </thead>\n",
       "  <tbody>\n",
       "    <tr>\n",
       "      <th>2018-10-01</th>\n",
       "      <td>0.0</td>\n",
       "      <td>274</td>\n",
       "      <td>2018.747945</td>\n",
       "      <td>1</td>\n",
       "    </tr>\n",
       "    <tr>\n",
       "      <th>2018-10-02</th>\n",
       "      <td>0.0</td>\n",
       "      <td>275</td>\n",
       "      <td>2018.750685</td>\n",
       "      <td>2</td>\n",
       "    </tr>\n",
       "    <tr>\n",
       "      <th>2018-10-03</th>\n",
       "      <td>0.0</td>\n",
       "      <td>276</td>\n",
       "      <td>2018.753425</td>\n",
       "      <td>3</td>\n",
       "    </tr>\n",
       "    <tr>\n",
       "      <th>2018-10-04</th>\n",
       "      <td>0.0</td>\n",
       "      <td>277</td>\n",
       "      <td>2018.756164</td>\n",
       "      <td>4</td>\n",
       "    </tr>\n",
       "    <tr>\n",
       "      <th>2018-10-05</th>\n",
       "      <td>0.0</td>\n",
       "      <td>278</td>\n",
       "      <td>2018.758904</td>\n",
       "      <td>5</td>\n",
       "    </tr>\n",
       "  </tbody>\n",
       "</table>\n",
       "</div>"
      ],
      "text/plain": [
       "            622:CO:SNTL:SNWD  doy      decyear  dowy\n",
       "Date                                                \n",
       "2018-10-01               0.0  274  2018.747945     1\n",
       "2018-10-02               0.0  275  2018.750685     2\n",
       "2018-10-03               0.0  276  2018.753425     3\n",
       "2018-10-04               0.0  277  2018.756164     4\n",
       "2018-10-05               0.0  278  2018.758904     5"
      ]
     },
     "execution_count": 6,
     "metadata": {},
     "output_type": "execute_result"
    }
   ],
   "source": [
    "add_dowy(gm_sntl)\n",
    "gm_sntl.head()"
   ]
  },
  {
   "cell_type": "code",
   "execution_count": 12,
   "id": "42016384-d4e2-4130-bca0-eb623b4c041c",
   "metadata": {},
   "outputs": [
    {
     "data": {
      "text/plain": [
       "Date\n",
       "2018-10-01     True\n",
       "2018-10-02     True\n",
       "2018-10-03     True\n",
       "2018-10-04     True\n",
       "2018-10-05     True\n",
       "              ...  \n",
       "2022-07-09    False\n",
       "2022-07-10    False\n",
       "2022-07-11    False\n",
       "2022-07-12    False\n",
       "2022-07-13    False\n",
       "Name: snow_depth, Length: 1382, dtype: bool"
      ]
     },
     "execution_count": 12,
     "metadata": {},
     "output_type": "execute_result"
    }
   ],
   "source": [
    "idx_st = (gm_sntl['snow_depth'] < 0.1)\n",
    "idx_st"
   ]
  },
  {
   "cell_type": "code",
   "execution_count": null,
   "id": "47f88f78-7552-410e-ad31-9f5d54920d04",
   "metadata": {},
   "outputs": [],
   "source": []
  }
 ],
 "metadata": {
  "kernelspec": {
   "display_name": "Python 3 (ipykernel)",
   "language": "python",
   "name": "python3"
  },
  "language_info": {
   "codemirror_mode": {
    "name": "ipython",
    "version": 3
   },
   "file_extension": ".py",
   "mimetype": "text/x-python",
   "name": "python",
   "nbconvert_exporter": "python",
   "pygments_lexer": "ipython3",
   "version": "3.10.5"
  }
 },
 "nbformat": 4,
 "nbformat_minor": 5
}
