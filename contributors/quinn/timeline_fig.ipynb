{
 "cells": [
  {
   "cell_type": "markdown",
   "id": "fa316c43-9bad-421b-b153-b4cf4c430a7e",
   "metadata": {},
   "source": [
    "# Temporal overlap figure"
   ]
  },
  {
   "cell_type": "code",
   "execution_count": 51,
   "id": "d04a00a3-c7c3-4540-90a8-cfb3c016c428",
   "metadata": {},
   "outputs": [],
   "source": [
    "import os\n",
    "from datetime import datetime\n",
    "import numpy as np\n",
    "import matplotlib.pyplot as plt\n",
    "import pandas as pd\n",
    "import geopandas as gpd\n",
    "import seaborn as sns"
   ]
  },
  {
   "cell_type": "markdown",
   "id": "11e9ede7-cd8f-4c87-b609-6cb66e0bb29e",
   "metadata": {},
   "source": [
    "## Fake data"
   ]
  },
  {
   "cell_type": "code",
   "execution_count": 17,
   "id": "183b1952-2252-4cfa-b272-3619be877e5c",
   "metadata": {},
   "outputs": [
    {
     "data": {
      "text/html": [
       "<div>\n",
       "<style scoped>\n",
       "    .dataframe tbody tr th:only-of-type {\n",
       "        vertical-align: middle;\n",
       "    }\n",
       "\n",
       "    .dataframe tbody tr th {\n",
       "        vertical-align: top;\n",
       "    }\n",
       "\n",
       "    .dataframe thead th {\n",
       "        text-align: right;\n",
       "    }\n",
       "</style>\n",
       "<table border=\"1\" class=\"dataframe\">\n",
       "  <thead>\n",
       "    <tr style=\"text-align: right;\">\n",
       "      <th></th>\n",
       "      <th>start_date</th>\n",
       "      <th>end_date</th>\n",
       "      <th>collection</th>\n",
       "      <th>date_order</th>\n",
       "    </tr>\n",
       "  </thead>\n",
       "  <tbody>\n",
       "    <tr>\n",
       "      <th>0</th>\n",
       "      <td>2020-09-10</td>\n",
       "      <td>2020-10-10</td>\n",
       "      <td>a</td>\n",
       "      <td>0</td>\n",
       "    </tr>\n",
       "    <tr>\n",
       "      <th>1</th>\n",
       "      <td>2020-10-10</td>\n",
       "      <td>2020-11-10</td>\n",
       "      <td>a</td>\n",
       "      <td>1</td>\n",
       "    </tr>\n",
       "    <tr>\n",
       "      <th>2</th>\n",
       "      <td>2020-11-10</td>\n",
       "      <td>2020-12-10</td>\n",
       "      <td>b</td>\n",
       "      <td>2</td>\n",
       "    </tr>\n",
       "    <tr>\n",
       "      <th>3</th>\n",
       "      <td>2020-12-10</td>\n",
       "      <td>2021-01-10</td>\n",
       "      <td>c</td>\n",
       "      <td>3</td>\n",
       "    </tr>\n",
       "    <tr>\n",
       "      <th>4</th>\n",
       "      <td>2021-01-10</td>\n",
       "      <td>2021-10-20</td>\n",
       "      <td>c</td>\n",
       "      <td>4</td>\n",
       "    </tr>\n",
       "    <tr>\n",
       "      <th>5</th>\n",
       "      <td>2021-10-20</td>\n",
       "      <td>2021-09-10</td>\n",
       "      <td>d</td>\n",
       "      <td>5</td>\n",
       "    </tr>\n",
       "    <tr>\n",
       "      <th>6</th>\n",
       "      <td>2021-09-10</td>\n",
       "      <td>2021-10-10</td>\n",
       "      <td>e</td>\n",
       "      <td>6</td>\n",
       "    </tr>\n",
       "    <tr>\n",
       "      <th>7</th>\n",
       "      <td>2021-10-10</td>\n",
       "      <td>2021-11-10</td>\n",
       "      <td>f</td>\n",
       "      <td>7</td>\n",
       "    </tr>\n",
       "  </tbody>\n",
       "</table>\n",
       "</div>"
      ],
      "text/plain": [
       "  start_date   end_date collection  date_order\n",
       "0 2020-09-10 2020-10-10          a           0\n",
       "1 2020-10-10 2020-11-10          a           1\n",
       "2 2020-11-10 2020-12-10          b           2\n",
       "3 2020-12-10 2021-01-10          c           3\n",
       "4 2021-01-10 2021-10-20          c           4\n",
       "5 2021-10-20 2021-09-10          d           5\n",
       "6 2021-09-10 2021-10-10          e           6\n",
       "7 2021-10-10 2021-11-10          f           7"
      ]
     },
     "execution_count": 17,
     "metadata": {},
     "output_type": "execute_result"
    }
   ],
   "source": [
    "#fake uavsar dates\n",
    "columns = ['start_date', 'end_date', 'collection']\n",
    "index = range(8)\n",
    "\n",
    "uavsar_df = pd.DataFrame(columns=columns, index=index)\n",
    "\n",
    "uavsar_df['start_date'] = ['20200910', '20201010', '20201110', '20201210', '20210110', '20211020', '20210910', '20211010']\n",
    "uavsar_df['end_date'] = ['20201010', '20201110', '20201210', '20210110', '20211020', '20210910', '20211010', '20211110']\n",
    "uavsar_df['collection'] = ['a', 'a', 'a', 'a', 'a', 'a', 'a', 'a']\n",
    "uavsar_df['date_order'] = range(8)\n",
    "\n",
    "uavsar_df['start_date'] = pd.to_datetime(uavsar_df['start_date'], format='%Y%m%d')\n",
    "uavsar_df['end_date'] = pd.to_datetime(uavsar_df['end_date'], format='%Y%m%d')\n",
    "\n",
    "uavsar_df"
   ]
  },
  {
   "cell_type": "code",
   "execution_count": 59,
   "id": "6c12e92e-ecbe-4af9-831e-a26696d63284",
   "metadata": {},
   "outputs": [
    {
     "data": {
      "text/html": [
       "<div>\n",
       "<style scoped>\n",
       "    .dataframe tbody tr th:only-of-type {\n",
       "        vertical-align: middle;\n",
       "    }\n",
       "\n",
       "    .dataframe tbody tr th {\n",
       "        vertical-align: top;\n",
       "    }\n",
       "\n",
       "    .dataframe thead th {\n",
       "        text-align: right;\n",
       "    }\n",
       "</style>\n",
       "<table border=\"1\" class=\"dataframe\">\n",
       "  <thead>\n",
       "    <tr style=\"text-align: right;\">\n",
       "      <th></th>\n",
       "      <th>date</th>\n",
       "      <th>collection</th>\n",
       "    </tr>\n",
       "  </thead>\n",
       "  <tbody>\n",
       "    <tr>\n",
       "      <th>0</th>\n",
       "      <td>2020-09-23</td>\n",
       "      <td>a</td>\n",
       "    </tr>\n",
       "    <tr>\n",
       "      <th>1</th>\n",
       "      <td>2020-10-16</td>\n",
       "      <td>a</td>\n",
       "    </tr>\n",
       "    <tr>\n",
       "      <th>2</th>\n",
       "      <td>2020-11-02</td>\n",
       "      <td>a</td>\n",
       "    </tr>\n",
       "    <tr>\n",
       "      <th>3</th>\n",
       "      <td>2020-12-16</td>\n",
       "      <td>a</td>\n",
       "    </tr>\n",
       "    <tr>\n",
       "      <th>4</th>\n",
       "      <td>2021-01-30</td>\n",
       "      <td>a</td>\n",
       "    </tr>\n",
       "    <tr>\n",
       "      <th>5</th>\n",
       "      <td>2021-10-20</td>\n",
       "      <td>a</td>\n",
       "    </tr>\n",
       "    <tr>\n",
       "      <th>6</th>\n",
       "      <td>2021-09-08</td>\n",
       "      <td>a</td>\n",
       "    </tr>\n",
       "    <tr>\n",
       "      <th>7</th>\n",
       "      <td>2021-10-19</td>\n",
       "      <td>a</td>\n",
       "    </tr>\n",
       "  </tbody>\n",
       "</table>\n",
       "</div>"
      ],
      "text/plain": [
       "        date collection\n",
       "0 2020-09-23          a\n",
       "1 2020-10-16          a\n",
       "2 2020-11-02          a\n",
       "3 2020-12-16          a\n",
       "4 2021-01-30          a\n",
       "5 2021-10-20          a\n",
       "6 2021-09-08          a\n",
       "7 2021-10-19          a"
      ]
     },
     "execution_count": 59,
     "metadata": {},
     "output_type": "execute_result"
    }
   ],
   "source": [
    "# fake icesat 2 passes \n",
    "columns = ['date']\n",
    "index = range(8)\n",
    "\n",
    "icesat_df = pd.DataFrame(columns=columns, index=index)\n",
    "\n",
    "icesat_df['date'] = ['20200923', '20201016', '20201102', '20201216', '20210130', '20211020', '20210908', '20211019']\n",
    "icesat_df['collection'] = ['a', 'a', 'a', 'a', 'a', 'a', 'a', 'a']\n",
    "icesat_df['date'] = pd.to_datetime(icesat_df['date'], format='%Y%m%d')\n",
    "\n",
    "\n",
    "icesat_df"
   ]
  },
  {
   "cell_type": "code",
   "execution_count": 66,
   "id": "3c240fc7-f65d-4c77-8387-8fc9007966c3",
   "metadata": {},
   "outputs": [
    {
     "data": {
      "text/plain": [
       "Text(0.5, 0, 'date')"
      ]
     },
     "execution_count": 66,
     "metadata": {},
     "output_type": "execute_result"
    },
    {
     "data": {
      "image/png": "[encoded data removed]",
      "text/plain": [
       "<Figure size 1080x360 with 1 Axes>"
      ]
     },
     "metadata": {},
     "output_type": "display_data"
    }
   ],
   "source": [
    "sns.set_theme()\n",
    "\n",
    "# plot temporal overlap\n",
    "f, ax = plt.subplots(figsize=(15,5))\n",
    "\n",
    "for i in range(len(icesat_df)):\n",
    "    ax.axvline(icesat_df['date'][i], 0, 1)\n",
    "\n",
    "for i in range(len(uavsar_df)):\n",
    "    ax.plot([uavsar_df['start_date'][i], uavsar_df['end_date'][i]], [i, i], 'r', lw=8, solid_capstyle='butt')\n",
    "ax.set_yticks([])\n",
    "ax.set_xlabel('date')\n",
    "\n"
   ]
  },
  {
   "cell_type": "markdown",
   "id": "2fc2a689-4f6c-4375-860c-7c19ea76f71a",
   "metadata": {},
   "source": [
    "## Grand Mesa"
   ]
  },
  {
   "cell_type": "code",
   "execution_count": null,
   "id": "8d9f7162-fa0f-4e6d-8ea1-3a9d72e52698",
   "metadata": {},
   "outputs": [],
   "source": []
  }
 ],
 "metadata": {
  "kernelspec": {
   "display_name": "Python 3 (ipykernel)",
   "language": "python",
   "name": "python3"
  },
  "language_info": {
   "codemirror_mode": {
    "name": "ipython",
    "version": 3
   },
   "file_extension": ".py",
   "mimetype": "text/x-python",
   "name": "python",
   "nbconvert_exporter": "python",
   "pygments_lexer": "ipython3",
   "version": "3.10.5"
  }
 },
 "nbformat": 4,
 "nbformat_minor": 5
}
