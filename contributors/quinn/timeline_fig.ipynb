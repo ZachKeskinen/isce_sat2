{
 "cells": [
  {
   "cell_type": "markdown",
   "id": "fa316c43-9bad-421b-b153-b4cf4c430a7e",
   "metadata": {},
   "source": [
    "# Temporal overlap figure"
   ]
  },
  {
   "cell_type": "code",
   "execution_count": 1,
   "id": "d04a00a3-c7c3-4540-90a8-cfb3c016c428",
   "metadata": {},
   "outputs": [],
   "source": [
    "import os\n",
    "from datetime import datetime\n",
    "import numpy as np\n",
    "import matplotlib.pyplot as plt\n",
    "import pandas as pd\n",
    "import geopandas as gpd\n",
    "import seaborn as sns"
   ]
  },
  {
   "cell_type": "markdown",
   "id": "11e9ede7-cd8f-4c87-b609-6cb66e0bb29e",
   "metadata": {},
   "source": [
    "## Fake data"
   ]
  },
  {
   "cell_type": "code",
   "execution_count": 2,
   "id": "183b1952-2252-4cfa-b272-3619be877e5c",
   "metadata": {},
   "outputs": [],
   "source": [
    "#fake uavsar dates\n",
    "columns = ['start_date', 'end_date', 'collection']\n",
    "index = range(8)\n",
    "\n",
    "uavsar_df = pd.DataFrame(columns=columns, index=index)\n",
    "\n",
    "uavsar_df['start_date'] = ['20200910', '20201010', '20201110', '20201210', '20210110', '20211020', '20210910', '20211010']\n",
    "uavsar_df['end_date'] = ['20201010', '20201110', '20201210', '20210110', '20211020', '20210910', '20211010', '20211110']\n",
    "uavsar_df['collection'] = ['a', 'a', 'a', 'a', 'a', 'a', 'a', 'a']\n",
    "uavsar_df['date_order'] = range(8)\n",
    "\n",
    "uavsar_df['start_date'] = pd.to_datetime(uavsar_df['start_date'], format='%Y%m%d')\n",
    "uavsar_df['end_date'] = pd.to_datetime(uavsar_df['end_date'], format='%Y%m%d')"
   ]
  },
  {
   "cell_type": "code",
   "execution_count": 3,
   "id": "6c12e92e-ecbe-4af9-831e-a26696d63284",
   "metadata": {},
   "outputs": [],
   "source": [
    "# fake icesat 2 passes \n",
    "columns = ['date']\n",
    "index = range(8)\n",
    "\n",
    "icesat_df = pd.DataFrame(columns=columns, index=index)\n",
    "\n",
    "icesat_df['date'] = ['20200923', '20201016', '20201102', '20201216', '20210130', '20211020', '20210908', '20211019']\n",
    "icesat_df['collection'] = ['a', 'a', 'a', 'a', 'a', 'a', 'a', 'a']\n",
    "icesat_df['date'] = pd.to_datetime(icesat_df['date'], format='%Y%m%d')"
   ]
  },
  {
   "cell_type": "code",
   "execution_count": 4,
   "id": "3c240fc7-f65d-4c77-8387-8fc9007966c3",
   "metadata": {},
   "outputs": [
    {
     "data": {
      "text/plain": [
       "Text(0.5, 0, 'date')"
      ]
     },
     "execution_count": 4,
     "metadata": {},
     "output_type": "execute_result"
    },
    {
     "data": {
      "image/png": "[encoded data removed]",
      "text/plain": [
       "<Figure size 1080x360 with 1 Axes>"
      ]
     },
     "metadata": {
      "needs_background": "light"
     },
     "output_type": "display_data"
    }
   ],
   "source": [
    "#sns.set_theme()\n",
    "\n",
    "# plot temporal overlap\n",
    "f, ax = plt.subplots(figsize=(15,5))\n",
    "\n",
    "for i in range(len(icesat_df)):\n",
    "    ax.axvline(icesat_df['date'][i], 0, 1)\n",
    "\n",
    "for i in range(len(uavsar_df)):\n",
    "    ax.plot([uavsar_df['start_date'][i], uavsar_df['end_date'][i]], [i, i], 'r', lw=8, solid_capstyle='butt')\n",
    "ax.set_yticks([])\n",
    "ax.set_xlabel('date')"
   ]
  },
  {
   "cell_type": "markdown",
   "id": "2fc2a689-4f6c-4375-860c-7c19ea76f71a",
   "metadata": {},
   "source": [
    "## Grand Mesa"
   ]
  },
  {
   "cell_type": "code",
   "execution_count": 5,
   "id": "fcd4171b-3426-416e-94f5-2fe48d3fb59e",
   "metadata": {},
   "outputs": [],
   "source": [
    "# Copying dates from https://uavsar.jpl.nasa.gov/cgi-bin/data.pl, asf search api is down\n",
    "#uavsar dates from flight line: grmesa07805\n",
    "grmesa07805_start = ['20170222', '20170222', '20170222', '20170225', '20170206', '20170206', '20170206', '20170206', '20170206']\n",
    "grmesa07805_end = ['20170225', '20170308', '20170331', '20170301', '20170222', '20170222', '20170225', '20170308', '20170331']\n",
    "\n",
    "#uavsar dates from flight line grmesa08006:\n",
    "grmesa08006_start = ['20170222', '20170222', '20170206', '20170206', '20170206']\n",
    "grmesa08006_end = ['20170308', '20170331', '20170222', '20170308', '20170331']\n",
    "\n",
    "#uavsar dates from flight line grmesa08112:\n",
    "grmesa08112_start = ['20161027', '20150609', '20150512', '20150504', '20150408']\n",
    "grmesa08112_end = ['20170905', '20160623', '20150629', '20150512', '20150504']\n",
    "\n",
    "#uavsar dates from flight line grmesa26006: \n",
    "grmesa08112_start = ['20170225', '20170225', '20170225', '20170222', '20170222', '20170222', '20170222', '20170206', '20170206', '20170206', '20170206', '20170206']\n",
    "grmesa08112_end = ['20170308', '20170331', '20170331', '20170225', '20170225', '20170308', '20170331', '20170222', '20170222', '20170225', '20170308', '20170331']\n",
    "\n",
    "#uavsar dates from flight line grmesa26108:\n",
    "grmesa26108_start = ['20161027', '20150512', '20150504', '20150428']\n",
    "grmesa26108_end = ['20170905', '20150629', '20150512', '20150504']\n",
    "\n",
    "#uavsar dates from flight line grmesa27416:\n",
    "grmesa27416_start = ['20210316', '20210310', '20210303', '20210210', '20210203', '20210127', '20200226', '20200226', '20200219', '20200219', '20200219', '20200212', '20200212', '20200212', '20200201']\n",
    "grmesa27416_end = ['20210322', '20210316', '20210310', '20210303', '20210210', '20210203', '20200312', '20200312', '20200226', '20200226', '20200226', '20200219', '20200219', '20200219', '20200212']\n",
    "\n",
    "uavsar_start = grmesa07805_start + grmesa08006_start + grmesa08112_start + grmesa08112_start + grmesa26108_start + grmesa27416_start\n",
    "uavsar_end = grmesa07805_end + grmesa08006_end + grmesa08112_end + grmesa08112_end + grmesa26108_end + grmesa27416_end"
   ]
  },
  {
   "cell_type": "code",
   "execution_count": 6,
   "id": "b8b01f1a-2ab7-4652-ad05-f396b625b365",
   "metadata": {},
   "outputs": [],
   "source": [
    "# load in icesat2 dateframe, keep only unique dates\n",
    "icesat_df = pd.read_pickle('GrandMesaCO_atl06sr.pkl').reset_index()\n",
    "icesat_df = icesat_df['time']\n",
    "icesat_df['date'] = icesat_df.dt.date\n",
    "icesat_df = icesat_df['date']\n",
    "icesat_df = icesat_df.drop_duplicates().reset_index()"
   ]
  },
  {
   "cell_type": "code",
   "execution_count": 7,
   "id": "8d9f7162-fa0f-4e6d-8ea1-3a9d72e52698",
   "metadata": {},
   "outputs": [],
   "source": [
    "#create uavsar date df for plotting, keep only unique pairs\n",
    "columns = ['start_date', 'end_date']\n",
    "\n",
    "uavsar_df = pd.DataFrame(columns=columns)\n",
    "\n",
    "uavsar_df['start_date'] = uavsar_start \n",
    "uavsar_df['end_date'] = uavsar_end\n",
    "\n",
    "uavsar_df = uavsar_df.sort_values(['start_date', 'end_date'])\n",
    "uavsar_df = uavsar_df.drop_duplicates()\n",
    "uavsar_df = uavsar_df[uavsar_df['start_date'] > '20190101'] # trip to overlap with period of icesat2 service\n",
    "uavsar_df['start_date'] = pd.to_datetime(uavsar_df['start_date'], format='%Y%m%d')\n",
    "uavsar_df['end_date'] = pd.to_datetime(uavsar_df['end_date'], format='%Y%m%d')\n",
    "uavsar_df = uavsar_df.reset_index()"
   ]
  },
  {
   "cell_type": "code",
   "execution_count": 10,
   "id": "d9085dca-308c-4046-992c-30a124216851",
   "metadata": {},
   "outputs": [
    {
     "data": {
      "text/plain": [
       "Text(0.5, 1.0, 'Temporal overlap of UAVSAR pairs and ICESat2 passes at Grand Mesa, CO')"
      ]
     },
     "execution_count": 10,
     "metadata": {},
     "output_type": "execute_result"
    },
    {
     "data": {
      "image/png": "[encoded data removed]",
      "text/plain": [
       "<Figure size 720x288 with 1 Axes>"
      ]
     },
     "metadata": {
      "needs_background": "light"
     },
     "output_type": "display_data"
    }
   ],
   "source": [
    "# plot temporal overlap\n",
    "f, ax = plt.subplots(figsize=(10,4))\n",
    "\n",
    "# plot icesat passes as vertical lines\n",
    "for i in range(len(icesat_df)):\n",
    "    ax.axvline(icesat_df['time'][i], 0, 1, c='c', label='icesat 2 pass') \n",
    "\n",
    "# plot uavsar pairs as horizontal bars \n",
    "for i in range(len(uavsar_df)):\n",
    "    ax.plot([uavsar_df['start_date'][i], uavsar_df['end_date'][i]], [i, i], 'tomato', lw=18, solid_capstyle='butt', label='uavsar pairs')\n",
    "ax.set_yticks([])\n",
    "ax.set_xlabel('date')\n",
    "ax.set_xlim(datetime.strptime('20200101', '%Y%m%d'), datetime.strptime('20210401', '%Y%m%d'))\n",
    "            \n",
    "# remove duplicate labels\n",
    "handles, labels = plt.gca().get_legend_handles_labels()\n",
    "by_label = dict(zip(labels, handles))\n",
    "ax.legend(by_label.values(), by_label.keys())\n",
    "ax.set_title('Temporal overlap of UAVSAR pairs and ICESat2 passes at Grand Mesa, CO')"
   ]
  }
 ],
 "metadata": {
  "kernelspec": {
   "display_name": "Python 3 (ipykernel)",
   "language": "python",
   "name": "python3"
  },
  "language_info": {
   "codemirror_mode": {
    "name": "ipython",
    "version": 3
   },
   "file_extension": ".py",
   "mimetype": "text/x-python",
   "name": "python",
   "nbconvert_exporter": "python",
   "pygments_lexer": "ipython3",
   "version": "3.10.5"
  }
 },
 "nbformat": 4,
 "nbformat_minor": 5
}
