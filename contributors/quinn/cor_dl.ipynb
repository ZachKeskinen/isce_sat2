{
 "cells": [
  {
   "cell_type": "code",
   "execution_count": 1,
   "id": "2123d745-49ce-4f3b-b1c8-2ce134af1b62",
   "metadata": {},
   "outputs": [],
   "source": [
    "# ## Creating .netrc file with Earthdata login information\n",
    "#from uavsar_pytools.uavsar_tools import create_netrc\n",
    "\n",
    "# # This will prompt you for your username and password and save this\n",
    "# # information into a .netrc file in your home directory. You only need to run\n",
    "# # this command once per computer. Then it will be saved.\n",
    "#create_netrc()"
   ]
  },
  {
   "cell_type": "code",
   "execution_count": 5,
   "id": "4f427e6b-5d11-499b-ad2a-c88eb5b263f9",
   "metadata": {},
   "outputs": [
    {
     "data": {
      "application/vnd.jupyter.widget-view+json": {
       "model_id": "5f7d26d44cfc4e9584181a6f0ae68dd6",
       "version_major": 2,
       "version_minor": 0
      },
      "text/plain": [
       "Downloading grmesa_27416_20005-007_20008-004_0007d_s01_L090_01_int_grd.zip:   0%|          | 0.00/1.50G [00:00…"
      ]
     },
     "metadata": {},
     "output_type": "display_data"
    },
    {
     "name": "stderr",
     "output_type": "stream",
     "text": [
      "Unzipping: 100%|██████████| 20/20 [00:22<00:00,  1.11s/file]\n"
     ]
    }
   ],
   "source": [
    "try:\n",
    "    from uavsar_pytools import UavsarScene\n",
    "except ModuleNotFoundError:\n",
    "    print('Install uavsar_pytools with `pip install uavsar_pytools`')\n",
    "\n",
    "## This is the directory you want to download and convert the images in.\n",
    "work_dir = '/tmp/uavsar_data'\n",
    "\n",
    "## This is a url you want to download. Can be obtained from vertex\n",
    "# below is feb12-19\n",
    "#url = 'https://datapool.asf.alaska.edu/INTERFEROMETRY_GRD/UA/grmesa_27416_20005-007_20008-004_0007d_s01_L090_01_int_grd.zip'\n",
    "# below is feb26-mar12\n",
    "#url = 'https://datapool.asf.alaska.edu/INTERFEROMETRY_GRD/UA/grmesa_27416_20013-004_20017-006_0015d_s01_L090_01_int_grd.zip'\n",
    "## clean = True will delete the binary and zip files leaving only the tiffs\n",
    "scene = UavsarScene(url = url, work_dir=work_dir, clean= True)\n",
    "\n",
    "## After running url_to_tiffs() you will download the zip file, unzip the binary \n",
    "## files, and convert them to geotiffs in the directory with the scene name in\n",
    "## the work directory. It also generate a .csv pandas dictionary of metadata.\n",
    "scene.url_to_tiffs()"
   ]
  },
  {
   "cell_type": "code",
   "execution_count": null,
   "id": "f45ac769-f258-4359-be73-a65f46cfe25c",
   "metadata": {},
   "outputs": [],
   "source": []
  }
 ],
 "metadata": {
  "kernelspec": {
   "display_name": "Python 3 (ipykernel)",
   "language": "python",
   "name": "python3"
  },
  "language_info": {
   "codemirror_mode": {
    "name": "ipython",
    "version": 3
   },
   "file_extension": ".py",
   "mimetype": "text/x-python",
   "name": "python",
   "nbconvert_exporter": "python",
   "pygments_lexer": "ipython3",
   "version": "3.10.5"
  }
 },
 "nbformat": 4,
 "nbformat_minor": 5
}
