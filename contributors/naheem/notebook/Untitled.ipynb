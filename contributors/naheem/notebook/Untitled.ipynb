{
 "cells": [
  {
   "cell_type": "code",
   "execution_count": 1,
   "id": "010e1ff7-395d-4c2d-84ee-973a7ba02341",
   "metadata": {},
   "outputs": [
    {
     "data": {
      "text/plain": [
       "'/home/jovyan/isce_sat2/contributors/naheem/notebook'"
      ]
     },
     "execution_count": 1,
     "metadata": {},
     "output_type": "execute_result"
    }
   ],
   "source": [
    "pwd"
   ]
  },
  {
   "cell_type": "code",
   "execution_count": 1,
   "id": "3755aa13-d863-4f59-9fa8-e274a8ad7f68",
   "metadata": {},
   "outputs": [
    {
     "name": "stderr",
     "output_type": "stream",
     "text": [
      "INFO:uavsar_pytools.uavsar_collection:Found 13 image pairs\n",
      "INFO:uavsar_pytools.uavsar_collection:Starting on: https://datapool.asf.alaska.edu/INTERFEROMETRY_GRD/UA/grmesa_27416_21019-017_21021-005_0006d_s01_L090_01_int_grd.zip\n"
     ]
    },
    {
     "data": {
      "application/vnd.jupyter.widget-view+json": {
       "model_id": "5121b6b0944c4d6da81e76cc08d3917d",
       "version_major": 2,
       "version_minor": 0
      },
      "text/plain": [
       "Downloading grmesa_27416_21019-017_21021-005_0006d_s01_L090_01_int_grd.zip:   0%|          | 0.00/1.11G [00:00…"
      ]
     },
     "metadata": {},
     "output_type": "display_data"
    },
    {
     "name": "stderr",
     "output_type": "stream",
     "text": [
      "Unzipping: 100%|██████████| 20/20 [00:35<00:00,  1.78s/file]\n",
      "INFO:uavsar_pytools.uavsar_collection:Starting on: https://datapool.asf.alaska.edu/INTERFEROMETRY_GRD/UA/grmesa_27416_21017-017_21019-017_0006d_s01_L090_01_int_grd.zip\n"
     ]
    },
    {
     "name": "stdout",
     "output_type": "stream",
     "text": [
      "Completed 16-Mar-2021 16:39:43 UTC to 22-Mar-2021 15:30:53 UTC\n"
     ]
    },
    {
     "data": {
      "application/vnd.jupyter.widget-view+json": {
       "model_id": "8efca8db5df347728c476414772eae82",
       "version_major": 2,
       "version_minor": 0
      },
      "text/plain": [
       "Downloading grmesa_27416_21017-017_21019-017_0006d_s01_L090_01_int_grd.zip:   0%|          | 0.00/1.11G [00:00…"
      ]
     },
     "metadata": {},
     "output_type": "display_data"
    },
    {
     "name": "stderr",
     "output_type": "stream",
     "text": [
      "Unzipping: 100%|██████████| 20/20 [00:38<00:00,  1.93s/file]\n",
      "INFO:uavsar_pytools.uavsar_collection:Starting on: https://datapool.asf.alaska.edu/INTERFEROMETRY_GRD/UA/grmesa_27416_21016-002_21017-017_0007d_s01_L090_01_int_grd.zip\n"
     ]
    },
    {
     "name": "stdout",
     "output_type": "stream",
     "text": [
      "Completed 10-Mar-2021 16:36:24 UTC to 16-Mar-2021 16:39:43 UTC\n"
     ]
    },
    {
     "data": {
      "application/vnd.jupyter.widget-view+json": {
       "model_id": "b2d95bd2409f4adfae90114954258e23",
       "version_major": 2,
       "version_minor": 0
      },
      "text/plain": [
       "Downloading grmesa_27416_21016-002_21017-017_0007d_s01_L090_01_int_grd.zip:   0%|          | 0.00/1.46G [00:00…"
      ]
     },
     "metadata": {},
     "output_type": "display_data"
    },
    {
     "name": "stderr",
     "output_type": "stream",
     "text": [
      "Unzipping: 100%|██████████| 20/20 [00:48<00:00,  2.40s/file]\n",
      "INFO:uavsar_pytools.uavsar_collection:Starting on: https://datapool.asf.alaska.edu/INTERFEROMETRY_GRD/UA/grmesa_27416_21011-010_21016-002_0021d_s01_L090_01_int_grd.zip\n"
     ]
    },
    {
     "name": "stdout",
     "output_type": "stream",
     "text": [
      "Completed 3-Mar-2021 22:03:00 UTC to 10-Mar-2021 16:36:09 UTC\n"
     ]
    },
    {
     "data": {
      "application/vnd.jupyter.widget-view+json": {
       "model_id": "a62f9ccab264441db3a011951239d7af",
       "version_major": 2,
       "version_minor": 0
      },
      "text/plain": [
       "Downloading grmesa_27416_21011-010_21016-002_0021d_s01_L090_01_int_grd.zip:   0%|          | 0.00/1.46G [00:00…"
      ]
     },
     "metadata": {},
     "output_type": "display_data"
    },
    {
     "name": "stderr",
     "output_type": "stream",
     "text": [
      "Unzipping: 100%|██████████| 20/20 [00:48<00:00,  2.43s/file]\n",
      "INFO:uavsar_pytools.uavsar_collection:Starting on: https://datapool.asf.alaska.edu/INTERFEROMETRY_GRD/UA/grmesa_27416_21010-002_21011-010_0007d_s01_L090_01_int_grd.zip\n"
     ]
    },
    {
     "name": "stdout",
     "output_type": "stream",
     "text": [
      "Completed 10-Feb-2021 19:12:13 UTC to 3-Mar-2021 22:03:01 UTC\n"
     ]
    },
    {
     "data": {
      "application/vnd.jupyter.widget-view+json": {
       "model_id": "769db1a555da45ef80071cc299b5408e",
       "version_major": 2,
       "version_minor": 0
      },
      "text/plain": [
       "Downloading grmesa_27416_21010-002_21011-010_0007d_s01_L090_01_int_grd.zip:   0%|          | 0.00/1.11G [00:00…"
      ]
     },
     "metadata": {},
     "output_type": "display_data"
    },
    {
     "name": "stderr",
     "output_type": "stream",
     "text": [
      "Unzipping: 100%|██████████| 20/20 [00:34<00:00,  1.73s/file]\n",
      "INFO:uavsar_pytools.uavsar_collection:Starting on: https://datapool.asf.alaska.edu/INTERFEROMETRY_GRD/UA/grmesa_27416_21007-004_21010-002_0007d_s01_L090_01_int_grd.zip\n"
     ]
    },
    {
     "name": "stdout",
     "output_type": "stream",
     "text": [
      "Completed 3-Feb-2021 23:50:36 UTC to 10-Feb-2021 19:12:27 UTC\n"
     ]
    },
    {
     "data": {
      "application/vnd.jupyter.widget-view+json": {
       "model_id": "8cb28eddd5154579af566a7a7db6240c",
       "version_major": 2,
       "version_minor": 0
      },
      "text/plain": [
       "Downloading grmesa_27416_21007-004_21010-002_0007d_s01_L090_01_int_grd.zip:   0%|          | 0.00/1.47G [00:00…"
      ]
     },
     "metadata": {},
     "output_type": "display_data"
    },
    {
     "name": "stderr",
     "output_type": "stream",
     "text": [
      "Unzipping: 100%|██████████| 20/20 [00:46<00:00,  2.30s/file]\n",
      "INFO:uavsar_pytools.uavsar_collection:Starting on: https://datapool.asf.alaska.edu/INTERFEROMETRY_GRD/UA/grmesa_27416_20003-028_20017-006_0040d_s01_L090_01_int_grd.zip\n"
     ]
    },
    {
     "name": "stdout",
     "output_type": "stream",
     "text": [
      "Completed 27-Jan-2021 19:47:02 UTC to 3-Feb-2021 23:50:19 UTC\n"
     ]
    },
    {
     "data": {
      "application/vnd.jupyter.widget-view+json": {
       "model_id": "fe9d2432260643858d694495f9072b8d",
       "version_major": 2,
       "version_minor": 0
      },
      "text/plain": [
       "Downloading grmesa_27416_20003-028_20017-006_0040d_s01_L090_01_int_grd.zip:   0%|          | 0.00/243M [00:00<…"
      ]
     },
     "metadata": {},
     "output_type": "display_data"
    },
    {
     "name": "stderr",
     "output_type": "stream",
     "text": [
      "Unzipping: 100%|██████████| 5/5 [00:08<00:00,  1.70s/file]\n",
      "INFO:uavsar_pytools.uavsar_collection:Starting on: https://datapool.asf.alaska.edu/INTERFEROMETRY_GRD/UA/grmesa_27416_20013-004_20017-006_0015d_s01_L090_01_int_grd.zip\n"
     ]
    },
    {
     "name": "stdout",
     "output_type": "stream",
     "text": [
      "Completed 1-Feb-2020 02:13:16 UTC to 12-Mar-2020 18:17:08 UTC\n"
     ]
    },
    {
     "data": {
      "application/vnd.jupyter.widget-view+json": {
       "model_id": "c3d40dc89eaa416282562efe7e3a95f7",
       "version_major": 2,
       "version_minor": 0
      },
      "text/plain": [
       "Downloading grmesa_27416_20013-004_20017-006_0015d_s01_L090_01_int_grd.zip:   0%|          | 0.00/1.45G [00:00…"
      ]
     },
     "metadata": {},
     "output_type": "display_data"
    },
    {
     "name": "stderr",
     "output_type": "stream",
     "text": [
      "Unzipping: 100%|██████████| 20/20 [00:46<00:00,  2.35s/file]\n",
      "INFO:uavsar_pytools.uavsar_collection:Starting on: https://datapool.asf.alaska.edu/INTERFEROMETRY_GRD/UA/grmesa_27416_20003-028_20013-004_0025d_s01_L090_01_int_grd.zip\n"
     ]
    },
    {
     "name": "stdout",
     "output_type": "stream",
     "text": [
      "Completed 26-Feb-2020 17:40:39 UTC to 12-Mar-2020 18:16:50 UTC\n"
     ]
    },
    {
     "data": {
      "application/vnd.jupyter.widget-view+json": {
       "model_id": "2e81af5c49b34ee596885192d75dc490",
       "version_major": 2,
       "version_minor": 0
      },
      "text/plain": [
       "Downloading grmesa_27416_20003-028_20013-004_0025d_s01_L090_01_int_grd.zip:   0%|          | 0.00/275M [00:00<…"
      ]
     },
     "metadata": {},
     "output_type": "display_data"
    },
    {
     "name": "stderr",
     "output_type": "stream",
     "text": [
      "Unzipping: 100%|██████████| 5/5 [00:09<00:00,  1.82s/file]\n",
      "INFO:uavsar_pytools.uavsar_collection:Starting on: https://datapool.asf.alaska.edu/INTERFEROMETRY_GRD/UA/grmesa_27416_20008-004_20013-004_0007d_s01_L090_01_int_grd.zip\n"
     ]
    },
    {
     "name": "stdout",
     "output_type": "stream",
     "text": [
      "Completed 1-Feb-2020 02:13:16 UTC to 26-Feb-2020 17:40:54 UTC\n"
     ]
    },
    {
     "data": {
      "application/vnd.jupyter.widget-view+json": {
       "model_id": "20073f6408aa418d8ffa74d80d7ecae8",
       "version_major": 2,
       "version_minor": 0
      },
      "text/plain": [
       "Downloading grmesa_27416_20008-004_20013-004_0007d_s01_L090_01_int_grd.zip:   0%|          | 0.00/1.50G [00:00…"
      ]
     },
     "metadata": {},
     "output_type": "display_data"
    },
    {
     "name": "stderr",
     "output_type": "stream",
     "text": [
      "Unzipping: 100%|██████████| 20/20 [00:46<00:00,  2.32s/file]\n",
      "INFO:uavsar_pytools.uavsar_collection:Starting on: https://datapool.asf.alaska.edu/INTERFEROMETRY_GRD/UA/grmesa_27416_20003-028_20008-004_0018d_s01_L090_01_int_grd.zip\n"
     ]
    },
    {
     "name": "stdout",
     "output_type": "stream",
     "text": [
      "Completed 19-Feb-2020 17:24:03 UTC to 26-Feb-2020 17:40:39 UTC\n"
     ]
    },
    {
     "data": {
      "application/vnd.jupyter.widget-view+json": {
       "model_id": "8874f660a618460c907a74ecfb542f4e",
       "version_major": 2,
       "version_minor": 0
      },
      "text/plain": [
       "Downloading grmesa_27416_20003-028_20008-004_0018d_s01_L090_01_int_grd.zip:   0%|          | 0.00/276M [00:00<…"
      ]
     },
     "metadata": {},
     "output_type": "display_data"
    },
    {
     "name": "stderr",
     "output_type": "stream",
     "text": [
      "Unzipping: 100%|██████████| 5/5 [00:08<00:00,  1.73s/file]\n",
      "INFO:uavsar_pytools.uavsar_collection:Starting on: https://datapool.asf.alaska.edu/INTERFEROMETRY_GRD/UA/grmesa_27416_20005-007_20008-004_0007d_s01_L090_01_int_grd.zip\n"
     ]
    },
    {
     "name": "stdout",
     "output_type": "stream",
     "text": [
      "Completed 1-Feb-2020 02:13:16 UTC to 19-Feb-2020 17:24:18 UTC\n"
     ]
    },
    {
     "data": {
      "application/vnd.jupyter.widget-view+json": {
       "model_id": "30a500f4823b4a12bc25c852233565be",
       "version_major": 2,
       "version_minor": 0
      },
      "text/plain": [
       "Downloading grmesa_27416_20005-007_20008-004_0007d_s01_L090_01_int_grd.zip:   0%|          | 0.00/1.50G [00:00…"
      ]
     },
     "metadata": {},
     "output_type": "display_data"
    },
    {
     "name": "stderr",
     "output_type": "stream",
     "text": [
      "Unzipping: 100%|██████████| 20/20 [00:48<00:00,  2.42s/file]\n",
      "INFO:uavsar_pytools.uavsar_collection:Starting on: https://datapool.asf.alaska.edu/INTERFEROMETRY_GRD/UA/grmesa_27416_20003-028_20005-007_0011d_s01_L090_01_int_grd.zip\n"
     ]
    },
    {
     "name": "stdout",
     "output_type": "stream",
     "text": [
      "Completed 12-Feb-2020 16:47:07 UTC to 19-Feb-2020 17:24:04 UTC\n"
     ]
    },
    {
     "data": {
      "application/vnd.jupyter.widget-view+json": {
       "model_id": "f379c16d56aa43efb8fb8aa4e3b0139a",
       "version_major": 2,
       "version_minor": 0
      },
      "text/plain": [
       "Downloading grmesa_27416_20003-028_20005-007_0011d_s01_L090_01_int_grd.zip:   0%|          | 0.00/1.11G [00:00…"
      ]
     },
     "metadata": {},
     "output_type": "display_data"
    },
    {
     "name": "stderr",
     "output_type": "stream",
     "text": [
      "Unzipping: 100%|██████████| 20/20 [00:37<00:00,  1.87s/file]\n"
     ]
    },
    {
     "name": "stdout",
     "output_type": "stream",
     "text": [
      "Completed 1-Feb-2020 02:13:16 UTC to 12-Feb-2020 16:47:20 UTC\n"
     ]
    }
   ],
   "source": [
    "from uavsar_pytools import UavsarCollection\n",
    "col = UavsarCollection(collection = 'Grand Mesa, Co', work_dir = '/home/jovyan/isce_sat2/contributors/naheem/download_files_2', dates = ('2020-02-01', '2020-03-31'))\n",
    "col.collection_to_tiffs()"
   ]
  },
  {
   "cell_type": "code",
   "execution_count": 11,
   "id": "fe3a757d-7419-4f90-94b7-9f0153a68842",
   "metadata": {},
   "outputs": [
    {
     "data": {
      "application/vnd.jupyter.widget-view+json": {
       "model_id": "3b8e9b22d4dd47eebb312bf65d368202",
       "version_major": 2,
       "version_minor": 0
      },
      "text/plain": [
       "Downloading grmesa_27416_20017_006_200312_L090_CX_01.inc:   0%|          | 0.00/151M [00:00<?, ?B/s]"
      ]
     },
     "metadata": {},
     "output_type": "display_data"
    },
    {
     "data": {
      "application/vnd.jupyter.widget-view+json": {
       "model_id": "bdf20b9a090d4a1ba3c18129b5827454",
       "version_major": 2,
       "version_minor": 0
      },
      "text/plain": [
       "Downloading grmesa_27416_20017_006_200312_L090_CX_01.ann:   0%|          | 0.00/29.0k [00:00<?, ?B/s]"
      ]
     },
     "metadata": {},
     "output_type": "display_data"
    }
   ],
   "source": [
    "from uavsar_pytools import UavsarImage\n",
    "\n",
    "inc_angle = UavsarImage(url =  'https://datapool.asf.alaska.edu/INC/UA/grmesa_27416_20017_006_200312_L090_CX_01.inc', work_dir = '/home/jovyan/isce_sat2/contributors/naheem/download_files')\n",
    "inc_angle.url_to_tiff()"
   ]
  },
  {
   "cell_type": "code",
   "execution_count": 3,
   "id": "1ed7131f-b2d3-4e6b-9236-dbe092bae4df",
   "metadata": {},
   "outputs": [
    {
     "data": {
      "text/plain": [
       "\u001b[0;31mInit signature:\u001b[0m\n",
       " \u001b[0mUavsarScene\u001b[0m\u001b[0;34m(\u001b[0m\u001b[0;34m\u001b[0m\n",
       "\u001b[0;34m\u001b[0m    \u001b[0murl\u001b[0m\u001b[0;34m,\u001b[0m\u001b[0;34m\u001b[0m\n",
       "\u001b[0;34m\u001b[0m    \u001b[0mwork_dir\u001b[0m\u001b[0;34m,\u001b[0m\u001b[0;34m\u001b[0m\n",
       "\u001b[0;34m\u001b[0m    \u001b[0mclean\u001b[0m\u001b[0;34m=\u001b[0m\u001b[0;32mFalse\u001b[0m\u001b[0;34m,\u001b[0m\u001b[0;34m\u001b[0m\n",
       "\u001b[0;34m\u001b[0m    \u001b[0mdebug\u001b[0m\u001b[0;34m=\u001b[0m\u001b[0;32mFalse\u001b[0m\u001b[0;34m,\u001b[0m\u001b[0;34m\u001b[0m\n",
       "\u001b[0;34m\u001b[0m    \u001b[0mpols\u001b[0m\u001b[0;34m=\u001b[0m\u001b[0;32mNone\u001b[0m\u001b[0;34m,\u001b[0m\u001b[0;34m\u001b[0m\n",
       "\u001b[0;34m\u001b[0m    \u001b[0mlow_ram\u001b[0m\u001b[0;34m=\u001b[0m\u001b[0;32mFalse\u001b[0m\u001b[0;34m,\u001b[0m\u001b[0;34m\u001b[0m\n",
       "\u001b[0;34m\u001b[0m\u001b[0;34m)\u001b[0m\u001b[0;34m\u001b[0m\u001b[0;34m\u001b[0m\u001b[0m\n",
       "\u001b[0;31mDocstring:\u001b[0m     \n",
       "Class to handle uavsar zip directories. Methods include downloading and converting images.\n",
       "\n",
       "Args:\n",
       "    url (str): ASF or JPL url to a zip uavsar directory\n",
       "    work_dir (str): directory to download images into\n",
       "    overwrite (bool): Do you want to overwrite pre-existing files [Default = False]\n",
       "    clean (bool): Do you want to erase binary files after completion [Default = False]\n",
       "    pols (list): Do you want only certain polarizations? [Default = all available]\n",
       "    debug (str): level of logging (not yet implemented)\n",
       "\n",
       "Attributes:\n",
       "    zipped_fp (str): filepath to downloaded zip directory. Created automatically after downloading.\n",
       "    binary_fps (str): filepaths of downloaded binary images. Created automatically after unzipping.\n",
       "    ann_fp: file path to annotation file. Created automatically after unzipping.\n",
       "    arr (array): processed numpy array of the image\n",
       "    desc (dict): description of image from annotation file.\n",
       "\u001b[0;31mFile:\u001b[0m           /srv/conda/envs/notebook/lib/python3.10/site-packages/uavsar_pytools/uavsar_scene.py\n",
       "\u001b[0;31mType:\u001b[0m           type\n",
       "\u001b[0;31mSubclasses:\u001b[0m     \n"
      ]
     },
     "metadata": {},
     "output_type": "display_data"
    }
   ],
   "source": [
    "? UavsarScene"
   ]
  },
  {
   "cell_type": "code",
   "execution_count": null,
   "id": "5b8e38a3-ab6b-4148-8262-87a319530ed3",
   "metadata": {},
   "outputs": [],
   "source": []
  }
 ],
 "metadata": {
  "kernelspec": {
   "display_name": "Python 3 (ipykernel)",
   "language": "python",
   "name": "python3"
  },
  "language_info": {
   "codemirror_mode": {
    "name": "ipython",
    "version": 3
   },
   "file_extension": ".py",
   "mimetype": "text/x-python",
   "name": "python",
   "nbconvert_exporter": "python",
   "pygments_lexer": "ipython3",
   "version": "3.10.5"
  }
 },
 "nbformat": 4,
 "nbformat_minor": 5
}
