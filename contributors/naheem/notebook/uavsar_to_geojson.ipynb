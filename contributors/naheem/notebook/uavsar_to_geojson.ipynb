{
 "cells": [
  {
   "cell_type": "code",
   "execution_count": 3,
   "id": "ad3ef6f1-3436-4346-ba32-d6d8c1b2346b",
   "metadata": {},
   "outputs": [
    {
     "data": {
      "text/plain": [
       "'/home/jovyan/isce_sat2/contributors/naheem/notebook'"
      ]
     },
     "execution_count": 3,
     "metadata": {},
     "output_type": "execute_result"
    }
   ],
   "source": [
    "#https://dpird-dma.github.io/blog/Raster-extent-to-polygon/"
   ]
  },
  {
   "cell_type": "code",
   "execution_count": 8,
   "id": "f7360f81-b273-4167-8f92-d021ac147019",
   "metadata": {},
   "outputs": [],
   "source": [
    "input_dir = '/home/jovyan/isce_sat2/contributors/naheem/download_files/coherence'\n",
    "file_types = ('.tiff')\n",
    "export_dir = os.path.dirname(input_dir)\n",
    "export_file_name = os.path.basename(input_dir)"
   ]
  },
  {
   "cell_type": "code",
   "execution_count": 9,
   "id": "67295005-84d3-48d0-9d62-1283465f731c",
   "metadata": {},
   "outputs": [
    {
     "data": {
      "text/plain": [
       "13"
      ]
     },
     "execution_count": 9,
     "metadata": {},
     "output_type": "execute_result"
    }
   ],
   "source": [
    "raster_list = []\n",
    "\n",
    "for root, dirs, files in os.walk(input_dir):\n",
    "    for file in files:\n",
    "        if file.endswith(file_types):\n",
    "            raster_list.append(os.path.join(root, file))\n",
    "\n",
    "len(raster_list)"
   ]
  },
  {
   "cell_type": "code",
   "execution_count": 10,
   "id": "3a42498f-f4e9-4c73-8bda-303801a0c8ca",
   "metadata": {},
   "outputs": [],
   "source": [
    "def index(raster):\n",
    "    try:\n",
    "        dataset = rasterio.open(raster)\n",
    "        proj = dataset.crs.to_string()\n",
    "        bounds = dataset.bounds\n",
    "        geom = box(*bounds)\n",
    "        raster_name = os.path.basename(raster)\n",
    "        return({'name':raster_name,'path':raster,'crs':proj,'geometry':geom})\n",
    "    except:\n",
    "        print('could not open',raster)"
   ]
  },
  {
   "cell_type": "code",
   "execution_count": 11,
   "id": "6fa08d37-5a4c-4baf-b3a0-970851d8b6ca",
   "metadata": {},
   "outputs": [
    {
     "name": "stderr",
     "output_type": "stream",
     "text": [
      "100%|██████████| 13/13 [00:00<00:00, 607.43it/s]\n"
     ]
    }
   ],
   "source": [
    "with Pool() as p:\n",
    "    polygons = list(tqdm(p.imap(index, raster_list), total=len(raster_list)))"
   ]
  },
  {
   "cell_type": "code",
   "execution_count": 12,
   "id": "e038c527-69ef-4169-aeee-e0c0ce38a48b",
   "metadata": {},
   "outputs": [
    {
     "name": "stdout",
     "output_type": "stream",
     "text": [
      "['EPSG:4326']\n"
     ]
    },
    {
     "data": {
      "text/html": [
       "<div>\n",
       "<style scoped>\n",
       "    .dataframe tbody tr th:only-of-type {\n",
       "        vertical-align: middle;\n",
       "    }\n",
       "\n",
       "    .dataframe tbody tr th {\n",
       "        vertical-align: top;\n",
       "    }\n",
       "\n",
       "    .dataframe thead th {\n",
       "        text-align: right;\n",
       "    }\n",
       "</style>\n",
       "<table border=\"1\" class=\"dataframe\">\n",
       "  <thead>\n",
       "    <tr style=\"text-align: right;\">\n",
       "      <th></th>\n",
       "      <th>name</th>\n",
       "      <th>path</th>\n",
       "      <th>crs</th>\n",
       "      <th>geometry</th>\n",
       "    </tr>\n",
       "  </thead>\n",
       "  <tbody>\n",
       "    <tr>\n",
       "      <th>0</th>\n",
       "      <td>silver_34715_20011-001_20016-002_0019d_s01_L09...</td>\n",
       "      <td>/home/jovyan/isce_sat2/contributors/naheem/dow...</td>\n",
       "      <td>EPSG:4326</td>\n",
       "      <td>POLYGON ((-116.55637932 42.94838004, -116.5563...</td>\n",
       "    </tr>\n",
       "    <tr>\n",
       "      <th>1</th>\n",
       "      <td>irnton_01406_21020-028_21022-002_0006d_s01_L09...</td>\n",
       "      <td>/home/jovyan/isce_sat2/contributors/naheem/dow...</td>\n",
       "      <td>EPSG:4326</td>\n",
       "      <td>POLYGON ((-107.55532596 37.658568, -107.555325...</td>\n",
       "    </tr>\n",
       "    <tr>\n",
       "      <th>2</th>\n",
       "      <td>uticam_21003_21004-002_21013-003_0034d_s01_L09...</td>\n",
       "      <td>/home/jovyan/isce_sat2/contributors/naheem/dow...</td>\n",
       "      <td>EPSG:4326</td>\n",
       "      <td>POLYGON ((-109.694886 46.408712400000006, -109...</td>\n",
       "    </tr>\n",
       "    <tr>\n",
       "      <th>3</th>\n",
       "      <td>dorado_34017_20014-002_20016-000_0014d_s01_L09...</td>\n",
       "      <td>/home/jovyan/isce_sat2/contributors/naheem/dow...</td>\n",
       "      <td>EPSG:4326</td>\n",
       "      <td>POLYGON ((-119.95015080000002 38.62747884, -11...</td>\n",
       "    </tr>\n",
       "    <tr>\n",
       "      <th>4</th>\n",
       "      <td>alamos_35915_20005-003_20008-000_0007d_s01_L09...</td>\n",
       "      <td>/home/jovyan/isce_sat2/contributors/naheem/dow...</td>\n",
       "      <td>EPSG:4326</td>\n",
       "      <td>POLYGON ((-106.30489260000002 35.6886882, -106...</td>\n",
       "    </tr>\n",
       "  </tbody>\n",
       "</table>\n",
       "</div>"
      ],
      "text/plain": [
       "                                                name  \\\n",
       "0  silver_34715_20011-001_20016-002_0019d_s01_L09...   \n",
       "1  irnton_01406_21020-028_21022-002_0006d_s01_L09...   \n",
       "2  uticam_21003_21004-002_21013-003_0034d_s01_L09...   \n",
       "3  dorado_34017_20014-002_20016-000_0014d_s01_L09...   \n",
       "4  alamos_35915_20005-003_20008-000_0007d_s01_L09...   \n",
       "\n",
       "                                                path        crs  \\\n",
       "0  /home/jovyan/isce_sat2/contributors/naheem/dow...  EPSG:4326   \n",
       "1  /home/jovyan/isce_sat2/contributors/naheem/dow...  EPSG:4326   \n",
       "2  /home/jovyan/isce_sat2/contributors/naheem/dow...  EPSG:4326   \n",
       "3  /home/jovyan/isce_sat2/contributors/naheem/dow...  EPSG:4326   \n",
       "4  /home/jovyan/isce_sat2/contributors/naheem/dow...  EPSG:4326   \n",
       "\n",
       "                                            geometry  \n",
       "0  POLYGON ((-116.55637932 42.94838004, -116.5563...  \n",
       "1  POLYGON ((-107.55532596 37.658568, -107.555325...  \n",
       "2  POLYGON ((-109.694886 46.408712400000006, -109...  \n",
       "3  POLYGON ((-119.95015080000002 38.62747884, -11...  \n",
       "4  POLYGON ((-106.30489260000002 35.6886882, -106...  "
      ]
     },
     "execution_count": 12,
     "metadata": {},
     "output_type": "execute_result"
    }
   ],
   "source": [
    "all_polygons = pd.DataFrame(polygons)\n",
    "crs_list = all_polygons['crs'].unique()\n",
    "print(crs_list)\n",
    "all_polygons.head()"
   ]
  },
  {
   "cell_type": "code",
   "execution_count": 13,
   "id": "77915189-18b2-4eb5-bed4-efcc23f7d659",
   "metadata": {},
   "outputs": [
    {
     "name": "stderr",
     "output_type": "stream",
     "text": [
      "100%|██████████| 1/1 [00:00<00:00,  1.13it/s]"
     ]
    },
    {
     "name": "stdout",
     "output_type": "stream",
     "text": [
      "/home/jovyan/isce_sat2/contributors/naheem/download_files/coherence crs 4326.gpkg\n"
     ]
    },
    {
     "name": "stderr",
     "output_type": "stream",
     "text": [
      "\n"
     ]
    }
   ],
   "source": [
    "for crs in tqdm(crs_list):\n",
    "    one_crs_df = all_polygons[all_polygons['crs']==crs]\n",
    "    one_crs_gdf = gpd.GeoDataFrame(one_crs_df,crs=crs) #crs={'init' :crs}\n",
    "    save_name = os.path.join(export_dir,(export_file_name+\" crs \"+crs.split(':')[1]+'.gpkg'))\n",
    "    one_crs_gdf.to_file(save_name, driver =\"GPKG\")\n",
    "    print(save_name)"
   ]
  }
 ],
 "metadata": {
  "kernelspec": {
   "display_name": "Python 3 (ipykernel)",
   "language": "python",
   "name": "python3"
  },
  "language_info": {
   "codemirror_mode": {
    "name": "ipython",
    "version": 3
   },
   "file_extension": ".py",
   "mimetype": "text/x-python",
   "name": "python",
   "nbconvert_exporter": "python",
   "pygments_lexer": "ipython3",
   "version": "3.10.5"
  }
 },
 "nbformat": 4,
 "nbformat_minor": 5
}
