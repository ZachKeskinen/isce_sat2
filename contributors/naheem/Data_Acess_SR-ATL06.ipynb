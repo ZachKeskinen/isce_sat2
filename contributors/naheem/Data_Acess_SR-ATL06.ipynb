{
 "cells": [
  {
   "cell_type": "markdown",
   "id": "f5b846df",
   "metadata": {},
   "source": [
    "# Data Access\n",
    "\n",
    "Taken from a notebook created by Tyler Sutterly for the 2022 ICESat-2 Hackweek, put on by the e-science institute at UW.  \n",
    "Use conda env sliderule  \n",
    "\n",
    "Install new version of sliderule:  \n",
    "\"But if you do a **git pull** in your sliderule-python repo and then to a **python setup.py install**, it should resolve the issue.\"  \n",
    "https://icesat-2sliderule.slack.com/archives/CTW2ESWFP/p1638199956016000"
   ]
  },
  {
   "cell_type": "code",
   "execution_count": 1,
   "id": "92ccad49",
   "metadata": {},
   "outputs": [],
   "source": [
    "import os\n",
    "import geopandas as gpd\n",
    "import ipyleaflet\n",
    "import ipywidgets as widgets\n",
    "import logging\n",
    "#import panel as pn\n",
    "#pn.extension()\n",
    "import matplotlib.lines\n",
    "import matplotlib.colors as colors\n",
    "import matplotlib.gridspec as gridspec\n",
    "import matplotlib.pyplot as plt\n",
    "from mpl_toolkits.axes_grid1.inset_locator import inset_axes\n",
    "import numpy as np\n",
    "from shapely.geometry import Polygon\n",
    "import warnings\n",
    "# grimp and nisar functions\n",
    "#import grimpfunc as grimp\n",
    "#import nisardev as nisar\n",
    "# sliderule functions\n",
    "import sliderule.icesat2\n",
    "import sliderule.io\n",
    "import sliderule.ipysliderule\n",
    "import pandas as pd\n",
    "from datetime import datetime\n",
    "# register progress bar and set workers\n",
    "#ProgressBar().register()\n",
    "#dask.config.set(num_workers=2)\n",
    "# turn off warnings for demo\n",
    "warnings.filterwarnings('ignore')"
   ]
  },
  {
   "cell_type": "code",
   "execution_count": 2,
   "id": "1fa01bbf",
   "metadata": {},
   "outputs": [],
   "source": [
    "%matplotlib inline"
   ]
  },
  {
   "cell_type": "code",
   "execution_count": 3,
   "id": "d8c3bbfb",
   "metadata": {},
   "outputs": [],
   "source": [
    "# set the url for the sliderule service\n",
    "# set the logging level\n",
    "sliderule.icesat2.init(\"icesat2sliderule.org\", loglevel=logging.WARNING)"
   ]
  },
  {
   "cell_type": "code",
   "execution_count": 4,
   "id": "c190857e",
   "metadata": {},
   "outputs": [
    {
     "name": "stdout",
     "output_type": "stream",
     "text": [
      "Object `SRwidgets` not found.\n"
     ]
    }
   ],
   "source": [
    "SRwidgets?"
   ]
  },
  {
   "cell_type": "code",
   "execution_count": 5,
   "id": "839c7e2d",
   "metadata": {},
   "outputs": [
    {
     "data": {
      "application/vnd.jupyter.widget-view+json": {
       "model_id": "058457c46ae8484483935b2463fd2ecc",
       "version_major": 2,
       "version_minor": 0
      },
      "text/plain": [
       "VBox(children=(Dropdown(description='Asset:', description_tooltip='Asset: Location for SlideRule to get the da…"
      ]
     },
     "metadata": {},
     "output_type": "display_data"
    }
   ],
   "source": [
    "# display widgets for setting SlideRule parameters\n",
    "SRwidgets = sliderule.ipysliderule.widgets()\n",
    "# show widgets\n",
    "widgets.VBox([\n",
    "    SRwidgets.asset,\n",
    "    SRwidgets.release,\n",
    "    SRwidgets.surface_type,\n",
    "    SRwidgets.length,\n",
    "    SRwidgets.step,\n",
    "    SRwidgets.confidence,\n",
    "    SRwidgets.land_class,\n",
    "    SRwidgets.iteration,\n",
    "    SRwidgets.spread,\n",
    "    SRwidgets.count,\n",
    "    SRwidgets.window,\n",
    "    SRwidgets.sigma\n",
    "])"
   ]
  },
  {
   "cell_type": "code",
   "execution_count": 7,
   "id": "d6fab3bd",
   "metadata": {},
   "outputs": [
    {
     "data": {
      "application/vnd.jupyter.widget-view+json": {
       "model_id": "0614045c4085423cb2d550b3d855adc3",
       "version_major": 2,
       "version_minor": 0
      },
      "text/plain": [
       "VBox(children=(Dropdown(description='Projection:', description_tooltip='Projection: leaflet map projection\\n\\t…"
      ]
     },
     "metadata": {},
     "output_type": "display_data"
    }
   ],
   "source": [
    "widgets.VBox([SRwidgets.projection, SRwidgets.layers])"
   ]
  },
  {
   "cell_type": "code",
   "execution_count": 9,
   "id": "effd5db4-25e4-4d1a-9c34-4201a3149309",
   "metadata": {},
   "outputs": [
    {
     "data": {
      "text/plain": [
       "'/home/jovyan/isce_sat2/contributors/naheem'"
      ]
     },
     "execution_count": 9,
     "metadata": {},
     "output_type": "execute_result"
    }
   ],
   "source": [
    "pwd"
   ]
  },
  {
   "cell_type": "code",
   "execution_count": 12,
   "id": "e2a7d411",
   "metadata": {},
   "outputs": [
    {
     "data": {
      "text/html": [
       "<div>\n",
       "<style scoped>\n",
       "    .dataframe tbody tr th:only-of-type {\n",
       "        vertical-align: middle;\n",
       "    }\n",
       "\n",
       "    .dataframe tbody tr th {\n",
       "        vertical-align: top;\n",
       "    }\n",
       "\n",
       "    .dataframe thead th {\n",
       "        text-align: right;\n",
       "    }\n",
       "</style>\n",
       "<table border=\"1\" class=\"dataframe\">\n",
       "  <thead>\n",
       "    <tr style=\"text-align: right;\">\n",
       "      <th></th>\n",
       "      <th>geometry</th>\n",
       "    </tr>\n",
       "  </thead>\n",
       "  <tbody>\n",
       "    <tr>\n",
       "      <th>0</th>\n",
       "      <td>POLYGON ((-108.31168 39.13758, -108.34116 39.0...</td>\n",
       "    </tr>\n",
       "  </tbody>\n",
       "</table>\n",
       "</div>"
      ],
      "text/plain": [
       "                                            geometry\n",
       "0  POLYGON ((-108.31168 39.13758, -108.34116 39.0..."
      ]
     },
     "execution_count": 12,
     "metadata": {},
     "output_type": "execute_result"
    }
   ],
   "source": [
    "polygon_gdf = gpd.read_file('grandmesa.geojson', crs='epsg:4326')\n",
    "polygon_gdf.head()"
   ]
  },
  {
   "cell_type": "code",
   "execution_count": 11,
   "id": "a24f25ff",
   "metadata": {},
   "outputs": [],
   "source": [
    "polygon_gdf = polygon_gdf[1:]"
   ]
  },
  {
   "cell_type": "code",
   "execution_count": null,
   "id": "770add69",
   "metadata": {},
   "outputs": [],
   "source": [
    "gdf_exploded = polygon_gdf.explode()"
   ]
  },
  {
   "cell_type": "code",
   "execution_count": null,
   "id": "98ae4d44",
   "metadata": {},
   "outputs": [],
   "source": []
  },
  {
   "cell_type": "code",
   "execution_count": 13,
   "id": "72488d79",
   "metadata": {},
   "outputs": [
    {
     "data": {
      "text/plain": [
       "<Geographic 2D CRS: EPSG:4326>\n",
       "Name: WGS 84\n",
       "Axis Info [ellipsoidal]:\n",
       "- Lat[north]: Geodetic latitude (degree)\n",
       "- Lon[east]: Geodetic longitude (degree)\n",
       "Area of Use:\n",
       "- name: World.\n",
       "- bounds: (-180.0, -90.0, 180.0, 90.0)\n",
       "Datum: World Geodetic System 1984 ensemble\n",
       "- Ellipsoid: WGS 84\n",
       "- Prime Meridian: Greenwich"
      ]
     },
     "execution_count": 13,
     "metadata": {},
     "output_type": "execute_result"
    }
   ],
   "source": [
    "polygon_gdf.crs"
   ]
  },
  {
   "cell_type": "code",
   "execution_count": null,
   "id": "56155496",
   "metadata": {},
   "outputs": [],
   "source": [
    "gdf_exploded.plot()"
   ]
  },
  {
   "cell_type": "code",
   "execution_count": 14,
   "id": "81869ec9",
   "metadata": {},
   "outputs": [
    {
     "ename": "NameError",
     "evalue": "name 'gdf_exploded' is not defined",
     "output_type": "error",
     "traceback": [
      "\u001b[0;31m---------------------------------------------------------------------------\u001b[0m",
      "\u001b[0;31mNameError\u001b[0m                                 Traceback (most recent call last)",
      "Input \u001b[0;32mIn [14]\u001b[0m, in \u001b[0;36m<cell line: 1>\u001b[0;34m()\u001b[0m\n\u001b[0;32m----> 1\u001b[0m \u001b[43mgdf_exploded\u001b[49m\u001b[38;5;241m.\u001b[39mtype\n",
      "\u001b[0;31mNameError\u001b[0m: name 'gdf_exploded' is not defined"
     ]
    }
   ],
   "source": [
    "gdf_exploded.type"
   ]
  },
  {
   "cell_type": "code",
   "execution_count": 15,
   "id": "4bcd5162",
   "metadata": {},
   "outputs": [
    {
     "data": {
      "application/vnd.jupyter.widget-view+json": {
       "model_id": "36c44f4c5c4d409e9d575bc5382682ef",
       "version_major": 2,
       "version_minor": 0
      },
      "text/plain": [
       "Map(center=[39, -108], controls=(ZoomControl(options=['position', 'zoom_in_text', 'zoom_in_title', 'zoom_out_t…"
      ]
     },
     "metadata": {},
     "output_type": "display_data"
    }
   ],
   "source": [
    "# create ipyleaflet map in specified projection\n",
    "m = sliderule.ipysliderule.leaflet(SRwidgets.projection.value)\n",
    "m.add_layer(layers=SRwidgets.layers.value)\n",
    "\n",
    "# Comment this section out if you want to draw your own polygon!\n",
    "# ---\n",
    "#box = shapely.geometry.Polygon([(-108.3,38.9), (-108.0,38.9), (-108.0,39.1), (-108.3, 39.1)])\n",
    "#geobox = gpd.GeoDataFrame(geometry=[box], crs='EPSG:4326')\n",
    "default_polygon = sliderule.io.from_geodataframe(polygon_gdf)\n",
    "geodata = ipyleaflet.GeoData(geo_dataframe=polygon_gdf)\n",
    "m.map.add_layer(geodata)\n",
    "# ---\n",
    "\n",
    "m.map"
   ]
  },
  {
   "cell_type": "code",
   "execution_count": 17,
   "id": "d1f8ec7f",
   "metadata": {},
   "outputs": [],
   "source": [
    "#%%time\n",
    "# sliderule asset and data release\n",
    "asset = SRwidgets.asset.value\n",
    "release = SRwidgets.release.value\n",
    "\n",
    "# build sliderule parameters using latest values from widget\n",
    "params = {\n",
    "    # surface type: 0-land, 1-ocean, 2-sea ice, 3-land ice, 4-inland water\n",
    "    \"srt\": SRwidgets.surface_type.index,\n",
    "    # length of ATL06-SR segment in meters\n",
    "    \"len\": SRwidgets.length.value,\n",
    "    # step distance for successive ATL06-SR segments in meters\n",
    "    \"res\": SRwidgets.step.value,\n",
    "    # confidence level for PE selection\n",
    "    \"cnf\": SRwidgets.confidence.value,\n",
    "    # ATL08 land surface classifications\n",
    "    \"atl08_class\": list(SRwidgets.land_class.value),\n",
    "    # maximum iterations, not including initial least-squares-fit selection\n",
    "    \"maxi\": SRwidgets.iteration.value,\n",
    "    # minimum along track spread\n",
    "    \"ats\": SRwidgets.spread.value,\n",
    "    # minimum PE count\n",
    "    \"cnt\": SRwidgets.count.value,\n",
    "    # minimum height of PE window in meters\n",
    "    \"H_min_win\": SRwidgets.window.value,\n",
    "    # maximum robust dispersion in meters\n",
    "    \"sigma_r_max\": SRwidgets.sigma.value\n",
    "}\n",
    "\n",
    "region = sliderule.icesat2.toregion(polygon_gdf)\n",
    "params[\"poly\"] = region[\"poly\"]   # will always be the convex hull of the polygon\n",
    "params[\"raster\"] = region[\"raster\"]   # raster will include all vertices, including holes. This is more processing, but is only an issue with very large requests.\n",
    "gdf = sliderule.icesat2.atl06p(params, asset, version=release)"
   ]
  },
  {
   "cell_type": "code",
   "execution_count": 18,
   "id": "04a31e59",
   "metadata": {},
   "outputs": [
    {
     "name": "stdout",
     "output_type": "stream",
     "text": [
      "Returned 94078 records\n"
     ]
    },
    {
     "data": {
      "text/html": [
       "<div>\n",
       "<style scoped>\n",
       "    .dataframe tbody tr th:only-of-type {\n",
       "        vertical-align: middle;\n",
       "    }\n",
       "\n",
       "    .dataframe tbody tr th {\n",
       "        vertical-align: top;\n",
       "    }\n",
       "\n",
       "    .dataframe thead th {\n",
       "        text-align: right;\n",
       "    }\n",
       "</style>\n",
       "<table border=\"1\" class=\"dataframe\">\n",
       "  <thead>\n",
       "    <tr style=\"text-align: right;\">\n",
       "      <th></th>\n",
       "      <th>gt</th>\n",
       "      <th>rgt</th>\n",
       "      <th>h_mean</th>\n",
       "      <th>n_fit_photons</th>\n",
       "      <th>rms_misfit</th>\n",
       "      <th>delta_time</th>\n",
       "      <th>spot</th>\n",
       "      <th>distance</th>\n",
       "      <th>dh_fit_dy</th>\n",
       "      <th>dh_fit_dx</th>\n",
       "      <th>w_surface_window_final</th>\n",
       "      <th>pflags</th>\n",
       "      <th>h_sigma</th>\n",
       "      <th>segment_id</th>\n",
       "      <th>cycle</th>\n",
       "      <th>geometry</th>\n",
       "    </tr>\n",
       "    <tr>\n",
       "      <th>time</th>\n",
       "      <th></th>\n",
       "      <th></th>\n",
       "      <th></th>\n",
       "      <th></th>\n",
       "      <th></th>\n",
       "      <th></th>\n",
       "      <th></th>\n",
       "      <th></th>\n",
       "      <th></th>\n",
       "      <th></th>\n",
       "      <th></th>\n",
       "      <th></th>\n",
       "      <th></th>\n",
       "      <th></th>\n",
       "      <th></th>\n",
       "      <th></th>\n",
       "    </tr>\n",
       "  </thead>\n",
       "  <tbody>\n",
       "    <tr>\n",
       "      <th>2018-10-17 22:31:17.332951552</th>\n",
       "      <td>60</td>\n",
       "      <td>295</td>\n",
       "      <td>1821.473855</td>\n",
       "      <td>59</td>\n",
       "      <td>0.186843</td>\n",
       "      <td>2.505068e+07</td>\n",
       "      <td>1</td>\n",
       "      <td>4.326519e+06</td>\n",
       "      <td>0.0</td>\n",
       "      <td>0.020385</td>\n",
       "      <td>3.0</td>\n",
       "      <td>0</td>\n",
       "      <td>0.024414</td>\n",
       "      <td>215739</td>\n",
       "      <td>1</td>\n",
       "      <td>POINT (-108.28616 38.88850)</td>\n",
       "    </tr>\n",
       "    <tr>\n",
       "      <th>2018-10-17 22:31:17.338676880</th>\n",
       "      <td>60</td>\n",
       "      <td>295</td>\n",
       "      <td>1822.970517</td>\n",
       "      <td>12</td>\n",
       "      <td>0.225525</td>\n",
       "      <td>2.505068e+07</td>\n",
       "      <td>1</td>\n",
       "      <td>4.326559e+06</td>\n",
       "      <td>0.0</td>\n",
       "      <td>0.052908</td>\n",
       "      <td>3.0</td>\n",
       "      <td>0</td>\n",
       "      <td>0.084989</td>\n",
       "      <td>215741</td>\n",
       "      <td>1</td>\n",
       "      <td>POINT (-108.28620 38.88887)</td>\n",
       "    </tr>\n",
       "    <tr>\n",
       "      <th>2018-10-17 22:31:17.350047904</th>\n",
       "      <td>60</td>\n",
       "      <td>295</td>\n",
       "      <td>1826.151552</td>\n",
       "      <td>32</td>\n",
       "      <td>0.287631</td>\n",
       "      <td>2.505068e+07</td>\n",
       "      <td>1</td>\n",
       "      <td>4.326639e+06</td>\n",
       "      <td>0.0</td>\n",
       "      <td>0.019818</td>\n",
       "      <td>3.0</td>\n",
       "      <td>0</td>\n",
       "      <td>0.098879</td>\n",
       "      <td>215745</td>\n",
       "      <td>1</td>\n",
       "      <td>POINT (-108.28629 38.88959)</td>\n",
       "    </tr>\n",
       "    <tr>\n",
       "      <th>2018-10-17 22:31:17.355689616</th>\n",
       "      <td>60</td>\n",
       "      <td>295</td>\n",
       "      <td>1827.168388</td>\n",
       "      <td>82</td>\n",
       "      <td>0.235445</td>\n",
       "      <td>2.505068e+07</td>\n",
       "      <td>1</td>\n",
       "      <td>4.326680e+06</td>\n",
       "      <td>0.0</td>\n",
       "      <td>0.034429</td>\n",
       "      <td>3.0</td>\n",
       "      <td>0</td>\n",
       "      <td>0.026206</td>\n",
       "      <td>215747</td>\n",
       "      <td>1</td>\n",
       "      <td>POINT (-108.28633 38.88995)</td>\n",
       "    </tr>\n",
       "    <tr>\n",
       "      <th>2018-10-17 22:31:17.361279052</th>\n",
       "      <td>60</td>\n",
       "      <td>295</td>\n",
       "      <td>1827.834753</td>\n",
       "      <td>63</td>\n",
       "      <td>0.243145</td>\n",
       "      <td>2.505068e+07</td>\n",
       "      <td>1</td>\n",
       "      <td>4.326720e+06</td>\n",
       "      <td>0.0</td>\n",
       "      <td>-0.011353</td>\n",
       "      <td>3.0</td>\n",
       "      <td>0</td>\n",
       "      <td>0.032105</td>\n",
       "      <td>215749</td>\n",
       "      <td>1</td>\n",
       "      <td>POINT (-108.28638 38.89031)</td>\n",
       "    </tr>\n",
       "  </tbody>\n",
       "</table>\n",
       "</div>"
      ],
      "text/plain": [
       "                               gt  rgt       h_mean  n_fit_photons  \\\n",
       "time                                                                 \n",
       "2018-10-17 22:31:17.332951552  60  295  1821.473855             59   \n",
       "2018-10-17 22:31:17.338676880  60  295  1822.970517             12   \n",
       "2018-10-17 22:31:17.350047904  60  295  1826.151552             32   \n",
       "2018-10-17 22:31:17.355689616  60  295  1827.168388             82   \n",
       "2018-10-17 22:31:17.361279052  60  295  1827.834753             63   \n",
       "\n",
       "                               rms_misfit    delta_time  spot      distance  \\\n",
       "time                                                                          \n",
       "2018-10-17 22:31:17.332951552    0.186843  2.505068e+07     1  4.326519e+06   \n",
       "2018-10-17 22:31:17.338676880    0.225525  2.505068e+07     1  4.326559e+06   \n",
       "2018-10-17 22:31:17.350047904    0.287631  2.505068e+07     1  4.326639e+06   \n",
       "2018-10-17 22:31:17.355689616    0.235445  2.505068e+07     1  4.326680e+06   \n",
       "2018-10-17 22:31:17.361279052    0.243145  2.505068e+07     1  4.326720e+06   \n",
       "\n",
       "                               dh_fit_dy  dh_fit_dx  w_surface_window_final  \\\n",
       "time                                                                          \n",
       "2018-10-17 22:31:17.332951552        0.0   0.020385                     3.0   \n",
       "2018-10-17 22:31:17.338676880        0.0   0.052908                     3.0   \n",
       "2018-10-17 22:31:17.350047904        0.0   0.019818                     3.0   \n",
       "2018-10-17 22:31:17.355689616        0.0   0.034429                     3.0   \n",
       "2018-10-17 22:31:17.361279052        0.0  -0.011353                     3.0   \n",
       "\n",
       "                               pflags   h_sigma  segment_id  cycle  \\\n",
       "time                                                                 \n",
       "2018-10-17 22:31:17.332951552       0  0.024414      215739      1   \n",
       "2018-10-17 22:31:17.338676880       0  0.084989      215741      1   \n",
       "2018-10-17 22:31:17.350047904       0  0.098879      215745      1   \n",
       "2018-10-17 22:31:17.355689616       0  0.026206      215747      1   \n",
       "2018-10-17 22:31:17.361279052       0  0.032105      215749      1   \n",
       "\n",
       "                                                  geometry  \n",
       "time                                                        \n",
       "2018-10-17 22:31:17.332951552  POINT (-108.28616 38.88850)  \n",
       "2018-10-17 22:31:17.338676880  POINT (-108.28620 38.88887)  \n",
       "2018-10-17 22:31:17.350047904  POINT (-108.28629 38.88959)  \n",
       "2018-10-17 22:31:17.355689616  POINT (-108.28633 38.88995)  \n",
       "2018-10-17 22:31:17.361279052  POINT (-108.28638 38.89031)  "
      ]
     },
     "execution_count": 18,
     "metadata": {},
     "output_type": "execute_result"
    }
   ],
   "source": [
    "print(f'Returned {gdf.shape[0]} records')\n",
    "gdf.head()"
   ]
  },
  {
   "cell_type": "code",
   "execution_count": 19,
   "id": "013eadee",
   "metadata": {},
   "outputs": [
    {
     "data": {
      "text/html": [
       "<div>\n",
       "<style scoped>\n",
       "    .dataframe tbody tr th:only-of-type {\n",
       "        vertical-align: middle;\n",
       "    }\n",
       "\n",
       "    .dataframe tbody tr th {\n",
       "        vertical-align: top;\n",
       "    }\n",
       "\n",
       "    .dataframe thead th {\n",
       "        text-align: right;\n",
       "    }\n",
       "</style>\n",
       "<table border=\"1\" class=\"dataframe\">\n",
       "  <thead>\n",
       "    <tr style=\"text-align: right;\">\n",
       "      <th></th>\n",
       "      <th>gt</th>\n",
       "      <th>rgt</th>\n",
       "      <th>h_mean</th>\n",
       "      <th>n_fit_photons</th>\n",
       "      <th>rms_misfit</th>\n",
       "      <th>delta_time</th>\n",
       "      <th>spot</th>\n",
       "      <th>distance</th>\n",
       "      <th>dh_fit_dy</th>\n",
       "      <th>dh_fit_dx</th>\n",
       "      <th>w_surface_window_final</th>\n",
       "      <th>pflags</th>\n",
       "      <th>h_sigma</th>\n",
       "      <th>segment_id</th>\n",
       "      <th>cycle</th>\n",
       "      <th>geometry</th>\n",
       "    </tr>\n",
       "    <tr>\n",
       "      <th>time</th>\n",
       "      <th></th>\n",
       "      <th></th>\n",
       "      <th></th>\n",
       "      <th></th>\n",
       "      <th></th>\n",
       "      <th></th>\n",
       "      <th></th>\n",
       "      <th></th>\n",
       "      <th></th>\n",
       "      <th></th>\n",
       "      <th></th>\n",
       "      <th></th>\n",
       "      <th></th>\n",
       "      <th></th>\n",
       "      <th></th>\n",
       "      <th></th>\n",
       "    </tr>\n",
       "  </thead>\n",
       "  <tbody>\n",
       "    <tr>\n",
       "      <th>2022-03-09 11:21:16.902325984</th>\n",
       "      <td>30</td>\n",
       "      <td>1179</td>\n",
       "      <td>3141.000499</td>\n",
       "      <td>11</td>\n",
       "      <td>0.000000</td>\n",
       "      <td>1.320601e+08</td>\n",
       "      <td>3</td>\n",
       "      <td>4.345455e+06</td>\n",
       "      <td>0.0</td>\n",
       "      <td>0.844762</td>\n",
       "      <td>30.000000</td>\n",
       "      <td>2</td>\n",
       "      <td>0.000000</td>\n",
       "      <td>216687</td>\n",
       "      <td>14</td>\n",
       "      <td>POINT (-107.85255 39.05339)</td>\n",
       "    </tr>\n",
       "    <tr>\n",
       "      <th>2022-03-09 11:21:17.108213888</th>\n",
       "      <td>10</td>\n",
       "      <td>1179</td>\n",
       "      <td>3088.928212</td>\n",
       "      <td>14</td>\n",
       "      <td>0.597828</td>\n",
       "      <td>1.320601e+08</td>\n",
       "      <td>1</td>\n",
       "      <td>4.346798e+06</td>\n",
       "      <td>0.0</td>\n",
       "      <td>0.041497</td>\n",
       "      <td>3.644908</td>\n",
       "      <td>0</td>\n",
       "      <td>0.159807</td>\n",
       "      <td>216754</td>\n",
       "      <td>14</td>\n",
       "      <td>POINT (-107.89063 39.06276)</td>\n",
       "    </tr>\n",
       "    <tr>\n",
       "      <th>2022-03-09 11:21:17.130550352</th>\n",
       "      <td>10</td>\n",
       "      <td>1179</td>\n",
       "      <td>3101.792783</td>\n",
       "      <td>11</td>\n",
       "      <td>1.642566</td>\n",
       "      <td>1.320601e+08</td>\n",
       "      <td>1</td>\n",
       "      <td>4.346958e+06</td>\n",
       "      <td>0.0</td>\n",
       "      <td>-0.108945</td>\n",
       "      <td>4.126904</td>\n",
       "      <td>4</td>\n",
       "      <td>0.516383</td>\n",
       "      <td>216762</td>\n",
       "      <td>14</td>\n",
       "      <td>POINT (-107.89082 39.06419)</td>\n",
       "    </tr>\n",
       "    <tr>\n",
       "      <th>2022-03-09 11:21:17.136199872</th>\n",
       "      <td>10</td>\n",
       "      <td>1179</td>\n",
       "      <td>3102.247719</td>\n",
       "      <td>20</td>\n",
       "      <td>2.243868</td>\n",
       "      <td>1.320601e+08</td>\n",
       "      <td>1</td>\n",
       "      <td>4.346998e+06</td>\n",
       "      <td>0.0</td>\n",
       "      <td>0.157041</td>\n",
       "      <td>8.542609</td>\n",
       "      <td>4</td>\n",
       "      <td>0.505032</td>\n",
       "      <td>216764</td>\n",
       "      <td>14</td>\n",
       "      <td>POINT (-107.89086 39.06455)</td>\n",
       "    </tr>\n",
       "    <tr>\n",
       "      <th>2022-03-09 11:21:17.141899664</th>\n",
       "      <td>10</td>\n",
       "      <td>1179</td>\n",
       "      <td>3110.133520</td>\n",
       "      <td>14</td>\n",
       "      <td>2.694566</td>\n",
       "      <td>1.320601e+08</td>\n",
       "      <td>1</td>\n",
       "      <td>4.347038e+06</td>\n",
       "      <td>0.0</td>\n",
       "      <td>0.270824</td>\n",
       "      <td>9.757998</td>\n",
       "      <td>4</td>\n",
       "      <td>0.724263</td>\n",
       "      <td>216766</td>\n",
       "      <td>14</td>\n",
       "      <td>POINT (-107.89090 39.06491)</td>\n",
       "    </tr>\n",
       "  </tbody>\n",
       "</table>\n",
       "</div>"
      ],
      "text/plain": [
       "                               gt   rgt       h_mean  n_fit_photons  \\\n",
       "time                                                                  \n",
       "2022-03-09 11:21:16.902325984  30  1179  3141.000499             11   \n",
       "2022-03-09 11:21:17.108213888  10  1179  3088.928212             14   \n",
       "2022-03-09 11:21:17.130550352  10  1179  3101.792783             11   \n",
       "2022-03-09 11:21:17.136199872  10  1179  3102.247719             20   \n",
       "2022-03-09 11:21:17.141899664  10  1179  3110.133520             14   \n",
       "\n",
       "                               rms_misfit    delta_time  spot      distance  \\\n",
       "time                                                                          \n",
       "2022-03-09 11:21:16.902325984    0.000000  1.320601e+08     3  4.345455e+06   \n",
       "2022-03-09 11:21:17.108213888    0.597828  1.320601e+08     1  4.346798e+06   \n",
       "2022-03-09 11:21:17.130550352    1.642566  1.320601e+08     1  4.346958e+06   \n",
       "2022-03-09 11:21:17.136199872    2.243868  1.320601e+08     1  4.346998e+06   \n",
       "2022-03-09 11:21:17.141899664    2.694566  1.320601e+08     1  4.347038e+06   \n",
       "\n",
       "                               dh_fit_dy  dh_fit_dx  w_surface_window_final  \\\n",
       "time                                                                          \n",
       "2022-03-09 11:21:16.902325984        0.0   0.844762               30.000000   \n",
       "2022-03-09 11:21:17.108213888        0.0   0.041497                3.644908   \n",
       "2022-03-09 11:21:17.130550352        0.0  -0.108945                4.126904   \n",
       "2022-03-09 11:21:17.136199872        0.0   0.157041                8.542609   \n",
       "2022-03-09 11:21:17.141899664        0.0   0.270824                9.757998   \n",
       "\n",
       "                               pflags   h_sigma  segment_id  cycle  \\\n",
       "time                                                                 \n",
       "2022-03-09 11:21:16.902325984       2  0.000000      216687     14   \n",
       "2022-03-09 11:21:17.108213888       0  0.159807      216754     14   \n",
       "2022-03-09 11:21:17.130550352       4  0.516383      216762     14   \n",
       "2022-03-09 11:21:17.136199872       4  0.505032      216764     14   \n",
       "2022-03-09 11:21:17.141899664       4  0.724263      216766     14   \n",
       "\n",
       "                                                  geometry  \n",
       "time                                                        \n",
       "2022-03-09 11:21:16.902325984  POINT (-107.85255 39.05339)  \n",
       "2022-03-09 11:21:17.108213888  POINT (-107.89063 39.06276)  \n",
       "2022-03-09 11:21:17.130550352  POINT (-107.89082 39.06419)  \n",
       "2022-03-09 11:21:17.136199872  POINT (-107.89086 39.06455)  \n",
       "2022-03-09 11:21:17.141899664  POINT (-107.89090 39.06491)  "
      ]
     },
     "execution_count": 19,
     "metadata": {},
     "output_type": "execute_result"
    }
   ],
   "source": [
    "gdf.tail()"
   ]
  },
  {
   "cell_type": "code",
   "execution_count": 20,
   "id": "497ce48a",
   "metadata": {},
   "outputs": [
    {
     "data": {
      "text/plain": [
       "True"
      ]
     },
     "execution_count": 20,
     "metadata": {},
     "output_type": "execute_result"
    }
   ],
   "source": [
    "gdf.index.is_unique"
   ]
  },
  {
   "cell_type": "code",
   "execution_count": null,
   "id": "636cd6a2",
   "metadata": {},
   "outputs": [],
   "source": [
    "#gdf.time = pd.DatetimeIndex(gdf.time)\n",
    "#gdf = gdf.set_index(['time'])\n",
    "\n",
    "# gdf.sort_index(inplace=True)\n",
    "# gdf['acqdate'] = gdf.index.date\n",
    "# gdf['acqdate_string'] = gdf['acqdate'].apply(lambda x: datetime.strftime(x, '%Y-%m-%d'))"
   ]
  },
  {
   "cell_type": "code",
   "execution_count": null,
   "id": "00a11f89",
   "metadata": {},
   "outputs": [],
   "source": [
    "#gdf = gdf.drop(columns=['acqdate','acqdate_string'])"
   ]
  },
  {
   "cell_type": "code",
   "execution_count": 21,
   "id": "09c1d9f2",
   "metadata": {},
   "outputs": [
    {
     "data": {
      "text/html": [
       "<div>\n",
       "<style scoped>\n",
       "    .dataframe tbody tr th:only-of-type {\n",
       "        vertical-align: middle;\n",
       "    }\n",
       "\n",
       "    .dataframe tbody tr th {\n",
       "        vertical-align: top;\n",
       "    }\n",
       "\n",
       "    .dataframe thead th {\n",
       "        text-align: right;\n",
       "    }\n",
       "</style>\n",
       "<table border=\"1\" class=\"dataframe\">\n",
       "  <thead>\n",
       "    <tr style=\"text-align: right;\">\n",
       "      <th></th>\n",
       "      <th>gt</th>\n",
       "      <th>rgt</th>\n",
       "      <th>h_mean</th>\n",
       "      <th>n_fit_photons</th>\n",
       "      <th>rms_misfit</th>\n",
       "      <th>delta_time</th>\n",
       "      <th>spot</th>\n",
       "      <th>distance</th>\n",
       "      <th>dh_fit_dy</th>\n",
       "      <th>dh_fit_dx</th>\n",
       "      <th>w_surface_window_final</th>\n",
       "      <th>pflags</th>\n",
       "      <th>h_sigma</th>\n",
       "      <th>segment_id</th>\n",
       "      <th>cycle</th>\n",
       "      <th>geometry</th>\n",
       "    </tr>\n",
       "    <tr>\n",
       "      <th>time</th>\n",
       "      <th></th>\n",
       "      <th></th>\n",
       "      <th></th>\n",
       "      <th></th>\n",
       "      <th></th>\n",
       "      <th></th>\n",
       "      <th></th>\n",
       "      <th></th>\n",
       "      <th></th>\n",
       "      <th></th>\n",
       "      <th></th>\n",
       "      <th></th>\n",
       "      <th></th>\n",
       "      <th></th>\n",
       "      <th></th>\n",
       "      <th></th>\n",
       "    </tr>\n",
       "  </thead>\n",
       "  <tbody>\n",
       "    <tr>\n",
       "      <th>2018-10-17 22:31:17.332951552</th>\n",
       "      <td>60</td>\n",
       "      <td>295</td>\n",
       "      <td>1821.473855</td>\n",
       "      <td>59</td>\n",
       "      <td>0.186843</td>\n",
       "      <td>2.505068e+07</td>\n",
       "      <td>1</td>\n",
       "      <td>4.326519e+06</td>\n",
       "      <td>0.0</td>\n",
       "      <td>0.020385</td>\n",
       "      <td>3.0</td>\n",
       "      <td>0</td>\n",
       "      <td>0.024414</td>\n",
       "      <td>215739</td>\n",
       "      <td>1</td>\n",
       "      <td>POINT (-108.28616 38.88850)</td>\n",
       "    </tr>\n",
       "    <tr>\n",
       "      <th>2018-10-17 22:31:17.338676880</th>\n",
       "      <td>60</td>\n",
       "      <td>295</td>\n",
       "      <td>1822.970517</td>\n",
       "      <td>12</td>\n",
       "      <td>0.225525</td>\n",
       "      <td>2.505068e+07</td>\n",
       "      <td>1</td>\n",
       "      <td>4.326559e+06</td>\n",
       "      <td>0.0</td>\n",
       "      <td>0.052908</td>\n",
       "      <td>3.0</td>\n",
       "      <td>0</td>\n",
       "      <td>0.084989</td>\n",
       "      <td>215741</td>\n",
       "      <td>1</td>\n",
       "      <td>POINT (-108.28620 38.88887)</td>\n",
       "    </tr>\n",
       "  </tbody>\n",
       "</table>\n",
       "</div>"
      ],
      "text/plain": [
       "                               gt  rgt       h_mean  n_fit_photons  \\\n",
       "time                                                                 \n",
       "2018-10-17 22:31:17.332951552  60  295  1821.473855             59   \n",
       "2018-10-17 22:31:17.338676880  60  295  1822.970517             12   \n",
       "\n",
       "                               rms_misfit    delta_time  spot      distance  \\\n",
       "time                                                                          \n",
       "2018-10-17 22:31:17.332951552    0.186843  2.505068e+07     1  4.326519e+06   \n",
       "2018-10-17 22:31:17.338676880    0.225525  2.505068e+07     1  4.326559e+06   \n",
       "\n",
       "                               dh_fit_dy  dh_fit_dx  w_surface_window_final  \\\n",
       "time                                                                          \n",
       "2018-10-17 22:31:17.332951552        0.0   0.020385                     3.0   \n",
       "2018-10-17 22:31:17.338676880        0.0   0.052908                     3.0   \n",
       "\n",
       "                               pflags   h_sigma  segment_id  cycle  \\\n",
       "time                                                                 \n",
       "2018-10-17 22:31:17.332951552       0  0.024414      215739      1   \n",
       "2018-10-17 22:31:17.338676880       0  0.084989      215741      1   \n",
       "\n",
       "                                                  geometry  \n",
       "time                                                        \n",
       "2018-10-17 22:31:17.332951552  POINT (-108.28616 38.88850)  \n",
       "2018-10-17 22:31:17.338676880  POINT (-108.28620 38.88887)  "
      ]
     },
     "execution_count": 21,
     "metadata": {},
     "output_type": "execute_result"
    }
   ],
   "source": [
    "gdf.head(2)"
   ]
  },
  {
   "cell_type": "code",
   "execution_count": 22,
   "id": "d88c9953",
   "metadata": {},
   "outputs": [
    {
     "ename": "AttributeError",
     "evalue": "'GeoDataFrame' object has no attribute 'acqdate'",
     "output_type": "error",
     "traceback": [
      "\u001b[0;31m---------------------------------------------------------------------------\u001b[0m",
      "\u001b[0;31mAttributeError\u001b[0m                            Traceback (most recent call last)",
      "Input \u001b[0;32mIn [22]\u001b[0m, in \u001b[0;36m<cell line: 1>\u001b[0;34m()\u001b[0m\n\u001b[0;32m----> 1\u001b[0m \u001b[43mgdf\u001b[49m\u001b[38;5;241;43m.\u001b[39;49m\u001b[43macqdate\u001b[49m\u001b[38;5;241m.\u001b[39munique()\n",
      "File \u001b[0;32m/srv/conda/envs/notebook/lib/python3.10/site-packages/pandas/core/generic.py:5575\u001b[0m, in \u001b[0;36mNDFrame.__getattr__\u001b[0;34m(self, name)\u001b[0m\n\u001b[1;32m   5568\u001b[0m \u001b[38;5;28;01mif\u001b[39;00m (\n\u001b[1;32m   5569\u001b[0m     name \u001b[38;5;129;01mnot\u001b[39;00m \u001b[38;5;129;01min\u001b[39;00m \u001b[38;5;28mself\u001b[39m\u001b[38;5;241m.\u001b[39m_internal_names_set\n\u001b[1;32m   5570\u001b[0m     \u001b[38;5;129;01mand\u001b[39;00m name \u001b[38;5;129;01mnot\u001b[39;00m \u001b[38;5;129;01min\u001b[39;00m \u001b[38;5;28mself\u001b[39m\u001b[38;5;241m.\u001b[39m_metadata\n\u001b[1;32m   5571\u001b[0m     \u001b[38;5;129;01mand\u001b[39;00m name \u001b[38;5;129;01mnot\u001b[39;00m \u001b[38;5;129;01min\u001b[39;00m \u001b[38;5;28mself\u001b[39m\u001b[38;5;241m.\u001b[39m_accessors\n\u001b[1;32m   5572\u001b[0m     \u001b[38;5;129;01mand\u001b[39;00m \u001b[38;5;28mself\u001b[39m\u001b[38;5;241m.\u001b[39m_info_axis\u001b[38;5;241m.\u001b[39m_can_hold_identifiers_and_holds_name(name)\n\u001b[1;32m   5573\u001b[0m ):\n\u001b[1;32m   5574\u001b[0m     \u001b[38;5;28;01mreturn\u001b[39;00m \u001b[38;5;28mself\u001b[39m[name]\n\u001b[0;32m-> 5575\u001b[0m \u001b[38;5;28;01mreturn\u001b[39;00m \u001b[38;5;28;43mobject\u001b[39;49m\u001b[38;5;241;43m.\u001b[39;49m\u001b[38;5;21;43m__getattribute__\u001b[39;49m\u001b[43m(\u001b[49m\u001b[38;5;28;43mself\u001b[39;49m\u001b[43m,\u001b[49m\u001b[43m \u001b[49m\u001b[43mname\u001b[49m\u001b[43m)\u001b[49m\n",
      "\u001b[0;31mAttributeError\u001b[0m: 'GeoDataFrame' object has no attribute 'acqdate'"
     ]
    }
   ],
   "source": [
    "gdf.acqdate.unique()"
   ]
  },
  {
   "cell_type": "code",
   "execution_count": 23,
   "id": "d5f7b7b7",
   "metadata": {},
   "outputs": [],
   "source": [
    "gdf['elev_plus'] = gdf['h_mean'] + 1"
   ]
  },
  {
   "cell_type": "code",
   "execution_count": 24,
   "id": "feb05911",
   "metadata": {},
   "outputs": [
    {
     "data": {
      "application/vnd.jupyter.widget-view+json": {
       "model_id": "2ca1d42d047d4bd09bc99cbe0a387447",
       "version_major": 2,
       "version_minor": 0
      },
      "text/plain": [
       "VBox(children=(Dropdown(description='Variable:', description_tooltip='Variable: variable to display on leaflet…"
      ]
     },
     "metadata": {},
     "output_type": "display_data"
    }
   ],
   "source": [
    "widgets.VBox([\n",
    "    SRwidgets.variable,\n",
    "    SRwidgets.cmap,\n",
    "    SRwidgets.reverse,\n",
    "])"
   ]
  },
  {
   "cell_type": "code",
   "execution_count": 25,
   "id": "2e858b0c",
   "metadata": {},
   "outputs": [
    {
     "data": {
      "application/vnd.jupyter.widget-view+json": {
       "model_id": "fa4971899436497fbacfeada2aec6b7c",
       "version_major": 2,
       "version_minor": 0
      },
      "text/plain": [
       "DatePicker(value=None, description='Pick a Date')"
      ]
     },
     "metadata": {},
     "output_type": "display_data"
    }
   ],
   "source": [
    "widgets.DatePicker(\n",
    "    description='Pick a Date',\n",
    "    disabled=False\n",
    ")\n"
   ]
  },
  {
   "cell_type": "code",
   "execution_count": 26,
   "id": "3672eec5",
   "metadata": {},
   "outputs": [
    {
     "data": {
      "application/vnd.jupyter.widget-view+json": {
       "model_id": "8a17c836514b4ce091694391573fc098",
       "version_major": 2,
       "version_minor": 0
      },
      "text/plain": [
       "SelectionRangeSlider(description='Dates', index=(0, 1207), layout=Layout(width='500px'), options=((' 10 Nov 20…"
      ]
     },
     "metadata": {},
     "output_type": "display_data"
    }
   ],
   "source": [
    "start_date = datetime(2018, 11, 10)\n",
    "end_date = datetime(2022, 3, 1)\n",
    "\n",
    "dates = pd.date_range(start_date, end_date, freq='D')\n",
    "\n",
    "options = [(date.strftime(' %d %b %Y '), date) for date in dates]\n",
    "index = (0, len(options)-1)\n",
    "\n",
    "selection_range_slider = widgets.SelectionRangeSlider(\n",
    "    options=options,\n",
    "    index=index,\n",
    "    description='Dates',\n",
    "    orientation='horizontal',\n",
    "    layout={'width': '500px'}\n",
    ")\n",
    "\n",
    "selection_range_slider\n"
   ]
  },
  {
   "cell_type": "code",
   "execution_count": 28,
   "id": "b77157c8",
   "metadata": {},
   "outputs": [
    {
     "data": {
      "text/plain": [
       "<sliderule.ipysliderule.widgets at 0x7f569e7bd690>"
      ]
     },
     "execution_count": 28,
     "metadata": {},
     "output_type": "execute_result"
    }
   ],
   "source": [
    "SRwidgets"
   ]
  },
  {
   "cell_type": "code",
   "execution_count": 29,
   "id": "fdd1997b",
   "metadata": {},
   "outputs": [],
   "source": [
    "m.GeoData(gdf, column_name=SRwidgets.variable.value, cmap='viridis',\n",
    "    max_plot_points=10000, tooltip=True, colorbar=True)"
   ]
  },
  {
   "cell_type": "code",
   "execution_count": 30,
   "id": "35621521",
   "metadata": {},
   "outputs": [
    {
     "ename": "SyntaxError",
     "evalue": "invalid syntax (3762063117.py, line 1)",
     "output_type": "error",
     "traceback": [
      "\u001b[0;36m  Input \u001b[0;32mIn [30]\u001b[0;36m\u001b[0m\n\u001b[0;31m    SRwidgets.\u001b[0m\n\u001b[0m              ^\u001b[0m\n\u001b[0;31mSyntaxError\u001b[0m\u001b[0;31m:\u001b[0m invalid syntax\n"
     ]
    }
   ],
   "source": [
    "SRwidgets."
   ]
  },
  {
   "cell_type": "code",
   "execution_count": 31,
   "id": "351ada94",
   "metadata": {},
   "outputs": [
    {
     "ename": "SyntaxError",
     "evalue": "invalid character '‘' (U+2018) (853659073.py, line 1)",
     "output_type": "error",
     "traceback": [
      "\u001b[0;36m  Input \u001b[0;32mIn [31]\u001b[0;36m\u001b[0m\n\u001b[0;31m    date = dict(zip(gdf[''].tolist(), africa[‘pop_est’].tolist()))\u001b[0m\n\u001b[0m                                             ^\u001b[0m\n\u001b[0;31mSyntaxError\u001b[0m\u001b[0;31m:\u001b[0m invalid character '‘' (U+2018)\n"
     ]
    }
   ],
   "source": [
    "date = dict(zip(gdf[''].tolist(), africa[‘pop_est’].tolist()))\n",
    "africa[[“name”, “geometry”]].to_file(“data/africa.json”, driver=”GeoJSON”, encoding=’utf-8')\n",
    "geojson_data = json.load(open(“data/africa.json”,’r’))for feature in geojson_data[‘features’]:\n",
    "     properties = feature[‘properties’]\n",
    "     feature.update(id=properties[‘name’])\n",
    "     #print(feature[‘id’])"
   ]
  },
  {
   "cell_type": "markdown",
   "id": "93eb1e05",
   "metadata": {},
   "source": [
    "#### Create plots for a single track"
   ]
  },
  {
   "cell_type": "code",
   "execution_count": 32,
   "id": "d19a375c",
   "metadata": {},
   "outputs": [
    {
     "data": {
      "application/vnd.jupyter.widget-view+json": {
       "model_id": "71f957f140e84e78bbf030023e0be26f",
       "version_major": 2,
       "version_minor": 0
      },
      "text/plain": [
       "VBox(children=(Dropdown(description='RGT:', description_tooltip='RGT: Reference Ground Track to plot', index=1…"
      ]
     },
     "metadata": {},
     "output_type": "display_data"
    }
   ],
   "source": [
    "# selection for reference ground track\n",
    "RGTs = [str(int(x)) for x in gdf.rgt.unique()]\n",
    "SRwidgets.rgt = widgets.Dropdown(\n",
    "    options=RGTs,\n",
    "    value=RGTs[1], # You can change this with the pull-down widget below!\n",
    "    description=\"RGT:\",\n",
    "    description_tooltip=\"RGT: Reference Ground Track to plot\",\n",
    "    disabled=False\n",
    ")\n",
    "\n",
    "# selection for ground track\n",
    "ground_track_options = [\"gt1l\",\"gt1r\",\"gt2l\",\"gt2r\",\"gt3l\",\"gt3r\"]\n",
    "SRwidgets.ground_track = widgets.Dropdown(\n",
    "    options=ground_track_options,\n",
    "    value='gt1l',\n",
    "    description=\"Track:\",\n",
    "    description_tooltip=\"Track: Ground Track to plot\",\n",
    "    disabled=False\n",
    ")      \n",
    "widgets.VBox([\n",
    "    SRwidgets.rgt,\n",
    "    SRwidgets.ground_track,\n",
    "])"
   ]
  },
  {
   "cell_type": "code",
   "execution_count": 33,
   "id": "c8fc3762",
   "metadata": {},
   "outputs": [
    {
     "data": {
      "text/plain": [
       "DatetimeIndex(['2018-10-17 22:31:17.332951552',\n",
       "               '2018-10-17 22:31:17.338676880',\n",
       "               '2018-10-17 22:31:17.350047904',\n",
       "               '2018-10-17 22:31:17.355689616',\n",
       "               '2018-10-17 22:31:17.361279052',\n",
       "               '2018-10-17 22:31:17.366855968',\n",
       "               '2018-10-17 22:31:18.140942396',\n",
       "               '2018-10-17 22:31:18.146572856',\n",
       "               '2018-10-17 22:31:18.152203580',\n",
       "               '2018-10-17 22:31:18.240796700',\n",
       "               ...\n",
       "               '2022-03-07 23:39:21.897285824',\n",
       "               '2022-03-07 23:39:22.050853024',\n",
       "               '2022-03-07 23:39:22.388791296',\n",
       "               '2022-03-07 23:39:22.620028464',\n",
       "               '2022-03-09 11:21:16.897794800',\n",
       "               '2022-03-09 11:21:16.902325984',\n",
       "               '2022-03-09 11:21:17.108213888',\n",
       "               '2022-03-09 11:21:17.130550352',\n",
       "               '2022-03-09 11:21:17.136199872',\n",
       "               '2022-03-09 11:21:17.141899664'],\n",
       "              dtype='datetime64[ns]', name='time', length=94078, freq=None)"
      ]
     },
     "execution_count": 33,
     "metadata": {},
     "output_type": "execute_result"
    }
   ],
   "source": [
    "gdf.index"
   ]
  },
  {
   "cell_type": "code",
   "execution_count": 34,
   "id": "4c01ac3b",
   "metadata": {},
   "outputs": [],
   "source": [
    "gdf.index = gdf.index.astype(str)"
   ]
  },
  {
   "cell_type": "code",
   "execution_count": 35,
   "id": "71c68ca2",
   "metadata": {},
   "outputs": [
    {
     "data": {
      "text/plain": [
       "pandas.core.indexes.base.Index"
      ]
     },
     "execution_count": 35,
     "metadata": {},
     "output_type": "execute_result"
    }
   ],
   "source": [
    "type(gdf.index)"
   ]
  },
  {
   "cell_type": "code",
   "execution_count": 36,
   "id": "ca0b663f",
   "metadata": {},
   "outputs": [
    {
     "name": "stdout",
     "output_type": "stream",
     "text": [
      "/home/jovyan/isce_sat2/contributors/naheem\n"
     ]
    }
   ],
   "source": [
    "!pwd"
   ]
  },
  {
   "cell_type": "code",
   "execution_count": 37,
   "id": "8c47fd39",
   "metadata": {},
   "outputs": [],
   "source": [
    "fn = '../../data/tuolumne_all_sr-atl06-07072022.geojson'"
   ]
  },
  {
   "cell_type": "code",
   "execution_count": null,
   "id": "7499aedf",
   "metadata": {},
   "outputs": [],
   "source": [
    "gdf.to_file(fn, driver='GeoJSON')"
   ]
  },
  {
   "cell_type": "code",
   "execution_count": null,
   "id": "bc208cac",
   "metadata": {},
   "outputs": [],
   "source": [
    "gdf2 = gpd.read_file(fn)"
   ]
  },
  {
   "cell_type": "code",
   "execution_count": null,
   "id": "9e971ec4",
   "metadata": {},
   "outputs": [],
   "source": [
    "gdf2.head()"
   ]
  },
  {
   "cell_type": "code",
   "execution_count": null,
   "id": "ccd0e18c",
   "metadata": {},
   "outputs": [],
   "source": [
    "type(gdf2.index)"
   ]
  },
  {
   "cell_type": "code",
   "execution_count": null,
   "id": "2ae51c77",
   "metadata": {},
   "outputs": [],
   "source": [
    "gdf2['time'] = pd.to_datetime(gdf2['time'])"
   ]
  },
  {
   "cell_type": "code",
   "execution_count": null,
   "id": "fef00ba2",
   "metadata": {},
   "outputs": [],
   "source": [
    "gdf2['time'].is_unique"
   ]
  },
  {
   "cell_type": "code",
   "execution_count": null,
   "id": "ea133993",
   "metadata": {},
   "outputs": [],
   "source": [
    "gdf2['time'].is_unique"
   ]
  },
  {
   "cell_type": "code",
   "execution_count": null,
   "id": "5a5f4707",
   "metadata": {},
   "outputs": [],
   "source": [
    "gdf2.loc[gdf2['time'].duplicated(), :]"
   ]
  },
  {
   "cell_type": "code",
   "execution_count": null,
   "id": "e16fd3a5",
   "metadata": {},
   "outputs": [],
   "source": [
    "gdf2['time'].duplicated().sum()"
   ]
  },
  {
   "cell_type": "code",
   "execution_count": null,
   "id": "425b7964",
   "metadata": {},
   "outputs": [],
   "source": [
    "gdf2.head()"
   ]
  },
  {
   "cell_type": "code",
   "execution_count": null,
   "id": "5f7bbc3d",
   "metadata": {},
   "outputs": [],
   "source": [
    "gdf2.index.is_unique"
   ]
  },
  {
   "cell_type": "code",
   "execution_count": null,
   "id": "0e1e52b4",
   "metadata": {},
   "outputs": [],
   "source": [
    "gdf2.time = pd.DatetimeIndex(gdf2.time)"
   ]
  },
  {
   "cell_type": "code",
   "execution_count": null,
   "id": "6921d96c",
   "metadata": {},
   "outputs": [],
   "source": [
    "gdf2 = gdf2.set_index(['time'])\n",
    "gdf2.sort_index(inplace=True)"
   ]
  },
  {
   "cell_type": "code",
   "execution_count": null,
   "id": "3d59c136",
   "metadata": {},
   "outputs": [],
   "source": [
    "gdf2.index.is_unique"
   ]
  },
  {
   "cell_type": "code",
   "execution_count": null,
   "id": "507bacd9",
   "metadata": {},
   "outputs": [],
   "source": [
    "type(gdf2.time[0])"
   ]
  },
  {
   "cell_type": "code",
   "execution_count": null,
   "id": "c96f8555",
   "metadata": {},
   "outputs": [],
   "source": [
    "fig, ax = plt.subplots()\n",
    "gdf.plot(ax=ax)\n",
    "polygon_gdf.plot(ax=ax)"
   ]
  },
  {
   "cell_type": "code",
   "execution_count": null,
   "id": "08cbf594",
   "metadata": {},
   "outputs": [],
   "source": []
  },
  {
   "cell_type": "code",
   "execution_count": null,
   "id": "13f0dd6b",
   "metadata": {},
   "outputs": [],
   "source": []
  }
 ],
 "metadata": {
  "kernelspec": {
   "display_name": "Python 3 (ipykernel)",
   "language": "python",
   "name": "python3"
  },
  "language_info": {
   "codemirror_mode": {
    "name": "ipython",
    "version": 3
   },
   "file_extension": ".py",
   "mimetype": "text/x-python",
   "name": "python",
   "nbconvert_exporter": "python",
   "pygments_lexer": "ipython3",
   "version": "3.10.5"
  }
 },
 "nbformat": 4,
 "nbformat_minor": 5
}
