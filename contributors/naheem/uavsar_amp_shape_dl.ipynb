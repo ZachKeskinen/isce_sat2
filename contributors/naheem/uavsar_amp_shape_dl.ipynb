{
 "cells": [
  {
   "cell_type": "code",
   "execution_count": 4,
   "id": "f4354530-2f74-4902-89b6-cfe1c94474b9",
   "metadata": {},
   "outputs": [],
   "source": [
    "from uavsar_pytools import UavsarScene\n",
    "from uavsar_pytools.uavsar_tools import create_netrc\n",
    "from datetime import datetime\n",
    "import asf_search as asf\n",
    "import pandas as pd\n",
    "import logging\n",
    "import requests\n",
    "import os\n",
    "from os.path import join, isdir, isfile, basename, dirname, exists\n",
    "from tqdm.auto import tqdm\n",
    "import logging\n",
    "import time\n",
    "\n",
    "log = logging.getLogger(__name__)\n",
    "logging.basicConfig()\n",
    "log.setLevel(logging.WARNING)"
   ]
  },
  {
   "cell_type": "code",
   "execution_count": 5,
   "id": "4ac37123-9414-46cb-99e4-fda162494a9f",
   "metadata": {},
   "outputs": [
    {
     "data": {
      "text/plain": [
       "['Grand Mesa, CO',\n",
       " 'Lowman, CO',\n",
       " 'Fraser, CO',\n",
       " 'Ironton, CO',\n",
       " 'Peeler Peak, CO',\n",
       " 'Rocky Mountains NP, CO',\n",
       " 'Silver City, ID',\n",
       " 'Utica, MT',\n",
       " 'Salt Lake City, UT',\n",
       " 'Los Alamos, NM',\n",
       " 'Eldorado National Forest, CA',\n",
       " 'Donner Memorial State Park, CA',\n",
       " 'Sierra National Forest, CA']"
      ]
     },
     "execution_count": 5,
     "metadata": {},
     "output_type": "execute_result"
    }
   ],
   "source": [
    "# read in data as text file\n",
    "with open('uavsar_campaign_list.txt') as f:\n",
    "    lines = f.readlines()\n",
    "\n",
    "# init empty to loop though\n",
    "uavsar_campaign_list = []\n",
    "\n",
    "# loop to remove /n from text\n",
    "for i in lines:\n",
    "    uavsar_campaign_list.append(i.strip())\n",
    "    \n",
    "uavsar_campaign_list # test print"
   ]
  },
  {
   "cell_type": "code",
   "execution_count": null,
   "id": "11eacc07-cf96-4f77-8587-284b1f187117",
   "metadata": {},
   "outputs": [
    {
     "name": "stdout",
     "output_type": "stream",
     "text": [
      "Grand Mesa, CO\n",
      "12 product(s) found\n",
      "https://datapool.asf.alaska.edu/INTERFEROMETRY_GRD/UA/grmesa_27416_21019-017_21021-005_0006d_s01_L090_01_int_grd.zip\n",
      "-------------------------\n",
      "\n"
     ]
    },
    {
     "data": {
      "application/vnd.jupyter.widget-view+json": {
       "model_id": "6199c1082a274368bb90767c6f39da20",
       "version_major": 2,
       "version_minor": 0
      },
      "text/plain": [
       "Downloading grmesa_27416_21019-017_21021-005_0006d_s01_L090_01_int_grd.zip:   0%|          | 0.00/1.11G [00:00…"
      ]
     },
     "metadata": {},
     "output_type": "display_data"
    },
    {
     "name": "stderr",
     "output_type": "stream",
     "text": [
      "Unzipping: 100%|██████████| 5/5 [00:08<00:00,  1.74s/file]\n"
     ]
    },
    {
     "name": "stdout",
     "output_type": "stream",
     "text": [
      "Lowman, CO\n",
      "15 product(s) found\n",
      "https://datapool.asf.alaska.edu/INTERFEROMETRY_GRD/UA/lowman_05208_21019-019_21021-007_0006d_s01_L090_01_int_grd.zip\n",
      "-------------------------\n",
      "\n"
     ]
    },
    {
     "data": {
      "application/vnd.jupyter.widget-view+json": {
       "model_id": "6bac29bebf96425184bb75b00160db00",
       "version_major": 2,
       "version_minor": 0
      },
      "text/plain": [
       "Downloading lowman_05208_21019-019_21021-007_0006d_s01_L090_01_int_grd.zip:   0%|          | 0.00/5.11G [00:00…"
      ]
     },
     "metadata": {},
     "output_type": "display_data"
    },
    {
     "name": "stderr",
     "output_type": "stream",
     "text": [
      "Unzipping: 100%|██████████| 5/5 [01:57<00:00, 23.55s/file]\n"
     ]
    },
    {
     "name": "stdout",
     "output_type": "stream",
     "text": [
      "Fraser, CO\n",
      "16 product(s) found\n",
      "https://datapool.asf.alaska.edu/INTERFEROMETRY_GRD/UA/fraser_23306_21020-026_21021-004_0006d_s01_L090_01_int_grd.zip\n",
      "-------------------------\n",
      "\n"
     ]
    },
    {
     "data": {
      "application/vnd.jupyter.widget-view+json": {
       "model_id": "0d6caf5fff2342c882c2533dac438ca6",
       "version_major": 2,
       "version_minor": 0
      },
      "text/plain": [
       "Downloading fraser_23306_21020-026_21021-004_0006d_s01_L090_01_int_grd.zip:   0%|          | 0.00/2.23G [00:00…"
      ]
     },
     "metadata": {},
     "output_type": "display_data"
    },
    {
     "name": "stderr",
     "output_type": "stream",
     "text": [
      "Unzipping: 100%|██████████| 5/5 [00:28<00:00,  5.74s/file]\n"
     ]
    },
    {
     "name": "stdout",
     "output_type": "stream",
     "text": [
      "Ironton, CO\n",
      "9 product(s) found\n",
      "https://datapool.asf.alaska.edu/INTERFEROMETRY_GRD/UA/irnton_01406_21020-028_21022-002_0006d_s01_L090_01_int_grd.zip\n",
      "-------------------------\n",
      "\n"
     ]
    },
    {
     "data": {
      "application/vnd.jupyter.widget-view+json": {
       "model_id": "329a1be6a0da498c9681662600f0dcc1",
       "version_major": 2,
       "version_minor": 0
      },
      "text/plain": [
       "Downloading irnton_01406_21020-028_21022-002_0006d_s01_L090_01_int_grd.zip:   0%|          | 0.00/1.54G [00:00…"
      ]
     },
     "metadata": {},
     "output_type": "display_data"
    },
    {
     "name": "stderr",
     "output_type": "stream",
     "text": [
      "Unzipping: 100%|██████████| 5/5 [00:14<00:00,  2.83s/file]\n"
     ]
    },
    {
     "name": "stdout",
     "output_type": "stream",
     "text": [
      "Peeler Peak, CO\n",
      "3 product(s) found\n",
      "https://datapool.asf.alaska.edu/INTERFEROMETRY_GRD/UA/peeler_31619_20013-003_20017-008_0015d_s01_L090_01_int_grd.zip\n",
      "-------------------------\n",
      "\n"
     ]
    },
    {
     "data": {
      "application/vnd.jupyter.widget-view+json": {
       "model_id": "9994df9fe30d41bca9c5dc04acddf84e",
       "version_major": 2,
       "version_minor": 0
      },
      "text/plain": [
       "Downloading peeler_31619_20013-003_20017-008_0015d_s01_L090_01_int_grd.zip:   0%|          | 0.00/1.34G [00:00…"
      ]
     },
     "metadata": {},
     "output_type": "display_data"
    },
    {
     "name": "stderr",
     "output_type": "stream",
     "text": [
      "Unzipping: 100%|██████████| 4/4 [00:15<00:00,  3.75s/file]\n"
     ]
    },
    {
     "name": "stdout",
     "output_type": "stream",
     "text": [
      "Rocky Mountains NP, CO\n",
      "14 product(s) found\n",
      "https://datapool.asf.alaska.edu/INTERFEROMETRY_GRD/UA/rockmt_32109_21017-013_21021-001_0012d_s01_L090_01_int_grd.zip\n",
      "-------------------------\n",
      "\n"
     ]
    },
    {
     "data": {
      "application/vnd.jupyter.widget-view+json": {
       "model_id": "026e666d33654a7e958b55b8db64518a",
       "version_major": 2,
       "version_minor": 0
      },
      "text/plain": [
       "Downloading rockmt_32109_21017-013_21021-001_0012d_s01_L090_01_int_grd.zip:   0%|          | 0.00/2.73G [00:00…"
      ]
     },
     "metadata": {},
     "output_type": "display_data"
    },
    {
     "name": "stderr",
     "output_type": "stream",
     "text": [
      "Unzipping: 100%|██████████| 5/5 [00:42<00:00,  8.57s/file]\n"
     ]
    },
    {
     "name": "stdout",
     "output_type": "stream",
     "text": [
      "Silver City, ID\n",
      "1 product(s) found\n",
      "https://datapool.asf.alaska.edu/INTERFEROMETRY_GRD/UA/silver_34715_20011-001_20016-002_0019d_s01_L090_01_int_grd.zip\n",
      "-------------------------\n",
      "\n"
     ]
    },
    {
     "data": {
      "application/vnd.jupyter.widget-view+json": {
       "model_id": "fefb5a0d9e744ced8e2b15fbd4658cdf",
       "version_major": 2,
       "version_minor": 0
      },
      "text/plain": [
       "Downloading silver_34715_20011-001_20016-002_0019d_s01_L090_01_int_grd.zip:   0%|          | 0.00/1.50G [00:00…"
      ]
     },
     "metadata": {},
     "output_type": "display_data"
    },
    {
     "name": "stderr",
     "output_type": "stream",
     "text": [
      "Unzipping: 100%|██████████| 5/5 [00:13<00:00,  2.66s/file]\n"
     ]
    },
    {
     "name": "stdout",
     "output_type": "stream",
     "text": [
      "Utica, MT\n",
      "2 product(s) found\n",
      "https://datapool.asf.alaska.edu/INTERFEROMETRY_GRD/UA/uticam_21003_21004-002_21013-003_0034d_s01_L090_01_int_grd.zip\n",
      "-------------------------\n",
      "\n"
     ]
    },
    {
     "data": {
      "application/vnd.jupyter.widget-view+json": {
       "model_id": "5d11131184114a0a91318e64e90e52f5",
       "version_major": 2,
       "version_minor": 0
      },
      "text/plain": [
       "Downloading uticam_21003_21004-002_21013-003_0034d_s01_L090_01_int_grd.zip:   0%|          | 0.00/3.75G [00:00…"
      ]
     },
     "metadata": {},
     "output_type": "display_data"
    },
    {
     "name": "stderr",
     "output_type": "stream",
     "text": [
      "Unzipping: 100%|██████████| 5/5 [01:04<00:00, 12.87s/file]\n"
     ]
    },
    {
     "name": "stdout",
     "output_type": "stream",
     "text": [
      "Salt Lake City, UT\n"
     ]
    }
   ],
   "source": [
    "# define search parameters for sierra flight line\n",
    "start_date = datetime.strptime('2020-02-19 11:00:00', '%Y-%m-%d %H:%M:%S') \n",
    "end_date = datetime.strptime('2021-05-21 11:00:00', '%Y-%m-%d %H:%M:%S') \n",
    "\n",
    "#loop through the campaign name\n",
    "for i in range(len(uavsar_campaign_list)):\n",
    "    print(uavsar_campaign_list[i])\n",
    "    # search for data\n",
    "    results = asf.search(platform = 'UAVSAR',\n",
    "                         processingLevel = (['INTERFEROMETRY_GRD']),\n",
    "                         campaign = uavsar_campaign_list[i],\n",
    "                         start = start_date,\n",
    "                         end = end_date)\n",
    "\n",
    "    print(f'{len(results)} product(s) found')\n",
    "    \n",
    "    # pull out the first result from the list and print it\n",
    "    first = results[0]\n",
    "    \n",
    "    # define the URLs and print, decribe this functionality is within the ASFproduct class\n",
    "    first_url = first.properties['url']\n",
    "    print(first_url)\n",
    "    print('-------------------------\\n')\n",
    "    \n",
    "    ## Change this variable to a directory you want to download files into\n",
    "    image_directory = 'download_files'\n",
    "\n",
    "    # Instantiating an instance of the UavsarScene class and downloading all images\n",
    "    scene = UavsarScene(url = first_url, work_dir= image_directory, pols = ['HH'])\n",
    "    scene.url_to_tiffs()"
   ]
  },
  {
   "cell_type": "code",
   "execution_count": null,
   "id": "2f52ae03-f5a7-4d6e-8caf-13e7428ca757",
   "metadata": {},
   "outputs": [],
   "source": []
  }
 ],
 "metadata": {
  "kernelspec": {
   "display_name": "Python 3 (ipykernel)",
   "language": "python",
   "name": "python3"
  },
  "language_info": {
   "codemirror_mode": {
    "name": "ipython",
    "version": 3
   },
   "file_extension": ".py",
   "mimetype": "text/x-python",
   "name": "python",
   "nbconvert_exporter": "python",
   "pygments_lexer": "ipython3",
   "version": "3.10.5"
  }
 },
 "nbformat": 4,
 "nbformat_minor": 5
}
