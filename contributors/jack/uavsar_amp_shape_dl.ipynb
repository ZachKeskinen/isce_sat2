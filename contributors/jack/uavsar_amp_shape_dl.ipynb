{
 "cells": [
  {
   "cell_type": "code",
   "execution_count": 13,
   "id": "f4354530-2f74-4902-89b6-cfe1c94474b9",
   "metadata": {},
   "outputs": [],
   "source": [
    "from uavsar_pytools import UavsarImage\n",
    "from datetime import datetime\n",
    "import asf_search\n",
    "import pandas as pd"
   ]
  },
  {
   "cell_type": "code",
   "execution_count": 11,
   "id": "911b713e-0aee-4a8c-aeab-fa26f8e3dce4",
   "metadata": {},
   "outputs": [],
   "source": [
    "# define search parameters for sierra flight line\n",
    "start_date = datetime.strptime('2020-02-19 11:00:00', '%Y-%m-%d %H:%M:%S') \n",
    "end_date = datetime.strptime('2021-02-21 11:00:00', '%Y-%m-%d %H:%M:%S') "
   ]
  },
  {
   "cell_type": "code",
   "execution_count": 12,
   "id": "4ac37123-9414-46cb-99e4-fda162494a9f",
   "metadata": {},
   "outputs": [
    {
     "ename": "NameError",
     "evalue": "name 'file' is not defined",
     "output_type": "error",
     "traceback": [
      "\u001b[0;31m---------------------------------------------------------------------------\u001b[0m",
      "\u001b[0;31mNameError\u001b[0m                                 Traceback (most recent call last)",
      "Input \u001b[0;32mIn [12]\u001b[0m, in \u001b[0;36m<cell line: 1>\u001b[0;34m()\u001b[0m\n\u001b[0;32m----> 1\u001b[0m uavsar_list \u001b[38;5;241m=\u001b[39m \u001b[43mfile\u001b[49m\u001b[38;5;241m.\u001b[39mread(\u001b[38;5;124m'\u001b[39m\u001b[38;5;124muavsar_campaign_list.txt\u001b[39m\u001b[38;5;124m'\u001b[39m)\n",
      "\u001b[0;31mNameError\u001b[0m: name 'file' is not defined"
     ]
    }
   ],
   "source": [
    "uavsar_list = file.read('uavsar_campaign_list.txt')"
   ]
  },
  {
   "cell_type": "code",
   "execution_count": null,
   "id": "3711e27e-516a-43bb-9da1-0321c295c2af",
   "metadata": {},
   "outputs": [],
   "source": [
    "## Example url. Use vertex to find other urls: https://search.asf.alaska.edu/\n",
    "zip_url = 'https://datapool.asf.alaska.edu/INTERFEROMETRY_GRD/UA/lowman_05208_21019-019_21021-007_0006d_s01_L090_01_int_grd.zip'\n",
    "\n",
    "## Change this variable to a directory you want to download files into\n",
    "image_directory = '~/directory/to/store/images/'\n",
    "\n",
    "# Instantiating an instance of the UavsarScene class and downloading all images\n",
    "scene = UavsarScene(url = zip_url, work_dir= image_directory)\n",
    "scene.url_to_tiffs()"
   ]
  },
  {
   "cell_type": "code",
   "execution_count": null,
   "id": "f6310929-a643-47e9-93f5-a03ddc4e692c",
   "metadata": {},
   "outputs": [],
   "source": [
    "# search for data\n",
    "results = asf.search(platform = 'UAVSAR',\n",
    "                     processingLevel = (['AMPLITUDE_GRD']),\n",
    "                     collectionName = sagehen_wkt,\n",
    "                     start = start_date,\n",
    "                     end = end_date)\n",
    "\n",
    "print(f'{len(results)} product(s) found')"
   ]
  }
 ],
 "metadata": {
  "kernelspec": {
   "display_name": "Python 3 (ipykernel)",
   "language": "python",
   "name": "python3"
  },
  "language_info": {
   "codemirror_mode": {
    "name": "ipython",
    "version": 3
   },
   "file_extension": ".py",
   "mimetype": "text/x-python",
   "name": "python",
   "nbconvert_exporter": "python",
   "pygments_lexer": "ipython3",
   "version": "3.10.5"
  }
 },
 "nbformat": 4,
 "nbformat_minor": 5
}
