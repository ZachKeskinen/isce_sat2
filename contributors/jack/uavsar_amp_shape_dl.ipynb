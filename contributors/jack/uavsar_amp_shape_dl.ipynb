{
 "cells": [
  {
   "cell_type": "code",
   "execution_count": 9,
   "id": "f4354530-2f74-4902-89b6-cfe1c94474b9",
   "metadata": {},
   "outputs": [],
   "source": [
    "from uavsar_pytools import UavsarScene\n",
    "from datetime import datetime\n",
    "import asf_search as asf\n",
    "import pandas as pd\n",
    "import logging\n",
    "import requests\n",
    "import os\n",
    "from os.path import join, isdir, isfile, basename, dirname, exists\n",
    "from tqdm.auto import tqdm\n",
    "import logging\n",
    "import time\n",
    "\n",
    "log = logging.getLogger(__name__)\n",
    "logging.basicConfig()\n",
    "log.setLevel(logging.WARNING)"
   ]
  },
  {
   "cell_type": "code",
   "execution_count": 2,
   "id": "4ac37123-9414-46cb-99e4-fda162494a9f",
   "metadata": {},
   "outputs": [
    {
     "data": {
      "text/plain": [
       "['Grand Mesa, CO',\n",
       " 'Lowman, CO',\n",
       " 'Fraser, CO',\n",
       " 'Ironton, CO',\n",
       " 'Peeler Peak, CO',\n",
       " 'Rocky Mountains NP, CO',\n",
       " 'Silver City, ID',\n",
       " 'Utica, MT',\n",
       " 'Salt Lake City, UT',\n",
       " 'Los Alamos, NM',\n",
       " 'Eldorado National Forest, CA',\n",
       " 'Donner Memorial State Park, CA',\n",
       " 'Sierra National Forest, CA']"
      ]
     },
     "execution_count": 2,
     "metadata": {},
     "output_type": "execute_result"
    }
   ],
   "source": [
    "# read in data as text file\n",
    "with open('uavsar_campaign_list.txt') as f:\n",
    "    lines = f.readlines()\n",
    "\n",
    "# init empty to loop though\n",
    "uavsar_campaign_list = []\n",
    "\n",
    "# loop to remove /n from text\n",
    "for i in lines:\n",
    "    uavsar_campaign_list.append(i.strip())\n",
    "    \n",
    "uavsar_campaign_list # test print"
   ]
  },
  {
   "cell_type": "code",
   "execution_count": 3,
   "id": "30d41c10-930c-4a23-9b6c-a0a1df738126",
   "metadata": {},
   "outputs": [],
   "source": [
    "# define search parameters for sierra flight line\n",
    "start_date = datetime.strptime('2020-02-19 11:00:00', '%Y-%m-%d %H:%M:%S') \n",
    "end_date = datetime.strptime('2020-02-21 11:00:00', '%Y-%m-%d %H:%M:%S') "
   ]
  },
  {
   "cell_type": "code",
   "execution_count": 15,
   "id": "4fdffcf0-5da1-401f-9c62-9012d464ef86",
   "metadata": {},
   "outputs": [
    {
     "data": {
      "text/plain": [
       "'Los Alamos, NM'"
      ]
     },
     "execution_count": 15,
     "metadata": {},
     "output_type": "execute_result"
    }
   ],
   "source": [
    "uavsar_campaign_list[9]"
   ]
  },
  {
   "cell_type": "code",
   "execution_count": 16,
   "id": "f6310929-a643-47e9-93f5-a03ddc4e692c",
   "metadata": {},
   "outputs": [
    {
     "name": "stdout",
     "output_type": "stream",
     "text": [
      "3 product(s) found\n"
     ]
    }
   ],
   "source": [
    "# search for data\n",
    "results = asf.search(platform = 'UAVSAR',\n",
    "                     processingLevel = (['INTERFEROMETRY_GRD']),\n",
    "                     campaign = uavsar_campaign_list[9],\n",
    "                     start = start_date,\n",
    "                     end = end_date)\n",
    "\n",
    "print(f'{len(results)} product(s) found')"
   ]
  },
  {
   "cell_type": "code",
   "execution_count": 17,
   "id": "58ab3e8e-0f58-4131-a0d2-30efb398a184",
   "metadata": {},
   "outputs": [
    {
     "name": "stdout",
     "output_type": "stream",
     "text": [
      "{'beamModeType': 'RPI', 'browse': ['https://datapool.asf.alaska.edu/BROWSE/UA/alamos_35915_20008-000_20013-000_0007d_s01_L090HH_01.cor.png', 'https://datapool.asf.alaska.edu/BROWSE/UA/alamos_35915_20008-000_20013-000_0007d_s01_L090HH_01.hgt.png', 'https://datapool.asf.alaska.edu/BROWSE/UA/alamos_35915_20008-000_20013-000_0007d_s01_L090HV_01.cor.png', 'https://datapool.asf.alaska.edu/BROWSE/UA/alamos_35915_20008-000_20013-000_0007d_s01_L090HV_01.hgt.png', 'https://datapool.asf.alaska.edu/BROWSE/UA/alamos_35915_20008-000_20013-000_0007d_s01_L090VH_01.cor.png', 'https://datapool.asf.alaska.edu/BROWSE/UA/alamos_35915_20008-000_20013-000_0007d_s01_L090VH_01.hgt.png', 'https://datapool.asf.alaska.edu/BROWSE/UA/alamos_35915_20008-000_20013-000_0007d_s01_L090VV_01.cor.png', 'https://datapool.asf.alaska.edu/BROWSE/UA/alamos_35915_20008-000_20013-000_0007d_s01_L090VV_01.hgt.png'], 'bytes': '1271664631', 'centerLat': '35.8884988092287', 'centerLon': '-106.439472086581', 'faradayRotation': None, 'fileID': 'UA_alamos_35915_20008-000_20013-000_0007d_s01_L090_01-INTERFEROMETRY_GRD', 'fileName': 'alamos_35915_20008-000_20013-000_0007d_s01_L090_01_int_grd.zip', 'flightDirection': None, 'frameNumber': '718', 'granuleType': 'UAVSAR_INSAR_SCENE', 'groupID': 'UA_alamos_35915_20008-000_20013-000_0007d_s01_L090_01', 'insarStackId': '-1', 'md5sum': 'c3f6fdf584f1d5026a93f47c9aa3ed75', 'offNadirAngle': None, 'orbit': '-1', 'pathNumber': '35915', 'perpendicularBaseline': None, 'platform': 'UAVSAR', 'pointingAngle': None, 'polarization': 'HH', 'processingDate': '2020-03-30T18:08:10Z', 'processingLevel': 'INTERFEROMETRY_GRD', 'sceneName': 'UA_alamos_35915_20008-000_20013-000_0007d_s01_L090_01', 'sensor': 'UAVSAR', 'startTime': '2020-02-19T16:10:25Z', 'stopTime': '2020-02-26T16:27:24Z', 'temporalBaseline': None, 'url': 'https://datapool.asf.alaska.edu/INTERFEROMETRY_GRD/UA/alamos_35915_20008-000_20013-000_0007d_s01_L090_01_int_grd.zip'}\n"
     ]
    }
   ],
   "source": [
    "# pull out the first result from the list and print it\n",
    "first = results[0]\n",
    "print(first.properties)"
   ]
  },
  {
   "cell_type": "code",
   "execution_count": 18,
   "id": "83e21dfa-c4b1-47ba-a70e-be7c2802ca47",
   "metadata": {},
   "outputs": [
    {
     "name": "stdout",
     "output_type": "stream",
     "text": [
      "https://datapool.asf.alaska.edu/INTERFEROMETRY_GRD/UA/alamos_35915_20008-000_20013-000_0007d_s01_L090_01_int_grd.zip\n"
     ]
    }
   ],
   "source": [
    "# define the URLs and print, decribe this functionality is within the ASFproduct class\n",
    "first_url = first.properties['url']\n",
    "print(first_url)"
   ]
  },
  {
   "cell_type": "code",
   "execution_count": 19,
   "id": "d35d819a-b706-40da-aeeb-a603fb399ed7",
   "metadata": {},
   "outputs": [
    {
     "data": {
      "application/vnd.jupyter.widget-view+json": {
       "model_id": "14469589a8bc4c7fbd2bf060ec163db1",
       "version_major": 2,
       "version_minor": 0
      },
      "text/plain": [
       "Downloading alamos_35915_20008-000_20013-000_0007d_s01_L090_01_int_grd.zip:   0%|          | 0.00/1.27G [00:00…"
      ]
     },
     "metadata": {},
     "output_type": "display_data"
    },
    {
     "name": "stderr",
     "output_type": "stream",
     "text": [
      "Unzipping: 100%|██████████| 5/5 [00:08<00:00,  1.68s/file]\n"
     ]
    }
   ],
   "source": [
    "## Example url. Use vertex to find other urls: https://search.asf.alaska.edu/\n",
    "# zip_url = 'https://datapool.asf.alaska.edu/INTERFEROMETRY_GRD/UA/lowman_05208_21019-019_21021-007_0006d_s01_L090_01_int_grd.zip'\n",
    "\n",
    "## Change this variable to a directory you want to download files into\n",
    "image_directory = ''\n",
    "\n",
    "# Instantiating an instance of the UavsarScene class and downloading all images\n",
    "scene = UavsarScene(url = first_url, work_dir= image_directory, pols = ['HH'])\n",
    "scene.url_to_tiffs()"
   ]
  },
  {
   "cell_type": "code",
   "execution_count": null,
   "id": "935e58bb-e621-4776-9b8c-65215d9568ea",
   "metadata": {},
   "outputs": [],
   "source": []
  },
  {
   "cell_type": "code",
   "execution_count": null,
   "id": "319fb1cd-516a-4c16-9768-f55121991b2e",
   "metadata": {},
   "outputs": [],
   "source": []
  },
  {
   "cell_type": "code",
   "execution_count": null,
   "id": "d10e6667-19d0-484b-b51e-bb94ce4992e8",
   "metadata": {},
   "outputs": [],
   "source": []
  },
  {
   "cell_type": "code",
   "execution_count": null,
   "id": "bee30cf4-535a-4e8a-8ca8-e6d0e7897128",
   "metadata": {},
   "outputs": [],
   "source": []
  },
  {
   "cell_type": "code",
   "execution_count": null,
   "id": "a3888529-5fd3-4041-83eb-210dc7dd847e",
   "metadata": {},
   "outputs": [],
   "source": [
    "http://uavsar.asfdaac.alaska.edu/UA_alamos_35915_20008-000_20013-000_0007d_s01_L090_01/alamos_35915_20008-000_20013-000_0007d_s01_L090HH_01.cor.grd"
   ]
  },
  {
   "cell_type": "code",
   "execution_count": null,
   "id": "c0861c91-45c4-4f07-b6dc-fd5db55a5f8c",
   "metadata": {},
   "outputs": [],
   "source": [
    "# search for data\n",
    "results = asf.search(platform = 'UAVSAR',\n",
    "                     processingLevel = (['INTERFEROMETRY_GRD']),\n",
    "                     collectionName = 'Lowman, CO')\n",
    "\n",
    "print(f'{len(results)} product(s) found')"
   ]
  },
  {
   "cell_type": "code",
   "execution_count": null,
   "id": "42cc7976-8dc8-49b1-915e-c4bdf02cae63",
   "metadata": {},
   "outputs": [],
   "source": [
    "## Example url. Use vertex to find other urls: https://search.asf.alaska.edu/\n",
    "zip_url = 'https://datapool.asf.alaska.edu/INTERFEROMETRY_GRD/UA/lowman_05208_21019-019_21021-007_0006d_s01_L090_01_int_grd.zip'\n",
    "\n",
    "## Change this variable to a directory you want to download files into\n",
    "image_directory = '~/directory/to/store/images/'\n",
    "\n",
    "# Instantiating an instance of the UavsarScene class and downloading all images\n",
    "scene = UavsarScene(url = zip_url, work_dir= image_directory)\n",
    "scene.url_to_tiffs()"
   ]
  }
 ],
 "metadata": {
  "kernelspec": {
   "display_name": "Python 3 (ipykernel)",
   "language": "python",
   "name": "python3"
  },
  "language_info": {
   "codemirror_mode": {
    "name": "ipython",
    "version": 3
   },
   "file_extension": ".py",
   "mimetype": "text/x-python",
   "name": "python",
   "nbconvert_exporter": "python",
   "pygments_lexer": "ipython3",
   "version": "3.10.5"
  }
 },
 "nbformat": 4,
 "nbformat_minor": 5
}
