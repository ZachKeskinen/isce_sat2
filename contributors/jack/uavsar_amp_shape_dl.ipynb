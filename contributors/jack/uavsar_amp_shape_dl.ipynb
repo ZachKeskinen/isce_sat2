{
 "cells": [
  {
   "cell_type": "code",
   "execution_count": null,
   "id": "f4354530-2f74-4902-89b6-cfe1c94474b9",
   "metadata": {},
   "outputs": [],
   "source": [
    "from uavsar_pytools import UavsarScene\n",
    "from datetime import datetime\n",
    "import asf_search as asf\n",
    "import pandas as pd\n",
    "import logging\n",
    "import requests\n",
    "import os\n",
    "from os.path import join, isdir, isfile, basename, dirname, exists\n",
    "from tqdm.auto import tqdm\n",
    "import logging\n",
    "import time\n",
    "\n",
    "log = logging.getLogger(__name__)\n",
    "logging.basicConfig()\n",
    "log.setLevel(logging.WARNING)"
   ]
  },
  {
   "cell_type": "code",
   "execution_count": null,
   "id": "4ac37123-9414-46cb-99e4-fda162494a9f",
   "metadata": {},
   "outputs": [],
   "source": [
    "# read in data as text file\n",
    "with open('uavsar_campaign_list.txt') as f:\n",
    "    lines = f.readlines()\n",
    "\n",
    "# init empty to loop though\n",
    "uavsar_campaign_list = []\n",
    "\n",
    "# loop to remove /n from text\n",
    "for i in lines:\n",
    "    uavsar_campaign_list.append(i.strip())\n",
    "    \n",
    "uavsar_campaign_list # test print"
   ]
  },
  {
   "cell_type": "code",
   "execution_count": null,
   "id": "30d41c10-930c-4a23-9b6c-a0a1df738126",
   "metadata": {},
   "outputs": [],
   "source": [
    "# define search parameters for sierra flight line\n",
    "start_date = datetime.strptime('2020-02-19 11:00:00', '%Y-%m-%d %H:%M:%S') \n",
    "end_date = datetime.strptime('2020-02-21 11:00:00', '%Y-%m-%d %H:%M:%S') "
   ]
  },
  {
   "cell_type": "code",
   "execution_count": null,
   "id": "4fdffcf0-5da1-401f-9c62-9012d464ef86",
   "metadata": {},
   "outputs": [],
   "source": [
    "uavsar_campaign_list[0]"
   ]
  },
  {
   "cell_type": "code",
   "execution_count": null,
   "id": "f6310929-a643-47e9-93f5-a03ddc4e692c",
   "metadata": {},
   "outputs": [],
   "source": [
    "# search for data\n",
    "results = asf.search(platform = 'UAVSAR',\n",
    "                     processingLevel = (['INTERFEROMETRY_GRD']),\n",
    "                     campaign = uavsar_campaign_list[0],\n",
    "                     start = start_date,\n",
    "                     end = end_date)\n",
    "\n",
    "print(f'{len(results)} product(s) found')"
   ]
  },
  {
   "cell_type": "code",
   "execution_count": null,
   "id": "58ab3e8e-0f58-4131-a0d2-30efb398a184",
   "metadata": {},
   "outputs": [],
   "source": [
    "# pull out the first result from the list and print it\n",
    "first = results[0]\n",
    "print(first.properties)"
   ]
  },
  {
   "cell_type": "code",
   "execution_count": null,
   "id": "83e21dfa-c4b1-47ba-a70e-be7c2802ca47",
   "metadata": {},
   "outputs": [],
   "source": [
    "# define the URLs and print, decribe this functionality is within the ASFproduct class\n",
    "first_url = first.properties['url']\n",
    "print(first_url)"
   ]
  },
  {
   "cell_type": "code",
   "execution_count": null,
   "id": "d35d819a-b706-40da-aeeb-a603fb399ed7",
   "metadata": {},
   "outputs": [],
   "source": [
    "## Example url. Use vertex to find other urls: https://search.asf.alaska.edu/\n",
    "# zip_url = 'https://datapool.asf.alaska.edu/INTERFEROMETRY_GRD/UA/lowman_05208_21019-019_21021-007_0006d_s01_L090_01_int_grd.zip'\n",
    "\n",
    "## Change this variable to a directory you want to download files into\n",
    "image_directory = ''\n",
    "\n",
    "# Instantiating an instance of the UavsarScene class and downloading all images\n",
    "scene = UavsarScene(url = first_url, work_dir= image_directory, pols = ['HH'])\n",
    "scene.url_to_tiffs()"
   ]
  },
  {
   "cell_type": "code",
   "execution_count": null,
   "id": "935e58bb-e621-4776-9b8c-65215d9568ea",
   "metadata": {},
   "outputs": [],
   "source": []
  },
  {
   "cell_type": "code",
   "execution_count": null,
   "id": "319fb1cd-516a-4c16-9768-f55121991b2e",
   "metadata": {},
   "outputs": [],
   "source": []
  },
  {
   "cell_type": "code",
   "execution_count": null,
   "id": "d10e6667-19d0-484b-b51e-bb94ce4992e8",
   "metadata": {},
   "outputs": [],
   "source": []
  },
  {
   "cell_type": "code",
   "execution_count": null,
   "id": "bee30cf4-535a-4e8a-8ca8-e6d0e7897128",
   "metadata": {},
   "outputs": [],
   "source": []
  },
  {
   "cell_type": "code",
   "execution_count": null,
   "id": "a3888529-5fd3-4041-83eb-210dc7dd847e",
   "metadata": {},
   "outputs": [],
   "source": [
    "http://uavsar.asfdaac.alaska.edu/UA_alamos_35915_20008-000_20013-000_0007d_s01_L090_01/alamos_35915_20008-000_20013-000_0007d_s01_L090HH_01.cor.grd"
   ]
  },
  {
   "cell_type": "code",
   "execution_count": null,
   "id": "c0861c91-45c4-4f07-b6dc-fd5db55a5f8c",
   "metadata": {},
   "outputs": [],
   "source": [
    "# search for data\n",
    "results = asf.search(platform = 'UAVSAR',\n",
    "                     processingLevel = (['INTERFEROMETRY_GRD']),\n",
    "                     collectionName = 'Lowman, CO')\n",
    "\n",
    "print(f'{len(results)} product(s) found')"
   ]
  },
  {
   "cell_type": "code",
   "execution_count": null,
   "id": "42cc7976-8dc8-49b1-915e-c4bdf02cae63",
   "metadata": {},
   "outputs": [],
   "source": [
    "## Example url. Use vertex to find other urls: https://search.asf.alaska.edu/\n",
    "zip_url = 'https://datapool.asf.alaska.edu/INTERFEROMETRY_GRD/UA/lowman_05208_21019-019_21021-007_0006d_s01_L090_01_int_grd.zip'\n",
    "\n",
    "## Change this variable to a directory you want to download files into\n",
    "image_directory = '~/directory/to/store/images/'\n",
    "\n",
    "# Instantiating an instance of the UavsarScene class and downloading all images\n",
    "scene = UavsarScene(url = zip_url, work_dir= image_directory)\n",
    "scene.url_to_tiffs()"
   ]
  }
 ],
 "metadata": {
  "kernelspec": {
   "display_name": "Python 3 (ipykernel)",
   "language": "python",
   "name": "python3"
  },
  "language_info": {
   "codemirror_mode": {
    "name": "ipython",
    "version": 3
   },
   "file_extension": ".py",
   "mimetype": "text/x-python",
   "name": "python",
   "nbconvert_exporter": "python",
   "pygments_lexer": "ipython3",
   "version": "3.10.5"
  }
 },
 "nbformat": 4,
 "nbformat_minor": 5
}
