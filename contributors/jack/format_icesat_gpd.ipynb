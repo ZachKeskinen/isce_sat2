{
 "cells": [
  {
   "cell_type": "code",
   "execution_count": 3,
   "id": "e607dc4b-e5c8-47f5-a0a3-62ea00a6deb5",
   "metadata": {},
   "outputs": [],
   "source": [
    "import numpy as np\n",
    "import geopandas as gpd\n",
    "import pickle\n",
    "import pandas as pd\n",
    "import os\n",
    "import glob"
   ]
  },
  {
   "cell_type": "code",
   "execution_count": 1,
   "id": "5cd0c481-d0f8-4619-b44c-888bb041512a",
   "metadata": {},
   "outputs": [],
   "source": [
    "# path to pickles on the hub\n",
    "pkls_dir = '/home/jovyan/isce_sat2/data/sd_pkls/'"
   ]
  },
  {
   "cell_type": "code",
   "execution_count": 8,
   "id": "4fdb8bdb-1c0c-4094-9615-81c979b4e8e9",
   "metadata": {},
   "outputs": [
    {
     "data": {
      "text/plain": [
       "['rockmt_atl06sr.pkl',\n",
       " 'stlake_atl06sr.pkl',\n",
       " 'irnton_atl06sr.pkl',\n",
       " 'donner_atl06sr.pkl',\n",
       " 'sierra_atl06sr.pkl',\n",
       " 'lowman_atl06sr.pkl',\n",
       " 'dorado_atl06sr.pkl',\n",
       " 'silver_atl06sr.pkl',\n",
       " 'peeler_atl06sr.pkl',\n",
       " 'alamos_atl06sr.pkl',\n",
       " 'uticam_atl06sr.pkl',\n",
       " 'fraser_atl06sr.pkl',\n",
       " 'grmesa_atl06sr.pkl']"
      ]
     },
     "execution_count": 8,
     "metadata": {},
     "output_type": "execute_result"
    }
   ],
   "source": [
    "# create list of all pickle files\n",
    "os.chdir(pkls_dir)\n",
    "pkls_path = glob.glob(\"*.pkl\")\n",
    "pkls_path"
   ]
  },
  {
   "cell_type": "code",
   "execution_count": null,
   "id": "d5a53305-3e51-402a-bcf1-c4b9e4f3700a",
   "metadata": {},
   "outputs": [],
   "source": [
    "# loop through list of pickles and add date, lat, lon columns for plotting in qgis\n",
    "\n",
    "for file in pkls_path: \n",
    "        \n",
    "    # create full file path\n",
    "    file_path = os.path.join(pkls_dir + file)\n",
    "    \n",
    "    # load in pickle\n",
    "    df = pickle.load(open(file_path, 'rb'))\n",
    "\n",
    "    # create date col\n",
    "    df['date'] = df.index.date\n",
    "\n",
    "    # create lon col\n",
    "    df['lon'] = df.centroid.x\n",
    "\n",
    "    # create lon col\n",
    "    df['lat'] = df.centroid.y\n",
    "\n",
    "    # set saving dir\n",
    "    os.chdir('/home/jovyan/isce_sat2/contributors/jack/')\n",
    "\n",
    "    # save to csv\n",
    "    df.to_csv(file + '.csv')"
   ]
  },
  {
   "cell_type": "code",
   "execution_count": 23,
   "id": "cda33534-a143-4282-ac50-a49a7b165928",
   "metadata": {},
   "outputs": [
    {
     "name": "stdout",
     "output_type": "stream",
     "text": [
      "/home/jovyan/isce_sat2/contributors/jack\n"
     ]
    }
   ],
   "source": [
    "# set home dir\n",
    "os.chdir('/home/jovyan/isce_sat2/contributors/jack/')\n",
    "!pwd\n",
    "csvs = glob.glob('*.csv')"
   ]
  },
  {
   "cell_type": "code",
   "execution_count": 25,
   "id": "32df89e2-9049-4ee1-88fd-f3d41b796c4f",
   "metadata": {},
   "outputs": [],
   "source": [
    "# filter to 2021 water year\n",
    "for file in csvs:\n",
    "    df = pd.read_csv(file)\n",
    "    new_df = df[(df['date'] > '2020-12-01') & (df['date'] < '2021-04-30')]\n",
    "    new_df.to_csv(file + '_v2.csv')"
   ]
  },
  {
   "cell_type": "code",
   "execution_count": null,
   "id": "9a1ebf7d-8e48-4901-9a88-62e98ade6e5e",
   "metadata": {},
   "outputs": [],
   "source": []
  }
 ],
 "metadata": {
  "kernelspec": {
   "display_name": "Python 3 (ipykernel)",
   "language": "python",
   "name": "python3"
  },
  "language_info": {
   "codemirror_mode": {
    "name": "ipython",
    "version": 3
   },
   "file_extension": ".py",
   "mimetype": "text/x-python",
   "name": "python",
   "nbconvert_exporter": "python",
   "pygments_lexer": "ipython3",
   "version": "3.10.5"
  }
 },
 "nbformat": 4,
 "nbformat_minor": 5
}
