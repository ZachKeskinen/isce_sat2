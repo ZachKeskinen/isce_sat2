{
 "cells": [
  {
   "cell_type": "code",
   "execution_count": 32,
   "id": "f0d3bbbf-f434-42f3-8af7-f4118ab5e009",
   "metadata": {},
   "outputs": [],
   "source": [
    "import rasterio as rio\n",
    "from rasterio.features import dataset_features\n",
    "import geopandas as gpd\n",
    "from shapely.geometry.polygon import orient\n",
    "from shapely.geometry import Polygon\n",
    "from shapely.ops import unary_union\n",
    "\n",
    "def rio_to_exterior(fp, simplify = False):\n",
    "    with rio.open(fp) as src:\n",
    "        shapes = list(dataset_features(src, bidx=1, as_mask=False, geographic=True, band=False))\n",
    "        result = gpd.GeoDataFrame.from_dict(shapes, crs = 'EPSG:4326')\n",
    "        for i in result.index:\n",
    "            result.iloc[i]['geometry'] = Polygon(result.iloc[i]['geometry']['coordinates'][0])\n",
    "        boundary = gpd.GeoSeries(unary_union(result['geometry']))\n",
    "        boundary_gdf = gpd.GeoDataFrame(boundary, columns = ['geometry'], crs = 'EPSG:4326')\n",
    "\n",
    "    if simplify:\n",
    "        boundary_gdf = orient(boundary_gdf.simplify(0.01, preserve_topology=False).loc[0],sign=1.0)\n",
    "    return boundary_gdf"
   ]
  },
  {
   "cell_type": "code",
   "execution_count": 33,
   "id": "5d09d48f-b77f-487d-9c46-9d36ada2bf25",
   "metadata": {},
   "outputs": [
    {
     "ename": "ValueError",
     "evalue": "Assigning CRS to a GeoDataFrame without a geometry column is not supported. Supply geometry using the 'geometry=' keyword argument, or by providing a DataFrame with column name 'geometry'",
     "output_type": "error",
     "traceback": [
      "\u001b[0;31m---------------------------------------------------------------------------\u001b[0m",
      "\u001b[0;31mValueError\u001b[0m                                Traceback (most recent call last)",
      "Input \u001b[0;32mIn [33]\u001b[0m, in \u001b[0;36m<cell line: 1>\u001b[0;34m()\u001b[0m\n\u001b[0;32m----> 1\u001b[0m test_boundary \u001b[38;5;241m=\u001b[39m \u001b[43mrio_to_exterior\u001b[49m\u001b[43m(\u001b[49m\u001b[38;5;124;43m'\u001b[39;49m\u001b[38;5;124;43m/home/jovyan/isce_sat2/contributors/sam/download/fraser_23306_21020-026_21021-004_0006d_s01_L090HH_01.cor.grd.tiff\u001b[39;49m\u001b[38;5;124;43m'\u001b[39;49m\u001b[43m)\u001b[49m\n",
      "Input \u001b[0;32mIn [32]\u001b[0m, in \u001b[0;36mrio_to_exterior\u001b[0;34m(fp, simplify)\u001b[0m\n\u001b[1;32m      9\u001b[0m \u001b[38;5;28;01mwith\u001b[39;00m rio\u001b[38;5;241m.\u001b[39mopen(fp) \u001b[38;5;28;01mas\u001b[39;00m src:\n\u001b[1;32m     10\u001b[0m     shapes \u001b[38;5;241m=\u001b[39m \u001b[38;5;28mlist\u001b[39m(dataset_features(src, bidx\u001b[38;5;241m=\u001b[39m\u001b[38;5;241m1\u001b[39m, as_mask\u001b[38;5;241m=\u001b[39m\u001b[38;5;28;01mFalse\u001b[39;00m, geographic\u001b[38;5;241m=\u001b[39m\u001b[38;5;28;01mTrue\u001b[39;00m, band\u001b[38;5;241m=\u001b[39m\u001b[38;5;28;01mFalse\u001b[39;00m))\n\u001b[0;32m---> 11\u001b[0m     result \u001b[38;5;241m=\u001b[39m \u001b[43mgpd\u001b[49m\u001b[38;5;241;43m.\u001b[39;49m\u001b[43mGeoDataFrame\u001b[49m\u001b[38;5;241;43m.\u001b[39;49m\u001b[43mfrom_dict\u001b[49m\u001b[43m(\u001b[49m\u001b[43mshapes\u001b[49m\u001b[43m,\u001b[49m\u001b[43m \u001b[49m\u001b[43mcrs\u001b[49m\u001b[43m \u001b[49m\u001b[38;5;241;43m=\u001b[39;49m\u001b[43m \u001b[49m\u001b[38;5;124;43m'\u001b[39;49m\u001b[38;5;124;43mEPSG:4326\u001b[39;49m\u001b[38;5;124;43m'\u001b[39;49m\u001b[43m)\u001b[49m\n\u001b[1;32m     12\u001b[0m     \u001b[38;5;28;01mfor\u001b[39;00m i \u001b[38;5;129;01min\u001b[39;00m result\u001b[38;5;241m.\u001b[39mindex:\n\u001b[1;32m     13\u001b[0m         result\u001b[38;5;241m.\u001b[39miloc[i][\u001b[38;5;124m'\u001b[39m\u001b[38;5;124mgeometry\u001b[39m\u001b[38;5;124m'\u001b[39m] \u001b[38;5;241m=\u001b[39m Polygon(result\u001b[38;5;241m.\u001b[39miloc[i][\u001b[38;5;124m'\u001b[39m\u001b[38;5;124mgeometry\u001b[39m\u001b[38;5;124m'\u001b[39m][\u001b[38;5;124m'\u001b[39m\u001b[38;5;124mcoordinates\u001b[39m\u001b[38;5;124m'\u001b[39m][\u001b[38;5;241m0\u001b[39m])\n",
      "File \u001b[0;32m/srv/conda/envs/notebook/lib/python3.10/site-packages/geopandas/geodataframe.py:514\u001b[0m, in \u001b[0;36mGeoDataFrame.from_dict\u001b[0;34m(cls, data, geometry, crs, **kwargs)\u001b[0m\n\u001b[1;32m    492\u001b[0m \u001b[38;5;124;03m\"\"\"\u001b[39;00m\n\u001b[1;32m    493\u001b[0m \u001b[38;5;124;03mConstruct GeoDataFrame from dict of array-like or dicts by\u001b[39;00m\n\u001b[1;32m    494\u001b[0m \u001b[38;5;124;03moverriding DataFrame.from_dict method with geometry and crs\u001b[39;00m\n\u001b[0;32m   (...)\u001b[0m\n\u001b[1;32m    511\u001b[0m \n\u001b[1;32m    512\u001b[0m \u001b[38;5;124;03m\"\"\"\u001b[39;00m\n\u001b[1;32m    513\u001b[0m dataframe \u001b[38;5;241m=\u001b[39m DataFrame\u001b[38;5;241m.\u001b[39mfrom_dict(data, \u001b[38;5;241m*\u001b[39m\u001b[38;5;241m*\u001b[39mkwargs)\n\u001b[0;32m--> 514\u001b[0m \u001b[38;5;28;01mreturn\u001b[39;00m \u001b[38;5;28;43mcls\u001b[39;49m\u001b[43m(\u001b[49m\u001b[43mdataframe\u001b[49m\u001b[43m,\u001b[49m\u001b[43m \u001b[49m\u001b[43mgeometry\u001b[49m\u001b[38;5;241;43m=\u001b[39;49m\u001b[43mgeometry\u001b[49m\u001b[43m,\u001b[49m\u001b[43m \u001b[49m\u001b[43mcrs\u001b[49m\u001b[38;5;241;43m=\u001b[39;49m\u001b[43mcrs\u001b[49m\u001b[43m)\u001b[49m\n",
      "File \u001b[0;32m/srv/conda/envs/notebook/lib/python3.10/site-packages/geopandas/geodataframe.py:188\u001b[0m, in \u001b[0;36mGeoDataFrame.__init__\u001b[0;34m(self, data, geometry, crs, *args, **kwargs)\u001b[0m\n\u001b[1;32m    185\u001b[0m     \u001b[38;5;28mself\u001b[39m\u001b[38;5;241m.\u001b[39mset_geometry(geometry, inplace\u001b[38;5;241m=\u001b[39m\u001b[38;5;28;01mTrue\u001b[39;00m, crs\u001b[38;5;241m=\u001b[39mcrs)\n\u001b[1;32m    187\u001b[0m \u001b[38;5;28;01mif\u001b[39;00m geometry \u001b[38;5;129;01mis\u001b[39;00m \u001b[38;5;28;01mNone\u001b[39;00m \u001b[38;5;129;01mand\u001b[39;00m crs:\n\u001b[0;32m--> 188\u001b[0m     \u001b[38;5;28;01mraise\u001b[39;00m \u001b[38;5;167;01mValueError\u001b[39;00m(\n\u001b[1;32m    189\u001b[0m         \u001b[38;5;124m\"\u001b[39m\u001b[38;5;124mAssigning CRS to a GeoDataFrame without a geometry column is not \u001b[39m\u001b[38;5;124m\"\u001b[39m\n\u001b[1;32m    190\u001b[0m         \u001b[38;5;124m\"\u001b[39m\u001b[38;5;124msupported. Supply geometry using the \u001b[39m\u001b[38;5;124m'\u001b[39m\u001b[38;5;124mgeometry=\u001b[39m\u001b[38;5;124m'\u001b[39m\u001b[38;5;124m keyword argument, \u001b[39m\u001b[38;5;124m\"\u001b[39m\n\u001b[1;32m    191\u001b[0m         \u001b[38;5;124m\"\u001b[39m\u001b[38;5;124mor by providing a DataFrame with column name \u001b[39m\u001b[38;5;124m'\u001b[39m\u001b[38;5;124mgeometry\u001b[39m\u001b[38;5;124m'\u001b[39m\u001b[38;5;124m\"\u001b[39m,\n\u001b[1;32m    192\u001b[0m     )\n",
      "\u001b[0;31mValueError\u001b[0m: Assigning CRS to a GeoDataFrame without a geometry column is not supported. Supply geometry using the 'geometry=' keyword argument, or by providing a DataFrame with column name 'geometry'"
     ]
    }
   ],
   "source": [
    "test_boundary = rio_to_exterior('/home/jovyan/isce_sat2/contributors/sam/download/fraser_23306_21020-026_21021-004_0006d_s01_L090HH_01.cor.grd.tiff')"
   ]
  },
  {
   "cell_type": "code",
   "execution_count": 7,
   "id": "61b084e5-290e-499d-800e-29ba671a6d3f",
   "metadata": {},
   "outputs": [],
   "source": [
    "#from uavsar_pytools.uavsar_tools import grd_tiff_convert"
   ]
  },
  {
   "cell_type": "code",
   "execution_count": 8,
   "id": "2e0e9013-2608-4c30-8787-c5b8381a46b5",
   "metadata": {},
   "outputs": [],
   "source": [
    "import rasterio as rio\n",
    "from rasterio.features import dataset_features\n",
    "import geopandas as gpd\n",
    "from shapely.geometry.polygon import orient\n",
    "from shapely.geometry import Polygon\n",
    "from shapely.ops import unary_union\n"
   ]
  },
  {
   "cell_type": "code",
   "execution_count": null,
   "id": "46e42d5f-abaa-4a33-bf1c-e7c9ea406573",
   "metadata": {},
   "outputs": [],
   "source": [
    "\n",
    "def rio_to_exterior(fp, simplify = False):\n",
    "    with rio.open(fp) as src:\n",
    "        shapes = list(dataset_features(src, bidx=1, as_mask=False, geographic=True, band=False))\n",
    "        result = gpd.GeoDataFrame.from_dict(shapes, crs = 'EPSG:4326')\n",
    "        for i in result.index:\n",
    "            result.iloc[i]['geometry'] = Polygon(result.iloc[i]['geometry']['coordinates'][0])\n",
    "        boundary = gpd.GeoSeries(unary_union(result['geometry']))\n",
    "        boundary_gdf = gpd.GeoDataFrame(boundary, columns = ['geometry'], crs = 'EPSG:4326')\n",
    "\n",
    "    if simplify:\n",
    "        boundary_gdf = orient(boundary_gdf.simplify(0.01, preserve_topology=False).loc[0],sign=1.0)\n",
    "    return boundary_gdf"
   ]
  },
  {
   "cell_type": "code",
   "execution_count": 10,
   "id": "fed46697-b2d5-4295-b016-8708722edd8a",
   "metadata": {},
   "outputs": [
    {
     "name": "stdout",
     "output_type": "stream",
     "text": [
      "[{'type': 'Feature', 'id': 'fraser_23306_21020-026_21021-004_0006d_s01_L090HH_01.cor.grd.tiff:0', 'properties': {'val': 255.0, 'filename': 'fraser_23306_21020-026_21021-004_0006d_s01_L090HH_01.cor.grd.tiff'}, 'bbox': [-106.12287804, 39.65006064, -105.45032424, 40.16465736], 'geometry': {'type': 'Polygon', 'coordinates': [[(-106.12287804, 40.16465736), (-106.12287804, 39.65006064), (-105.45032424, 39.65006064), (-105.45032424, 40.16465736), (-106.12287804, 40.16465736)]]}}]\n"
     ]
    },
    {
     "ename": "ValueError",
     "evalue": "Assigning CRS to a GeoDataFrame without a geometry column is not supported. Supply geometry using the 'geometry=' keyword argument, or by providing a DataFrame with column name 'geometry'",
     "output_type": "error",
     "traceback": [
      "\u001b[0;31m---------------------------------------------------------------------------\u001b[0m",
      "\u001b[0;31mValueError\u001b[0m                                Traceback (most recent call last)",
      "Input \u001b[0;32mIn [10]\u001b[0m, in \u001b[0;36m<cell line: 4>\u001b[0;34m()\u001b[0m\n\u001b[1;32m      5\u001b[0m shapes \u001b[38;5;241m=\u001b[39m \u001b[38;5;28mlist\u001b[39m(dataset_features(src, bidx\u001b[38;5;241m=\u001b[39m\u001b[38;5;241m1\u001b[39m, as_mask\u001b[38;5;241m=\u001b[39m\u001b[38;5;28;01mFalse\u001b[39;00m, geographic\u001b[38;5;241m=\u001b[39m\u001b[38;5;28;01mTrue\u001b[39;00m, band\u001b[38;5;241m=\u001b[39m\u001b[38;5;28;01mFalse\u001b[39;00m))\n\u001b[1;32m      6\u001b[0m \u001b[38;5;28mprint\u001b[39m(shapes)\n\u001b[0;32m----> 8\u001b[0m result \u001b[38;5;241m=\u001b[39m \u001b[43mgpd\u001b[49m\u001b[38;5;241;43m.\u001b[39;49m\u001b[43mGeoDataFrame\u001b[49m\u001b[38;5;241;43m.\u001b[39;49m\u001b[43mfrom_dict\u001b[49m\u001b[43m(\u001b[49m\u001b[43mshapes\u001b[49m\u001b[43m,\u001b[49m\u001b[43m \u001b[49m\u001b[43mcrs\u001b[49m\u001b[43m \u001b[49m\u001b[38;5;241;43m=\u001b[39;49m\u001b[43m \u001b[49m\u001b[38;5;124;43m'\u001b[39;49m\u001b[38;5;124;43mEPSG:4326\u001b[39;49m\u001b[38;5;124;43m'\u001b[39;49m\u001b[43m)\u001b[49m\n\u001b[1;32m      9\u001b[0m \u001b[38;5;28;01mfor\u001b[39;00m i \u001b[38;5;129;01min\u001b[39;00m result\u001b[38;5;241m.\u001b[39mindex:\n\u001b[1;32m     10\u001b[0m     result\u001b[38;5;241m.\u001b[39miloc[i][\u001b[38;5;124m'\u001b[39m\u001b[38;5;124mgeometry\u001b[39m\u001b[38;5;124m'\u001b[39m] \u001b[38;5;241m=\u001b[39m Polygon(result\u001b[38;5;241m.\u001b[39miloc[i][\u001b[38;5;124m'\u001b[39m\u001b[38;5;124mgeometry\u001b[39m\u001b[38;5;124m'\u001b[39m][\u001b[38;5;124m'\u001b[39m\u001b[38;5;124mcoordinates\u001b[39m\u001b[38;5;124m'\u001b[39m][\u001b[38;5;241m0\u001b[39m])\n",
      "File \u001b[0;32m/srv/conda/envs/notebook/lib/python3.10/site-packages/geopandas/geodataframe.py:514\u001b[0m, in \u001b[0;36mGeoDataFrame.from_dict\u001b[0;34m(cls, data, geometry, crs, **kwargs)\u001b[0m\n\u001b[1;32m    492\u001b[0m \u001b[38;5;124;03m\"\"\"\u001b[39;00m\n\u001b[1;32m    493\u001b[0m \u001b[38;5;124;03mConstruct GeoDataFrame from dict of array-like or dicts by\u001b[39;00m\n\u001b[1;32m    494\u001b[0m \u001b[38;5;124;03moverriding DataFrame.from_dict method with geometry and crs\u001b[39;00m\n\u001b[0;32m   (...)\u001b[0m\n\u001b[1;32m    511\u001b[0m \n\u001b[1;32m    512\u001b[0m \u001b[38;5;124;03m\"\"\"\u001b[39;00m\n\u001b[1;32m    513\u001b[0m dataframe \u001b[38;5;241m=\u001b[39m DataFrame\u001b[38;5;241m.\u001b[39mfrom_dict(data, \u001b[38;5;241m*\u001b[39m\u001b[38;5;241m*\u001b[39mkwargs)\n\u001b[0;32m--> 514\u001b[0m \u001b[38;5;28;01mreturn\u001b[39;00m \u001b[38;5;28;43mcls\u001b[39;49m\u001b[43m(\u001b[49m\u001b[43mdataframe\u001b[49m\u001b[43m,\u001b[49m\u001b[43m \u001b[49m\u001b[43mgeometry\u001b[49m\u001b[38;5;241;43m=\u001b[39;49m\u001b[43mgeometry\u001b[49m\u001b[43m,\u001b[49m\u001b[43m \u001b[49m\u001b[43mcrs\u001b[49m\u001b[38;5;241;43m=\u001b[39;49m\u001b[43mcrs\u001b[49m\u001b[43m)\u001b[49m\n",
      "File \u001b[0;32m/srv/conda/envs/notebook/lib/python3.10/site-packages/geopandas/geodataframe.py:188\u001b[0m, in \u001b[0;36mGeoDataFrame.__init__\u001b[0;34m(self, data, geometry, crs, *args, **kwargs)\u001b[0m\n\u001b[1;32m    185\u001b[0m     \u001b[38;5;28mself\u001b[39m\u001b[38;5;241m.\u001b[39mset_geometry(geometry, inplace\u001b[38;5;241m=\u001b[39m\u001b[38;5;28;01mTrue\u001b[39;00m, crs\u001b[38;5;241m=\u001b[39mcrs)\n\u001b[1;32m    187\u001b[0m \u001b[38;5;28;01mif\u001b[39;00m geometry \u001b[38;5;129;01mis\u001b[39;00m \u001b[38;5;28;01mNone\u001b[39;00m \u001b[38;5;129;01mand\u001b[39;00m crs:\n\u001b[0;32m--> 188\u001b[0m     \u001b[38;5;28;01mraise\u001b[39;00m \u001b[38;5;167;01mValueError\u001b[39;00m(\n\u001b[1;32m    189\u001b[0m         \u001b[38;5;124m\"\u001b[39m\u001b[38;5;124mAssigning CRS to a GeoDataFrame without a geometry column is not \u001b[39m\u001b[38;5;124m\"\u001b[39m\n\u001b[1;32m    190\u001b[0m         \u001b[38;5;124m\"\u001b[39m\u001b[38;5;124msupported. Supply geometry using the \u001b[39m\u001b[38;5;124m'\u001b[39m\u001b[38;5;124mgeometry=\u001b[39m\u001b[38;5;124m'\u001b[39m\u001b[38;5;124m keyword argument, \u001b[39m\u001b[38;5;124m\"\u001b[39m\n\u001b[1;32m    191\u001b[0m         \u001b[38;5;124m\"\u001b[39m\u001b[38;5;124mor by providing a DataFrame with column name \u001b[39m\u001b[38;5;124m'\u001b[39m\u001b[38;5;124mgeometry\u001b[39m\u001b[38;5;124m'\u001b[39m\u001b[38;5;124m\"\u001b[39m,\n\u001b[1;32m    192\u001b[0m     )\n",
      "\u001b[0;31mValueError\u001b[0m: Assigning CRS to a GeoDataFrame without a geometry column is not supported. Supply geometry using the 'geometry=' keyword argument, or by providing a DataFrame with column name 'geometry'"
     ]
    }
   ],
   "source": [
    "fp = '/home/jovyan/isce_sat2/contributors/sam/download/fraser_23306_21020-026_21021-004_0006d_s01_L090HH_01.cor.grd.tiff'\n",
    "\n",
    "\n",
    "with rio.open(fp) as src:\n",
    "        shapes = list(dataset_features(src, bidx=1, as_mask=False, geographic=True, band=False))\n",
    "        print(shapes)\n",
    "        \n",
    "        result = gpd.GeoDataFrame.from_dict(shapes, crs = 'EPSG:4326')\n",
    "        for i in result.index:\n",
    "            result.iloc[i]['geometry'] = Polygon(result.iloc[i]['geometry']['coordinates'][0])\n",
    "        boundary = gpd.GeoSeries(unary_union(result['geometry']))\n",
    "        boundary_gdf = gpd.GeoDataFrame(boundary, columns = ['geometry'], crs = 'EPSG:4326')\n"
   ]
  },
  {
   "cell_type": "code",
   "execution_count": 13,
   "id": "6f0f9867-2861-4e5d-8e66-a98522e114f7",
   "metadata": {},
   "outputs": [
    {
     "data": {
      "text/plain": [
       "[{'type': 'Feature',\n",
       "  'id': 'fraser_23306_21020-026_21021-004_0006d_s01_L090HH_01.cor.grd.tiff:0',\n",
       "  'properties': {'val': 255.0,\n",
       "   'filename': 'fraser_23306_21020-026_21021-004_0006d_s01_L090HH_01.cor.grd.tiff'},\n",
       "  'bbox': [-106.12287804, 39.65006064, -105.45032424, 40.16465736],\n",
       "  'geometry': {'type': 'Polygon',\n",
       "   'coordinates': [[(-106.12287804, 40.16465736),\n",
       "     (-106.12287804, 39.65006064),\n",
       "     (-105.45032424, 39.65006064),\n",
       "     (-105.45032424, 40.16465736),\n",
       "     (-106.12287804, 40.16465736)]]}}]"
      ]
     },
     "execution_count": 13,
     "metadata": {},
     "output_type": "execute_result"
    }
   ],
   "source": [
    "with rio.open(fp) as src:\n",
    "    shapes = list(dataset_features(src, bidx=1, as_mask=False, geographic=True, band=False))"
   ]
  },
  {
   "cell_type": "code",
   "execution_count": 31,
   "id": "6c036f80-2e7b-49dc-8e3b-0a870a7975d1",
   "metadata": {},
   "outputs": [
    {
     "ename": "KeyError",
     "evalue": "0",
     "output_type": "error",
     "traceback": [
      "\u001b[0;31m---------------------------------------------------------------------------\u001b[0m",
      "\u001b[0;31mKeyError\u001b[0m                                  Traceback (most recent call last)",
      "Input \u001b[0;32mIn [31]\u001b[0m, in \u001b[0;36m<cell line: 1>\u001b[0;34m()\u001b[0m\n\u001b[0;32m----> 1\u001b[0m \u001b[43mshapes\u001b[49m\u001b[43m[\u001b[49m\u001b[38;5;241;43m0\u001b[39;49m\u001b[43m]\u001b[49m\u001b[43m[\u001b[49m\u001b[38;5;241;43m0\u001b[39;49m\u001b[43m]\u001b[49m\n",
      "\u001b[0;31mKeyError\u001b[0m: 0"
     ]
    }
   ],
   "source": [
    "shapes[0][0]"
   ]
  },
  {
   "cell_type": "code",
   "execution_count": null,
   "id": "7cbf2a04-201c-4145-a97f-dab81dd1970b",
   "metadata": {},
   "outputs": [],
   "source": []
  },
  {
   "cell_type": "code",
   "execution_count": null,
   "id": "923ccc62-f3fa-483f-87b2-3a25ac1fff03",
   "metadata": {},
   "outputs": [],
   "source": []
  }
 ],
 "metadata": {
  "kernelspec": {
   "display_name": "Python 3 (ipykernel)",
   "language": "python",
   "name": "python3"
  },
  "language_info": {
   "codemirror_mode": {
    "name": "ipython",
    "version": 3
   },
   "file_extension": ".py",
   "mimetype": "text/x-python",
   "name": "python",
   "nbconvert_exporter": "python",
   "pygments_lexer": "ipython3",
   "version": "3.10.5"
  }
 },
 "nbformat": 4,
 "nbformat_minor": 5
}
