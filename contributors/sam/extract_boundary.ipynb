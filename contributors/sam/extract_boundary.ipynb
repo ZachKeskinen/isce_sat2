{
 "cells": [
  {
   "cell_type": "code",
   "execution_count": 2,
   "id": "f0d3bbbf-f434-42f3-8af7-f4118ab5e009",
   "metadata": {},
   "outputs": [],
   "source": [
    "import rasterio as rio\n",
    "from rasterio.features import dataset_features\n",
    "import geopandas as gpd\n",
    "from shapely.geometry.polygon import orient\n",
    "from shapely.geometry import Polygon\n",
    "from shapely.ops import unary_union\n",
    "from rasterio.plot import show\n",
    "\n",
    "def rio_to_exterior(fp, simplify = False):\n",
    "    with rio.open(fp) as src:\n",
    "        shapes = list(dataset_features(src, bidx=1, as_mask=False, geographic=True, band=False))\n",
    "        result = gpd.GeoDataFrame.from_dict(shapes, geometry=shapes[0]['geometry'], crs = 'EPSG:4326')\n",
    "        for i in result.index:\n",
    "            result.iloc[i]['geometry'] = Polygon(result.iloc[i]['geometry']['coordinates'][0])\n",
    "        boundary = gpd.GeoSeries(unary_union(result['geometry']))\n",
    "        boundary_gdf = gpd.GeoDataFrame(boundary, columns = ['geometry'], crs = 'EPSG:4326')\n",
    "\n",
    "    if simplify:\n",
    "        boundary_gdf = orient(boundary_gdf.simplify(0.01, preserve_topology=False).loc[0],sign=1.0)\n",
    "    return boundary_gdf"
   ]
  },
  {
   "cell_type": "code",
   "execution_count": null,
   "id": "3ff305cc-01db-47d2-915b-50ef539d4a6b",
   "metadata": {},
   "outputs": [],
   "source": []
  },
  {
   "cell_type": "code",
   "execution_count": 7,
   "id": "d84d7b98-10c0-4782-a912-5033b0daa94c",
   "metadata": {},
   "outputs": [],
   "source": [
    "fp = '/home/jovyan/isce_sat2/contributors/sam/download/fraser_23306_21020-026_21021-004_0006d_s01_L090HH_01.cor.grd.tiff'\n",
    "file = rio.open(fp)\n",
    "shapes = list(dataset_features(file, bidx=1, as_mask=False, geographic=True, band=False))\n",
    "\n"
   ]
  },
  {
   "cell_type": "code",
   "execution_count": null,
   "id": "4e585c60-fc73-465a-b81d-945c540100c0",
   "metadata": {},
   "outputs": [],
   "source": []
  },
  {
   "cell_type": "code",
   "execution_count": null,
   "id": "5be7e1c9-4ae8-41aa-8a41-7a785c4011ae",
   "metadata": {},
   "outputs": [],
   "source": []
  },
  {
   "cell_type": "code",
   "execution_count": null,
   "id": "7b30ba58-6a17-48bb-a868-3cb144e38dd9",
   "metadata": {},
   "outputs": [],
   "source": []
  },
  {
   "cell_type": "code",
   "execution_count": null,
   "id": "04760606-3d22-4b25-83ab-a5892bb6af6a",
   "metadata": {},
   "outputs": [],
   "source": []
  },
  {
   "cell_type": "code",
   "execution_count": 5,
   "id": "a75f7561-c059-4fa9-9bde-3bec8ef6d3bb",
   "metadata": {},
   "outputs": [
    {
     "ename": "ValueError",
     "evalue": "DataFrame constructor not properly called!",
     "output_type": "error",
     "traceback": [
      "\u001b[0;31m---------------------------------------------------------------------------\u001b[0m",
      "\u001b[0;31mValueError\u001b[0m                                Traceback (most recent call last)",
      "Input \u001b[0;32mIn [5]\u001b[0m, in \u001b[0;36m<cell line: 1>\u001b[0;34m()\u001b[0m\n\u001b[0;32m----> 1\u001b[0m \u001b[43mgpd\u001b[49m\u001b[38;5;241;43m.\u001b[39;49m\u001b[43mGeoDataFrame\u001b[49m\u001b[38;5;241;43m.\u001b[39;49m\u001b[43mfrom_dict\u001b[49m\u001b[43m(\u001b[49m\u001b[43mfp\u001b[49m\u001b[43m)\u001b[49m\n",
      "File \u001b[0;32m/srv/conda/envs/notebook/lib/python3.10/site-packages/geopandas/geodataframe.py:513\u001b[0m, in \u001b[0;36mGeoDataFrame.from_dict\u001b[0;34m(cls, data, geometry, crs, **kwargs)\u001b[0m\n\u001b[1;32m    490\u001b[0m \u001b[38;5;129m@classmethod\u001b[39m\n\u001b[1;32m    491\u001b[0m \u001b[38;5;28;01mdef\u001b[39;00m \u001b[38;5;21mfrom_dict\u001b[39m(\u001b[38;5;28mcls\u001b[39m, data, geometry\u001b[38;5;241m=\u001b[39m\u001b[38;5;28;01mNone\u001b[39;00m, crs\u001b[38;5;241m=\u001b[39m\u001b[38;5;28;01mNone\u001b[39;00m, \u001b[38;5;241m*\u001b[39m\u001b[38;5;241m*\u001b[39mkwargs):\n\u001b[1;32m    492\u001b[0m     \u001b[38;5;124;03m\"\"\"\u001b[39;00m\n\u001b[1;32m    493\u001b[0m \u001b[38;5;124;03m    Construct GeoDataFrame from dict of array-like or dicts by\u001b[39;00m\n\u001b[1;32m    494\u001b[0m \u001b[38;5;124;03m    overriding DataFrame.from_dict method with geometry and crs\u001b[39;00m\n\u001b[0;32m   (...)\u001b[0m\n\u001b[1;32m    511\u001b[0m \n\u001b[1;32m    512\u001b[0m \u001b[38;5;124;03m    \"\"\"\u001b[39;00m\n\u001b[0;32m--> 513\u001b[0m     dataframe \u001b[38;5;241m=\u001b[39m \u001b[43mDataFrame\u001b[49m\u001b[38;5;241;43m.\u001b[39;49m\u001b[43mfrom_dict\u001b[49m\u001b[43m(\u001b[49m\u001b[43mdata\u001b[49m\u001b[43m,\u001b[49m\u001b[43m \u001b[49m\u001b[38;5;241;43m*\u001b[39;49m\u001b[38;5;241;43m*\u001b[39;49m\u001b[43mkwargs\u001b[49m\u001b[43m)\u001b[49m\n\u001b[1;32m    514\u001b[0m     \u001b[38;5;28;01mreturn\u001b[39;00m \u001b[38;5;28mcls\u001b[39m(dataframe, geometry\u001b[38;5;241m=\u001b[39mgeometry, crs\u001b[38;5;241m=\u001b[39mcrs)\n",
      "File \u001b[0;32m/srv/conda/envs/notebook/lib/python3.10/site-packages/pandas/core/frame.py:1677\u001b[0m, in \u001b[0;36mDataFrame.from_dict\u001b[0;34m(cls, data, orient, dtype, columns)\u001b[0m\n\u001b[1;32m   1674\u001b[0m     \u001b[38;5;28;01mraise\u001b[39;00m \u001b[38;5;167;01mValueError\u001b[39;00m(\u001b[38;5;124m\"\u001b[39m\u001b[38;5;124monly recognize index or columns for orient\u001b[39m\u001b[38;5;124m\"\u001b[39m)\n\u001b[1;32m   1676\u001b[0m \u001b[38;5;28;01mif\u001b[39;00m orient \u001b[38;5;241m!=\u001b[39m \u001b[38;5;124m\"\u001b[39m\u001b[38;5;124mtight\u001b[39m\u001b[38;5;124m\"\u001b[39m:\n\u001b[0;32m-> 1677\u001b[0m     \u001b[38;5;28;01mreturn\u001b[39;00m \u001b[38;5;28;43mcls\u001b[39;49m\u001b[43m(\u001b[49m\u001b[43mdata\u001b[49m\u001b[43m,\u001b[49m\u001b[43m \u001b[49m\u001b[43mindex\u001b[49m\u001b[38;5;241;43m=\u001b[39;49m\u001b[43mindex\u001b[49m\u001b[43m,\u001b[49m\u001b[43m \u001b[49m\u001b[43mcolumns\u001b[49m\u001b[38;5;241;43m=\u001b[39;49m\u001b[43mcolumns\u001b[49m\u001b[43m,\u001b[49m\u001b[43m \u001b[49m\u001b[43mdtype\u001b[49m\u001b[38;5;241;43m=\u001b[39;49m\u001b[43mdtype\u001b[49m\u001b[43m)\u001b[49m\n\u001b[1;32m   1678\u001b[0m \u001b[38;5;28;01melse\u001b[39;00m:\n\u001b[1;32m   1679\u001b[0m     realdata \u001b[38;5;241m=\u001b[39m data[\u001b[38;5;124m\"\u001b[39m\u001b[38;5;124mdata\u001b[39m\u001b[38;5;124m\"\u001b[39m]\n",
      "File \u001b[0;32m/srv/conda/envs/notebook/lib/python3.10/site-packages/pandas/core/frame.py:756\u001b[0m, in \u001b[0;36mDataFrame.__init__\u001b[0;34m(self, data, index, columns, dtype, copy)\u001b[0m\n\u001b[1;32m    753\u001b[0m \u001b[38;5;66;03m# For data is scalar\u001b[39;00m\n\u001b[1;32m    754\u001b[0m \u001b[38;5;28;01melse\u001b[39;00m:\n\u001b[1;32m    755\u001b[0m     \u001b[38;5;28;01mif\u001b[39;00m index \u001b[38;5;129;01mis\u001b[39;00m \u001b[38;5;28;01mNone\u001b[39;00m \u001b[38;5;129;01mor\u001b[39;00m columns \u001b[38;5;129;01mis\u001b[39;00m \u001b[38;5;28;01mNone\u001b[39;00m:\n\u001b[0;32m--> 756\u001b[0m         \u001b[38;5;28;01mraise\u001b[39;00m \u001b[38;5;167;01mValueError\u001b[39;00m(\u001b[38;5;124m\"\u001b[39m\u001b[38;5;124mDataFrame constructor not properly called!\u001b[39m\u001b[38;5;124m\"\u001b[39m)\n\u001b[1;32m    758\u001b[0m     \u001b[38;5;66;03m# Argument 1 to \"ensure_index\" has incompatible type \"Collection[Any]\";\u001b[39;00m\n\u001b[1;32m    759\u001b[0m     \u001b[38;5;66;03m# expected \"Union[Union[Union[ExtensionArray, ndarray],\u001b[39;00m\n\u001b[1;32m    760\u001b[0m     \u001b[38;5;66;03m# Index, Series], Sequence[Any]]\"\u001b[39;00m\n\u001b[1;32m    761\u001b[0m     index \u001b[38;5;241m=\u001b[39m ensure_index(index)  \u001b[38;5;66;03m# type: ignore[arg-type]\u001b[39;00m\n",
      "\u001b[0;31mValueError\u001b[0m: DataFrame constructor not properly called!"
     ]
    }
   ],
   "source": [
    "gpd.GeoDataFrame.from_dict(fp)"
   ]
  },
  {
   "cell_type": "code",
   "execution_count": 12,
   "id": "fae2dfad-f9a6-4e24-a4a9-cb7e10819403",
   "metadata": {},
   "outputs": [],
   "source": [
    "import numpy as np\n",
    "from rasterio import features\n",
    "fn = fp\n",
    "feat_list = []\n",
    "#ovr_scale = 8\n",
    "dt_fieldnum = 4\n",
    "src = rio.open(fn)\n",
    "a = src.read(1, masked=True)\n",
    "mask = np.ma.getmaskarray(a).astype(np.uint8) - 1\n",
    "shapes = features.shapes(mask, mask=mask, transform=src.transform)\n",
    "geom_list = list(shapes)\n",
    "feat_list.extend([{'properties':{'fn':fn}, 'geometry':i[0]} for i in geom_list])\n",
    "\n",
    "gdf = gpd.GeoDataFrame.from_features(feat_list, crs=src.crs)"
   ]
  },
  {
   "cell_type": "code",
   "execution_count": 13,
   "id": "751d4c79-641b-4162-aba0-ed26cd2a7e53",
   "metadata": {},
   "outputs": [
    {
     "data": {
      "text/html": [
       "<div>\n",
       "<style scoped>\n",
       "    .dataframe tbody tr th:only-of-type {\n",
       "        vertical-align: middle;\n",
       "    }\n",
       "\n",
       "    .dataframe tbody tr th {\n",
       "        vertical-align: top;\n",
       "    }\n",
       "\n",
       "    .dataframe thead th {\n",
       "        text-align: right;\n",
       "    }\n",
       "</style>\n",
       "<table border=\"1\" class=\"dataframe\">\n",
       "  <thead>\n",
       "    <tr style=\"text-align: right;\">\n",
       "      <th></th>\n",
       "      <th>geometry</th>\n",
       "      <th>fn</th>\n",
       "    </tr>\n",
       "  </thead>\n",
       "  <tbody>\n",
       "    <tr>\n",
       "      <th>0</th>\n",
       "      <td>POLYGON ((-106.12288 40.16466, -106.12288 39.6...</td>\n",
       "      <td>/home/jovyan/isce_sat2/contributors/sam/downlo...</td>\n",
       "    </tr>\n",
       "  </tbody>\n",
       "</table>\n",
       "</div>"
      ],
      "text/plain": [
       "                                            geometry  \\\n",
       "0  POLYGON ((-106.12288 40.16466, -106.12288 39.6...   \n",
       "\n",
       "                                                  fn  \n",
       "0  /home/jovyan/isce_sat2/contributors/sam/downlo...  "
      ]
     },
     "execution_count": 13,
     "metadata": {},
     "output_type": "execute_result"
    }
   ],
   "source": [
    "gdf.head()"
   ]
  },
  {
   "cell_type": "code",
   "execution_count": 14,
   "id": "78d2fca2-29ae-4948-b1cc-8b473ad6a052",
   "metadata": {},
   "outputs": [
    {
     "data": {
      "text/plain": [
       "<AxesSubplot:>"
      ]
     },
     "execution_count": 14,
     "metadata": {},
     "output_type": "execute_result"
    },
    {
     "data": {
      "image/png": "[encoded data removed]",
      "text/plain": [
       "<Figure size 432x288 with 1 Axes>"
      ]
     },
     "metadata": {
      "needs_background": "light"
     },
     "output_type": "display_data"
    }
   ],
   "source": [
    "gdf.plot()"
   ]
  },
  {
   "cell_type": "code",
   "execution_count": 18,
   "id": "87f98910-13c5-4a6f-9e19-103b0b75f0e0",
   "metadata": {},
   "outputs": [],
   "source": [
    "with open('extents_test.geojson' , 'w') as file:\n",
    "    file.write(gdf.to_json())"
   ]
  },
  {
   "cell_type": "code",
   "execution_count": null,
   "id": "17cd4bdb-4bfa-47aa-8ad3-d0debe134cf3",
   "metadata": {},
   "outputs": [],
   "source": []
  },
  {
   "cell_type": "code",
   "execution_count": null,
   "id": "e2673099-1c6e-425c-bcdd-4262efc61e33",
   "metadata": {},
   "outputs": [],
   "source": []
  },
  {
   "cell_type": "code",
   "execution_count": 2,
   "id": "4b3de4ee-1955-4937-a329-01c953a1dbc8",
   "metadata": {},
   "outputs": [],
   "source": [
    "import rioxarray as rxa\n",
    "fp = '/home/jovyan/isce_sat2/contributors/sam/download/fraser_23306_21020-026_21021-004_0006d_s01_L090HH_01.cor.grd.tiff'\n",
    "bounds = rxa.open_rasterio(fp).rio.bounds()"
   ]
  },
  {
   "cell_type": "code",
   "execution_count": 72,
   "id": "a977984f-0518-49fd-8bce-fef27759e5d9",
   "metadata": {},
   "outputs": [
    {
     "data": {
      "text/plain": [
       "tuple"
      ]
     },
     "execution_count": 72,
     "metadata": {},
     "output_type": "execute_result"
    }
   ],
   "source": [
    "type(bounds)"
   ]
  },
  {
   "cell_type": "code",
   "execution_count": 76,
   "id": "c2fc9eed-404b-4672-829d-23067f2266bb",
   "metadata": {},
   "outputs": [
    {
     "data": {
      "text/plain": [
       "(-106.12287804, 39.65006063999999, -105.45032424000001, 40.16465736)"
      ]
     },
     "execution_count": 76,
     "metadata": {},
     "output_type": "execute_result"
    }
   ],
   "source": [
    "bounds"
   ]
  },
  {
   "cell_type": "code",
   "execution_count": null,
   "id": "bbd58b77-f456-49b8-bc64-f0cf267ba0a6",
   "metadata": {},
   "outputs": [],
   "source": []
  },
  {
   "cell_type": "code",
   "execution_count": 77,
   "id": "5d09d48f-b77f-487d-9c46-9d36ada2bf25",
   "metadata": {},
   "outputs": [],
   "source": [
    "test_boundary = rio_to_exterior('/home/jovyan/isce_sat2/contributors/sam/download/fraser_23306_21020-026_21021-004_0006d_s01_L090HH_01.cor.grd.tiff')"
   ]
  },
  {
   "cell_type": "code",
   "execution_count": 10,
   "id": "fed46697-b2d5-4295-b016-8708722edd8a",
   "metadata": {},
   "outputs": [
    {
     "name": "stdout",
     "output_type": "stream",
     "text": [
      "[{'type': 'Feature', 'id': 'fraser_23306_21020-026_21021-004_0006d_s01_L090HH_01.cor.grd.tiff:0', 'properties': {'val': 255.0, 'filename': 'fraser_23306_21020-026_21021-004_0006d_s01_L090HH_01.cor.grd.tiff'}, 'bbox': [-106.12287804, 39.65006064, -105.45032424, 40.16465736], 'geometry': {'type': 'Polygon', 'coordinates': [[(-106.12287804, 40.16465736), (-106.12287804, 39.65006064), (-105.45032424, 39.65006064), (-105.45032424, 40.16465736), (-106.12287804, 40.16465736)]]}}]\n"
     ]
    },
    {
     "ename": "ValueError",
     "evalue": "Assigning CRS to a GeoDataFrame without a geometry column is not supported. Supply geometry using the 'geometry=' keyword argument, or by providing a DataFrame with column name 'geometry'",
     "output_type": "error",
     "traceback": [
      "\u001b[0;31m---------------------------------------------------------------------------\u001b[0m",
      "\u001b[0;31mValueError\u001b[0m                                Traceback (most recent call last)",
      "Input \u001b[0;32mIn [10]\u001b[0m, in \u001b[0;36m<cell line: 4>\u001b[0;34m()\u001b[0m\n\u001b[1;32m      5\u001b[0m shapes \u001b[38;5;241m=\u001b[39m \u001b[38;5;28mlist\u001b[39m(dataset_features(src, bidx\u001b[38;5;241m=\u001b[39m\u001b[38;5;241m1\u001b[39m, as_mask\u001b[38;5;241m=\u001b[39m\u001b[38;5;28;01mFalse\u001b[39;00m, geographic\u001b[38;5;241m=\u001b[39m\u001b[38;5;28;01mTrue\u001b[39;00m, band\u001b[38;5;241m=\u001b[39m\u001b[38;5;28;01mFalse\u001b[39;00m))\n\u001b[1;32m      6\u001b[0m \u001b[38;5;28mprint\u001b[39m(shapes)\n\u001b[0;32m----> 8\u001b[0m result \u001b[38;5;241m=\u001b[39m \u001b[43mgpd\u001b[49m\u001b[38;5;241;43m.\u001b[39;49m\u001b[43mGeoDataFrame\u001b[49m\u001b[38;5;241;43m.\u001b[39;49m\u001b[43mfrom_dict\u001b[49m\u001b[43m(\u001b[49m\u001b[43mshapes\u001b[49m\u001b[43m,\u001b[49m\u001b[43m \u001b[49m\u001b[43mcrs\u001b[49m\u001b[43m \u001b[49m\u001b[38;5;241;43m=\u001b[39;49m\u001b[43m \u001b[49m\u001b[38;5;124;43m'\u001b[39;49m\u001b[38;5;124;43mEPSG:4326\u001b[39;49m\u001b[38;5;124;43m'\u001b[39;49m\u001b[43m)\u001b[49m\n\u001b[1;32m      9\u001b[0m \u001b[38;5;28;01mfor\u001b[39;00m i \u001b[38;5;129;01min\u001b[39;00m result\u001b[38;5;241m.\u001b[39mindex:\n\u001b[1;32m     10\u001b[0m     result\u001b[38;5;241m.\u001b[39miloc[i][\u001b[38;5;124m'\u001b[39m\u001b[38;5;124mgeometry\u001b[39m\u001b[38;5;124m'\u001b[39m] \u001b[38;5;241m=\u001b[39m Polygon(result\u001b[38;5;241m.\u001b[39miloc[i][\u001b[38;5;124m'\u001b[39m\u001b[38;5;124mgeometry\u001b[39m\u001b[38;5;124m'\u001b[39m][\u001b[38;5;124m'\u001b[39m\u001b[38;5;124mcoordinates\u001b[39m\u001b[38;5;124m'\u001b[39m][\u001b[38;5;241m0\u001b[39m])\n",
      "File \u001b[0;32m/srv/conda/envs/notebook/lib/python3.10/site-packages/geopandas/geodataframe.py:514\u001b[0m, in \u001b[0;36mGeoDataFrame.from_dict\u001b[0;34m(cls, data, geometry, crs, **kwargs)\u001b[0m\n\u001b[1;32m    492\u001b[0m \u001b[38;5;124;03m\"\"\"\u001b[39;00m\n\u001b[1;32m    493\u001b[0m \u001b[38;5;124;03mConstruct GeoDataFrame from dict of array-like or dicts by\u001b[39;00m\n\u001b[1;32m    494\u001b[0m \u001b[38;5;124;03moverriding DataFrame.from_dict method with geometry and crs\u001b[39;00m\n\u001b[0;32m   (...)\u001b[0m\n\u001b[1;32m    511\u001b[0m \n\u001b[1;32m    512\u001b[0m \u001b[38;5;124;03m\"\"\"\u001b[39;00m\n\u001b[1;32m    513\u001b[0m dataframe \u001b[38;5;241m=\u001b[39m DataFrame\u001b[38;5;241m.\u001b[39mfrom_dict(data, \u001b[38;5;241m*\u001b[39m\u001b[38;5;241m*\u001b[39mkwargs)\n\u001b[0;32m--> 514\u001b[0m \u001b[38;5;28;01mreturn\u001b[39;00m \u001b[38;5;28;43mcls\u001b[39;49m\u001b[43m(\u001b[49m\u001b[43mdataframe\u001b[49m\u001b[43m,\u001b[49m\u001b[43m \u001b[49m\u001b[43mgeometry\u001b[49m\u001b[38;5;241;43m=\u001b[39;49m\u001b[43mgeometry\u001b[49m\u001b[43m,\u001b[49m\u001b[43m \u001b[49m\u001b[43mcrs\u001b[49m\u001b[38;5;241;43m=\u001b[39;49m\u001b[43mcrs\u001b[49m\u001b[43m)\u001b[49m\n",
      "File \u001b[0;32m/srv/conda/envs/notebook/lib/python3.10/site-packages/geopandas/geodataframe.py:188\u001b[0m, in \u001b[0;36mGeoDataFrame.__init__\u001b[0;34m(self, data, geometry, crs, *args, **kwargs)\u001b[0m\n\u001b[1;32m    185\u001b[0m     \u001b[38;5;28mself\u001b[39m\u001b[38;5;241m.\u001b[39mset_geometry(geometry, inplace\u001b[38;5;241m=\u001b[39m\u001b[38;5;28;01mTrue\u001b[39;00m, crs\u001b[38;5;241m=\u001b[39mcrs)\n\u001b[1;32m    187\u001b[0m \u001b[38;5;28;01mif\u001b[39;00m geometry \u001b[38;5;129;01mis\u001b[39;00m \u001b[38;5;28;01mNone\u001b[39;00m \u001b[38;5;129;01mand\u001b[39;00m crs:\n\u001b[0;32m--> 188\u001b[0m     \u001b[38;5;28;01mraise\u001b[39;00m \u001b[38;5;167;01mValueError\u001b[39;00m(\n\u001b[1;32m    189\u001b[0m         \u001b[38;5;124m\"\u001b[39m\u001b[38;5;124mAssigning CRS to a GeoDataFrame without a geometry column is not \u001b[39m\u001b[38;5;124m\"\u001b[39m\n\u001b[1;32m    190\u001b[0m         \u001b[38;5;124m\"\u001b[39m\u001b[38;5;124msupported. Supply geometry using the \u001b[39m\u001b[38;5;124m'\u001b[39m\u001b[38;5;124mgeometry=\u001b[39m\u001b[38;5;124m'\u001b[39m\u001b[38;5;124m keyword argument, \u001b[39m\u001b[38;5;124m\"\u001b[39m\n\u001b[1;32m    191\u001b[0m         \u001b[38;5;124m\"\u001b[39m\u001b[38;5;124mor by providing a DataFrame with column name \u001b[39m\u001b[38;5;124m'\u001b[39m\u001b[38;5;124mgeometry\u001b[39m\u001b[38;5;124m'\u001b[39m\u001b[38;5;124m\"\u001b[39m,\n\u001b[1;32m    192\u001b[0m     )\n",
      "\u001b[0;31mValueError\u001b[0m: Assigning CRS to a GeoDataFrame without a geometry column is not supported. Supply geometry using the 'geometry=' keyword argument, or by providing a DataFrame with column name 'geometry'"
     ]
    }
   ],
   "source": [
    "fp = '/home/jovyan/isce_sat2/contributors/sam/download/fraser_23306_21020-026_21021-004_0006d_s01_L090HH_01.cor.grd.tiff'\n",
    "\n",
    "\n",
    "with rio.open(fp) as src:\n",
    "        shapes = list(dataset_features(src, bidx=1, as_mask=False, geographic=True, band=False))\n",
    "        print(shapes)\n",
    "        \n",
    "        result = gpd.GeoDataFrame.from_dict(shapes, crs = 'EPSG:4326')\n",
    "        for i in result.index:\n",
    "            result.iloc[i]['geometry'] = Polygon(result.iloc[i]['geometry']['coordinates'][0])\n",
    "        boundary = gpd.GeoSeries(unary_union(result['geometry']))\n",
    "        boundary_gdf = gpd.GeoDataFrame(boundary, columns = ['geometry'], crs = 'EPSG:4326')\n"
   ]
  },
  {
   "cell_type": "code",
   "execution_count": 13,
   "id": "6f0f9867-2861-4e5d-8e66-a98522e114f7",
   "metadata": {},
   "outputs": [
    {
     "data": {
      "text/plain": [
       "[{'type': 'Feature',\n",
       "  'id': 'fraser_23306_21020-026_21021-004_0006d_s01_L090HH_01.cor.grd.tiff:0',\n",
       "  'properties': {'val': 255.0,\n",
       "   'filename': 'fraser_23306_21020-026_21021-004_0006d_s01_L090HH_01.cor.grd.tiff'},\n",
       "  'bbox': [-106.12287804, 39.65006064, -105.45032424, 40.16465736],\n",
       "  'geometry': {'type': 'Polygon',\n",
       "   'coordinates': [[(-106.12287804, 40.16465736),\n",
       "     (-106.12287804, 39.65006064),\n",
       "     (-105.45032424, 39.65006064),\n",
       "     (-105.45032424, 40.16465736),\n",
       "     (-106.12287804, 40.16465736)]]}}]"
      ]
     },
     "execution_count": 13,
     "metadata": {},
     "output_type": "execute_result"
    }
   ],
   "source": [
    "with rio.open(fp) as src:\n",
    "    shapes = list(dataset_features(src, bidx=1, as_mask=False, geographic=True, band=False))"
   ]
  },
  {
   "cell_type": "code",
   "execution_count": 38,
   "id": "6c036f80-2e7b-49dc-8e3b-0a870a7975d1",
   "metadata": {},
   "outputs": [
    {
     "ename": "AttributeError",
     "evalue": "'dict' object has no attribute 'split'",
     "output_type": "error",
     "traceback": [
      "\u001b[0;31m---------------------------------------------------------------------------\u001b[0m",
      "\u001b[0;31mAttributeError\u001b[0m                            Traceback (most recent call last)",
      "Input \u001b[0;32mIn [38]\u001b[0m, in \u001b[0;36m<cell line: 1>\u001b[0;34m()\u001b[0m\n\u001b[0;32m----> 1\u001b[0m shapes \u001b[38;5;241m=\u001b[39m \u001b[43mshapes\u001b[49m\u001b[43m[\u001b[49m\u001b[38;5;241;43m0\u001b[39;49m\u001b[43m]\u001b[49m\u001b[38;5;241;43m.\u001b[39;49m\u001b[43msplit\u001b[49m(\u001b[38;5;124m'\u001b[39m\u001b[38;5;124m,\u001b[39m\u001b[38;5;124m'\u001b[39m)\n\u001b[1;32m      2\u001b[0m shapes\n",
      "\u001b[0;31mAttributeError\u001b[0m: 'dict' object has no attribute 'split'"
     ]
    }
   ],
   "source": [
    "shapes = shapes[0].split(',')\n",
    "shapes"
   ]
  },
  {
   "cell_type": "code",
   "execution_count": 40,
   "id": "7cbf2a04-201c-4145-a97f-dab81dd1970b",
   "metadata": {},
   "outputs": [
    {
     "data": {
      "text/plain": [
       "dict"
      ]
     },
     "execution_count": 40,
     "metadata": {},
     "output_type": "execute_result"
    }
   ],
   "source": [
    "type(shapes[0])"
   ]
  },
  {
   "cell_type": "code",
   "execution_count": 41,
   "id": "923ccc62-f3fa-483f-87b2-3a25ac1fff03",
   "metadata": {},
   "outputs": [],
   "source": [
    "dict = shapes[0]"
   ]
  },
  {
   "cell_type": "code",
   "execution_count": 47,
   "id": "001ced7a-609d-485c-8ac7-01276ed31289",
   "metadata": {},
   "outputs": [
    {
     "data": {
      "text/plain": [
       "dict_keys(['type', 'id', 'properties', 'bbox', 'geometry'])"
      ]
     },
     "execution_count": 47,
     "metadata": {},
     "output_type": "execute_result"
    }
   ],
   "source": [
    "dict.keys()"
   ]
  },
  {
   "cell_type": "code",
   "execution_count": 48,
   "id": "fb8298a3-9a7e-400d-b20d-f51fa18d8907",
   "metadata": {},
   "outputs": [
    {
     "data": {
      "text/plain": [
       "{'type': 'Polygon',\n",
       " 'coordinates': [[(-106.12287804, 40.16465736),\n",
       "   (-106.12287804, 39.65006064),\n",
       "   (-105.45032424, 39.65006064),\n",
       "   (-105.45032424, 40.16465736),\n",
       "   (-106.12287804, 40.16465736)]]}"
      ]
     },
     "execution_count": 48,
     "metadata": {},
     "output_type": "execute_result"
    }
   ],
   "source": [
    "\n",
    "dict['geometry']"
   ]
  },
  {
   "cell_type": "code",
   "execution_count": 49,
   "id": "cba8d05b-8fb3-453d-af5e-062fb12f9e42",
   "metadata": {},
   "outputs": [
    {
     "data": {
      "text/plain": [
       "{'type': 'Polygon',\n",
       " 'coordinates': [[(-106.12287804, 40.16465736),\n",
       "   (-106.12287804, 39.65006064),\n",
       "   (-105.45032424, 39.65006064),\n",
       "   (-105.45032424, 40.16465736),\n",
       "   (-106.12287804, 40.16465736)]]}"
      ]
     },
     "execution_count": 49,
     "metadata": {},
     "output_type": "execute_result"
    }
   ],
   "source": [
    "shapes[0]['geometry']"
   ]
  },
  {
   "cell_type": "code",
   "execution_count": 15,
   "id": "d5b85f5a-2149-43e1-be39-4c67fac9a70b",
   "metadata": {},
   "outputs": [
    {
     "data": {
      "image/png": "[encoded data removed]",
      "text/plain": [
       "<Figure size 432x288 with 1 Axes>"
      ]
     },
     "metadata": {
      "needs_background": "light"
     },
     "output_type": "display_data"
    }
   ],
   "source": [
    "with rio.open('/home/jovyan/isce_sat2/contributors/sam/download/fraser_23306_21020-026_21021-004_0006d_s01_L090HH_01.cor.grd.tiff') as f:\n",
    "    show(f)"
   ]
  },
  {
   "cell_type": "code",
   "execution_count": null,
   "id": "8562ef16-8278-4dce-9e94-01e1c16ba877",
   "metadata": {},
   "outputs": [],
   "source": []
  }
 ],
 "metadata": {
  "kernelspec": {
   "display_name": "Python 3 (ipykernel)",
   "language": "python",
   "name": "python3"
  },
  "language_info": {
   "codemirror_mode": {
    "name": "ipython",
    "version": 3
   },
   "file_extension": ".py",
   "mimetype": "text/x-python",
   "name": "python",
   "nbconvert_exporter": "python",
   "pygments_lexer": "ipython3",
   "version": "3.10.5"
  }
 },
 "nbformat": 4,
 "nbformat_minor": 5
}
