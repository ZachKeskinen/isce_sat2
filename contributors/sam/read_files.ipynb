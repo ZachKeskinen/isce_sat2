{
 "cells": [
  {
   "cell_type": "code",
   "execution_count": 1,
   "id": "31f09f36-2176-43a3-84c6-53ea27cc85de",
   "metadata": {},
   "outputs": [],
   "source": [
    "from uavsar_pytools import UavsarScene\n",
    "from datetime import datetime\n",
    "import asf_search as asf\n",
    "import pandas as pd\n",
    "import logging\n",
    "import requests\n",
    "import os\n",
    "from os.path import join, isdir, isfile, basename, dirname, exists\n",
    "from tqdm.auto import tqdm\n",
    "import logging\n",
    "import time\n",
    "\n",
    "log = logging.getLogger(__name__)\n",
    "logging.basicConfig()\n",
    "log.setLevel(logging.WARNING)"
   ]
  },
  {
   "cell_type": "code",
   "execution_count": 2,
   "id": "fa47c3d9-67d1-464f-8886-c9ff78f6c094",
   "metadata": {},
   "outputs": [
    {
     "data": {
      "text/plain": [
       "['Grand Mesa, CO',\n",
       " 'Lowman, CO',\n",
       " 'Fraser, CO',\n",
       " 'Ironton, CO',\n",
       " 'Peeler Peak, CO',\n",
       " 'Rocky Mountains NP, CO',\n",
       " 'Silver City, ID',\n",
       " 'Utica, MT',\n",
       " 'Salt Lake City, UT',\n",
       " 'Los Alamos, NM',\n",
       " 'Eldorado National Forest, CA',\n",
       " 'Donner Memorial State Park, CA',\n",
       " 'Sierra National Forest, CA']"
      ]
     },
     "execution_count": 2,
     "metadata": {},
     "output_type": "execute_result"
    }
   ],
   "source": [
    "# read in data as text file\n",
    "with open('uavsar_campaign_list.txt') as f:\n",
    "    lines = f.readlines()\n",
    "\n",
    "# init empty to loop though\n",
    "uavsar_campaign_list = []\n",
    "\n",
    "# loop to remove /n from text\n",
    "for i in lines:\n",
    "    uavsar_campaign_list.append(i.strip())\n",
    "    \n",
    "uavsar_campaign_list # test print"
   ]
  },
  {
   "cell_type": "code",
   "execution_count": 3,
   "id": "6918942b-f68d-4f42-be6c-14b403e49650",
   "metadata": {},
   "outputs": [],
   "source": [
    "# define search parameters for sierra flight line\n",
    "start_date = datetime.strptime('2020-02-19 11:00:00', '%Y-%m-%d %H:%M:%S') \n",
    "end_date = datetime.strptime('2020-02-21 11:00:00', '%Y-%m-%d %H:%M:%S') "
   ]
  },
  {
   "cell_type": "code",
   "execution_count": 4,
   "id": "04270668-bfcc-4420-9a91-ba27c42a14ad",
   "metadata": {},
   "outputs": [
    {
     "data": {
      "text/plain": [
       "'Grand Mesa, CO'"
      ]
     },
     "execution_count": 4,
     "metadata": {},
     "output_type": "execute_result"
    }
   ],
   "source": [
    "uavsar_campaign_list[0]"
   ]
  },
  {
   "cell_type": "code",
   "execution_count": null,
   "id": "47be00af-7308-4d3d-9dcf-98c66b236a0d",
   "metadata": {},
   "outputs": [],
   "source": [
    "# search for data\n",
    "results = asf.search(platform = 'UAVSAR',\n",
    "                     processingLevel = (['INTERFEROMETRY_GRD']),\n",
    "                     campaign = uavsar_campaign_list[0],\n",
    "                     start = start_date,\n",
    "                     end = end_date)\n",
    "\n",
    "print(f'{len(results)} product(s) found')"
   ]
  },
  {
   "cell_type": "code",
   "execution_count": null,
   "id": "b39bf8bb-a77c-42ec-befa-74a36ccae081",
   "metadata": {},
   "outputs": [],
   "source": [
    "# pull out the first result from the list and print it\n",
    "first = results[0]\n",
    "print(first.properties)"
   ]
  },
  {
   "cell_type": "code",
   "execution_count": null,
   "id": "29412a96-94a7-48b9-8674-1fb08b98fd82",
   "metadata": {},
   "outputs": [],
   "source": [
    "# define the URLs and print, decribe this functionality is within the ASFproduct class\n",
    "first_url = first.properties['url']\n",
    "print(first_url)"
   ]
  },
  {
   "cell_type": "code",
   "execution_count": null,
   "id": "5fc160b0-24be-4209-82ad-062596d4685f",
   "metadata": {},
   "outputs": [],
   "source": [
    "## Example url. Use vertex to find other urls: https://search.asf.alaska.edu/\n",
    "# zip_url = 'https://datapool.asf.alaska.edu/INTERFEROMETRY_GRD/UA/lowman_05208_21019-019_21021-007_0006d_s01_L090_01_int_grd.zip'\n",
    "\n",
    "## Change this variable to a directory you want to download files into\n",
    "image_directory = ''\n",
    "\n",
    "# Instantiating an instance of the UavsarScene class and downloading all images\n",
    "scene = UavsarScene(url = first_url, work_dir= image_directory, pols = ['HH'])\n",
    "scene.url_to_tiffs()"
   ]
  },
  {
   "cell_type": "code",
   "execution_count": null,
   "id": "03d1c079-d9ad-44fc-bb06-d16e3107c398",
   "metadata": {},
   "outputs": [],
   "source": []
  },
  {
   "cell_type": "code",
   "execution_count": null,
   "id": "a170e012-12eb-4505-a316-785868723f20",
   "metadata": {},
   "outputs": [],
   "source": []
  },
  {
   "cell_type": "code",
   "execution_count": null,
   "id": "16c9f782-bdd2-4f88-b39d-f4f96e84a14f",
   "metadata": {},
   "outputs": [],
   "source": []
  },
  {
   "cell_type": "code",
   "execution_count": null,
   "id": "34cc5664-4e32-49f7-a78b-826023ffe3df",
   "metadata": {},
   "outputs": [],
   "source": []
  },
  {
   "cell_type": "code",
   "execution_count": null,
   "id": "e61aadf4-e8c1-4a8f-8590-42e538f8c2c7",
   "metadata": {},
   "outputs": [],
   "source": []
  },
  {
   "cell_type": "code",
   "execution_count": null,
   "id": "d05a14f5-0bd6-4192-af48-a0234b3716bb",
   "metadata": {},
   "outputs": [],
   "source": []
  }
 ],
 "metadata": {
  "kernelspec": {
   "display_name": "Python 3 (ipykernel)",
   "language": "python",
   "name": "python3"
  },
  "language_info": {
   "codemirror_mode": {
    "name": "ipython",
    "version": 3
   },
   "file_extension": ".py",
   "mimetype": "text/x-python",
   "name": "python",
   "nbconvert_exporter": "python",
   "pygments_lexer": "ipython3",
   "version": "3.10.5"
  }
 },
 "nbformat": 4,
 "nbformat_minor": 5
}
