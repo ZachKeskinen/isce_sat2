{
 "cells": [
  {
   "cell_type": "code",
   "execution_count": 8,
   "id": "31f09f36-2176-43a3-84c6-53ea27cc85de",
   "metadata": {},
   "outputs": [
    {
     "data": {
      "text/plain": [
       "['Grand Mesa, CO\\n',\n",
       " 'Lowman, CO\\n',\n",
       " 'Fraser, CO\\n',\n",
       " 'Ironton, CO\\n',\n",
       " 'Peeler Peak, CO\\n',\n",
       " 'Rocky Mountains NP, CO\\n',\n",
       " 'Silver City, ID\\n',\n",
       " 'Utica, MT\\n',\n",
       " 'Salt Lake City, UT\\n',\n",
       " 'Los Alamos, NM\\n',\n",
       " 'Eldorado National Forest, CA\\n',\n",
       " 'Donner Memorial State Park, CA\\n',\n",
       " 'Sierra National Forest, CA']"
      ]
     },
     "execution_count": 8,
     "metadata": {},
     "output_type": "execute_result"
    }
   ],
   "source": [
    "with open(\"uavsar_campaign_list.txt\", \"r\") as f:\n",
    "    lines = f.readlines()\n",
    "\n",
    "lines"
   ]
  },
  {
   "cell_type": "code",
   "execution_count": 12,
   "id": "fa47c3d9-67d1-464f-8886-c9ff78f6c094",
   "metadata": {},
   "outputs": [
    {
     "data": {
      "text/plain": [
       "'Grand Mesa, CO\\n'"
      ]
     },
     "execution_count": 12,
     "metadata": {},
     "output_type": "execute_result"
    }
   ],
   "source": [
    "lines[0]\n",
    "    "
   ]
  },
  {
   "cell_type": "code",
   "execution_count": null,
   "id": "6918942b-f68d-4f42-be6c-14b403e49650",
   "metadata": {},
   "outputs": [],
   "source": []
  }
 ],
 "metadata": {
  "kernelspec": {
   "display_name": "Python 3 (ipykernel)",
   "language": "python",
   "name": "python3"
  },
  "language_info": {
   "codemirror_mode": {
    "name": "ipython",
    "version": 3
   },
   "file_extension": ".py",
   "mimetype": "text/x-python",
   "name": "python",
   "nbconvert_exporter": "python",
   "pygments_lexer": "ipython3",
   "version": "3.10.5"
  }
 },
 "nbformat": 4,
 "nbformat_minor": 5
}
